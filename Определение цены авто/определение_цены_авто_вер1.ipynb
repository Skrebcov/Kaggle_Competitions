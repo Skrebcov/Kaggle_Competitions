{
 "cells": [
  {
   "cell_type": "markdown",
   "id": "7xs8UmHpJ7PT",
   "metadata": {
    "id": "7xs8UmHpJ7PT"
   },
   "source": [
    "# Введение\n",
    "В нашем распоряжении файл с данными об аукционах автомобилей США и Канады. Построим модель обучения которая на осове этих данных будет предсказывать цену БУ авто на рынке.\n",
    "\n",
    "## Данные \n",
    "- Date: Год выпуска автомобиля.\n",
    "- Make: Марка автомобиля.\n",
    "- Model: Модель автомобиля определенной марки.\n",
    "- Trim: Модификации автомобиля.\n",
    "- Body: Тип кузова транспортного средства относится к форме и модели конкретной марки автомобиля.\n",
    "- Transmission: Тип коробки передач.\n",
    "- VIN: Идентификационный номер транспортного средства.\n",
    "- State: Штат регистрации автомобиля\n",
    "- Condition: Состояние автомобилей на момент аукциона.\n",
    "- Odometer: Пробег - расстояние, пройденное автомобилем с момента выпуска.\n",
    "- Color: Цвет кузова автомобиля.\n",
    "- Interior: Цвет салона автомобиля.\n",
    "- Seller: Продавец автомобиля, автосалоны.\n",
    "- sellingprice: цена, по которой автомобиль был продан на аукционе.\n",
    "- saledate: Дата продажи автомобиля.\n",
    "\n",
    "В качестве метрики качества будем использовать MAPE\n",
    "\n",
    "В ходе работы в пройдем основные этапы исследования:\n",
    "-    загрузка и ознакомление с данными,\n",
    "-    предварительная обработка,\n",
    "-    полноценный разведочный анализ,\n",
    "-    разработка новых синтетических признаков,\n",
    "-    проверка на мультиколлинеарность,\n",
    "-    отбор финального набора обучающих признаков,\n",
    "-    выбор и обучение моделей,\n",
    "-    итоговая оценка качества предсказания лучшей модели,\n",
    "-    анализ важности ее признаков.\n",
    "\n",
    "# Предобработка и анализ"
   ]
  },
  {
   "cell_type": "code",
   "execution_count": 1,
   "id": "JoSXUYBTJ7PV",
   "metadata": {
    "execution": {
     "iopub.execute_input": "2023-08-24T10:22:35.296976Z",
     "iopub.status.busy": "2023-08-24T10:22:35.296541Z",
     "iopub.status.idle": "2023-08-24T10:23:24.698840Z",
     "shell.execute_reply": "2023-08-24T10:23:24.697639Z",
     "shell.execute_reply.started": "2023-08-24T10:22:35.296945Z"
    },
    "id": "JoSXUYBTJ7PV",
    "outputId": "061eac8a-5016-4f22-e27f-13366395ced3"
   },
   "outputs": [
    {
     "name": "stdout",
     "output_type": "stream",
     "text": [
      "Requirement already satisfied: scikit-learn==1.1.3 in d:\\anaconda3\\lib\\site-packages (1.1.3)\n",
      "Requirement already satisfied: scipy>=1.3.2 in d:\\anaconda3\\lib\\site-packages (from scikit-learn==1.1.3) (1.10.0)\n",
      "Requirement already satisfied: threadpoolctl>=2.0.0 in d:\\anaconda3\\lib\\site-packages (from scikit-learn==1.1.3) (2.2.0)\n",
      "Requirement already satisfied: joblib>=1.0.0 in d:\\anaconda3\\lib\\site-packages (from scikit-learn==1.1.3) (1.1.1)\n",
      "Requirement already satisfied: numpy>=1.17.3 in d:\\anaconda3\\lib\\site-packages (from scikit-learn==1.1.3) (1.23.5)\n",
      "Requirement already satisfied: phik in d:\\anaconda3\\lib\\site-packages (0.12.3)\n",
      "Requirement already satisfied: matplotlib>=2.2.3 in d:\\anaconda3\\lib\\site-packages (from phik) (3.7.0)\n",
      "Requirement already satisfied: numpy>=1.18.0 in d:\\anaconda3\\lib\\site-packages (from phik) (1.23.5)\n",
      "Requirement already satisfied: joblib>=0.14.1 in d:\\anaconda3\\lib\\site-packages (from phik) (1.1.1)\n",
      "Requirement already satisfied: scipy>=1.5.2 in d:\\anaconda3\\lib\\site-packages (from phik) (1.10.0)\n",
      "Requirement already satisfied: pandas>=0.25.1 in d:\\anaconda3\\lib\\site-packages (from phik) (2.1.0)\n",
      "Requirement already satisfied: fonttools>=4.22.0 in d:\\anaconda3\\lib\\site-packages (from matplotlib>=2.2.3->phik) (4.25.0)\n",
      "Requirement already satisfied: packaging>=20.0 in d:\\anaconda3\\lib\\site-packages (from matplotlib>=2.2.3->phik) (22.0)\n",
      "Requirement already satisfied: contourpy>=1.0.1 in d:\\anaconda3\\lib\\site-packages (from matplotlib>=2.2.3->phik) (1.0.5)\n",
      "Requirement already satisfied: cycler>=0.10 in d:\\anaconda3\\lib\\site-packages (from matplotlib>=2.2.3->phik) (0.11.0)\n",
      "Requirement already satisfied: pillow>=6.2.0 in d:\\anaconda3\\lib\\site-packages (from matplotlib>=2.2.3->phik) (9.4.0)\n",
      "Requirement already satisfied: python-dateutil>=2.7 in d:\\anaconda3\\lib\\site-packages (from matplotlib>=2.2.3->phik) (2.8.2)\n",
      "Requirement already satisfied: kiwisolver>=1.0.1 in d:\\anaconda3\\lib\\site-packages (from matplotlib>=2.2.3->phik) (1.4.4)\n",
      "Requirement already satisfied: pyparsing>=2.3.1 in d:\\anaconda3\\lib\\site-packages (from matplotlib>=2.2.3->phik) (3.0.9)\n",
      "Requirement already satisfied: pytz>=2020.1 in d:\\anaconda3\\lib\\site-packages (from pandas>=0.25.1->phik) (2022.7)\n",
      "Requirement already satisfied: tzdata>=2022.1 in d:\\anaconda3\\lib\\site-packages (from pandas>=0.25.1->phik) (2023.3)\n",
      "Requirement already satisfied: six>=1.5 in d:\\anaconda3\\lib\\site-packages (from python-dateutil>=2.7->matplotlib>=2.2.3->phik) (1.16.0)\n",
      "Requirement already satisfied: catboost in d:\\anaconda3\\lib\\site-packages (1.2)\n",
      "Requirement already satisfied: six in d:\\anaconda3\\lib\\site-packages (from catboost) (1.16.0)\n",
      "Requirement already satisfied: numpy>=1.16.0 in d:\\anaconda3\\lib\\site-packages (from catboost) (1.23.5)\n",
      "Requirement already satisfied: matplotlib in d:\\anaconda3\\lib\\site-packages (from catboost) (3.7.0)\n",
      "Requirement already satisfied: plotly in d:\\anaconda3\\lib\\site-packages (from catboost) (5.9.0)\n",
      "Requirement already satisfied: scipy in d:\\anaconda3\\lib\\site-packages (from catboost) (1.10.0)\n",
      "Requirement already satisfied: graphviz in d:\\anaconda3\\lib\\site-packages (from catboost) (0.20.1)\n",
      "Requirement already satisfied: pandas>=0.24 in d:\\anaconda3\\lib\\site-packages (from catboost) (2.1.0)\n",
      "Requirement already satisfied: pytz>=2020.1 in d:\\anaconda3\\lib\\site-packages (from pandas>=0.24->catboost) (2022.7)\n",
      "Requirement already satisfied: tzdata>=2022.1 in d:\\anaconda3\\lib\\site-packages (from pandas>=0.24->catboost) (2023.3)\n",
      "Requirement already satisfied: python-dateutil>=2.8.2 in d:\\anaconda3\\lib\\site-packages (from pandas>=0.24->catboost) (2.8.2)\n",
      "Requirement already satisfied: contourpy>=1.0.1 in d:\\anaconda3\\lib\\site-packages (from matplotlib->catboost) (1.0.5)\n",
      "Requirement already satisfied: cycler>=0.10 in d:\\anaconda3\\lib\\site-packages (from matplotlib->catboost) (0.11.0)\n",
      "Requirement already satisfied: packaging>=20.0 in d:\\anaconda3\\lib\\site-packages (from matplotlib->catboost) (22.0)\n",
      "Requirement already satisfied: fonttools>=4.22.0 in d:\\anaconda3\\lib\\site-packages (from matplotlib->catboost) (4.25.0)\n",
      "Requirement already satisfied: pyparsing>=2.3.1 in d:\\anaconda3\\lib\\site-packages (from matplotlib->catboost) (3.0.9)\n",
      "Requirement already satisfied: pillow>=6.2.0 in d:\\anaconda3\\lib\\site-packages (from matplotlib->catboost) (9.4.0)\n",
      "Requirement already satisfied: kiwisolver>=1.0.1 in d:\\anaconda3\\lib\\site-packages (from matplotlib->catboost) (1.4.4)\n",
      "Requirement already satisfied: tenacity>=6.2.0 in d:\\anaconda3\\lib\\site-packages (from plotly->catboost) (8.0.1)\n"
     ]
    }
   ],
   "source": [
    "!pip install scikit-learn==1.1.3\n",
    "!pip install phik\n",
    "!pip install catboost"
   ]
  },
  {
   "cell_type": "code",
   "execution_count": 2,
   "id": "Eq9qri9_J7PW",
   "metadata": {
    "execution": {
     "iopub.execute_input": "2023-08-24T10:23:24.702004Z",
     "iopub.status.busy": "2023-08-24T10:23:24.701613Z",
     "iopub.status.idle": "2023-08-24T10:23:26.078344Z",
     "shell.execute_reply": "2023-08-24T10:23:26.077304Z",
     "shell.execute_reply.started": "2023-08-24T10:23:24.701968Z"
    },
    "id": "Eq9qri9_J7PW",
    "outputId": "23b68b93-f0c7-477d-f7df-945cb6e4cabd"
   },
   "outputs": [],
   "source": [
    "import pandas as pd\n",
    "import numpy as np\n",
    "import phik\n",
    "import re\n",
    "from sklearn.model_selection import train_test_split\n",
    "from sklearn.preprocessing import StandardScaler\n",
    "from sklearn.ensemble import RandomForestRegressor\n",
    "from sklearn.preprocessing import OneHotEncoder\n",
    "from sklearn.preprocessing import OrdinalEncoder\n",
    "from sklearn.linear_model import LinearRegression\n",
    "from sklearn.metrics import mean_absolute_percentage_error\n",
    "from sklearn.compose import make_column_transformer\n",
    "from catboost import CatBoostRegressor\n",
    "from sklearn.dummy import DummyRegressor\n",
    "from sklearn.model_selection import GridSearchCV\n",
    "from sklearn.pipeline import Pipeline, make_pipeline\n",
    "import warnings\n",
    "warnings.filterwarnings(\"ignore\", category=FutureWarning)\n",
    "import matplotlib.pyplot as plt"
   ]
  },
  {
   "cell_type": "code",
   "execution_count": 3,
   "id": "C_xJQMoHJ7PX",
   "metadata": {
    "execution": {
     "iopub.execute_input": "2023-08-24T10:31:08.690169Z",
     "iopub.status.busy": "2023-08-24T10:31:08.689691Z",
     "iopub.status.idle": "2023-08-24T10:31:08.895939Z",
     "shell.execute_reply": "2023-08-24T10:31:08.893891Z",
     "shell.execute_reply.started": "2023-08-24T10:31:08.690129Z"
    },
    "id": "C_xJQMoHJ7PX",
    "outputId": "3eb419a1-6cb2-48c0-fb18-0e17815cb56a"
   },
   "outputs": [
    {
     "name": "stdout",
     "output_type": "stream",
     "text": [
      "<class 'pandas.core.frame.DataFrame'>\n",
      "RangeIndex: 440236 entries, 0 to 440235\n",
      "Data columns (total 15 columns):\n",
      " #   Column        Non-Null Count   Dtype  \n",
      "---  ------        --------------   -----  \n",
      " 0   year          440236 non-null  int64  \n",
      " 1   make          432193 non-null  object \n",
      " 2   model         432113 non-null  object \n",
      " 3   trim          431899 non-null  object \n",
      " 4   body          429843 non-null  object \n",
      " 5   transmission  388775 non-null  object \n",
      " 6   vin           440236 non-null  object \n",
      " 7   state         440236 non-null  object \n",
      " 8   condition     430831 non-null  float64\n",
      " 9   odometer      440167 non-null  float64\n",
      " 10  color         439650 non-null  object \n",
      " 11  interior      439650 non-null  object \n",
      " 12  seller        440236 non-null  object \n",
      " 13  sellingprice  440236 non-null  int64  \n",
      " 14  saledate      440236 non-null  object \n",
      "dtypes: float64(2), int64(2), object(11)\n",
      "memory usage: 50.4+ MB\n",
      "None\n",
      "                year      condition       odometer   sellingprice\n",
      "count  440236.000000  430831.000000  440167.000000  440236.000000\n",
      "mean     2010.040101       3.425077   68344.421604   13592.209588\n",
      "std         3.977945       0.949973   53542.203908    9751.479098\n",
      "min      1982.000000       1.000000       1.000000       1.000000\n",
      "25%      2007.000000       2.700000   28258.000000    6900.000000\n",
      "50%      2012.000000       3.600000   52098.000000   12100.000000\n",
      "75%      2013.000000       4.200000   99272.000000   18200.000000\n",
      "max      2015.000000       5.000000  999999.000000  230000.000000\n"
     ]
    },
    {
     "data": {
      "text/html": [
       "<div>\n",
       "<style scoped>\n",
       "    .dataframe tbody tr th:only-of-type {\n",
       "        vertical-align: middle;\n",
       "    }\n",
       "\n",
       "    .dataframe tbody tr th {\n",
       "        vertical-align: top;\n",
       "    }\n",
       "\n",
       "    .dataframe thead th {\n",
       "        text-align: right;\n",
       "    }\n",
       "</style>\n",
       "<table border=\"1\" class=\"dataframe\">\n",
       "  <thead>\n",
       "    <tr style=\"text-align: right;\">\n",
       "      <th></th>\n",
       "      <th>year</th>\n",
       "      <th>make</th>\n",
       "      <th>model</th>\n",
       "      <th>trim</th>\n",
       "      <th>body</th>\n",
       "      <th>transmission</th>\n",
       "      <th>vin</th>\n",
       "      <th>state</th>\n",
       "      <th>condition</th>\n",
       "      <th>odometer</th>\n",
       "      <th>color</th>\n",
       "      <th>interior</th>\n",
       "      <th>seller</th>\n",
       "      <th>sellingprice</th>\n",
       "      <th>saledate</th>\n",
       "    </tr>\n",
       "  </thead>\n",
       "  <tbody>\n",
       "    <tr>\n",
       "      <th>0</th>\n",
       "      <td>2011</td>\n",
       "      <td>Ford</td>\n",
       "      <td>Edge</td>\n",
       "      <td>SEL</td>\n",
       "      <td>suv</td>\n",
       "      <td>automatic</td>\n",
       "      <td>2fmdk3jc4bba41556</td>\n",
       "      <td>md</td>\n",
       "      <td>4.2</td>\n",
       "      <td>111041.0</td>\n",
       "      <td>black</td>\n",
       "      <td>black</td>\n",
       "      <td>santander consumer</td>\n",
       "      <td>12500</td>\n",
       "      <td>Tue Jun 02 2015 02:30:00 GMT-0700 (PDT)</td>\n",
       "    </tr>\n",
       "    <tr>\n",
       "      <th>1</th>\n",
       "      <td>2014</td>\n",
       "      <td>Ford</td>\n",
       "      <td>Fusion</td>\n",
       "      <td>SE</td>\n",
       "      <td>Sedan</td>\n",
       "      <td>automatic</td>\n",
       "      <td>3fa6p0h75er208976</td>\n",
       "      <td>mo</td>\n",
       "      <td>3.5</td>\n",
       "      <td>31034.0</td>\n",
       "      <td>black</td>\n",
       "      <td>black</td>\n",
       "      <td>ars/avis budget group</td>\n",
       "      <td>14500</td>\n",
       "      <td>Wed Feb 25 2015 02:00:00 GMT-0800 (PST)</td>\n",
       "    </tr>\n",
       "    <tr>\n",
       "      <th>2</th>\n",
       "      <td>2012</td>\n",
       "      <td>Nissan</td>\n",
       "      <td>Sentra</td>\n",
       "      <td>2.0 SL</td>\n",
       "      <td>sedan</td>\n",
       "      <td>automatic</td>\n",
       "      <td>3n1ab6ap4cl698412</td>\n",
       "      <td>nj</td>\n",
       "      <td>2.2</td>\n",
       "      <td>35619.0</td>\n",
       "      <td>black</td>\n",
       "      <td>black</td>\n",
       "      <td>nissan-infiniti lt</td>\n",
       "      <td>9100</td>\n",
       "      <td>Wed Jun 10 2015 02:30:00 GMT-0700 (PDT)</td>\n",
       "    </tr>\n",
       "    <tr>\n",
       "      <th>3</th>\n",
       "      <td>2003</td>\n",
       "      <td>HUMMER</td>\n",
       "      <td>H2</td>\n",
       "      <td>Base</td>\n",
       "      <td>suv</td>\n",
       "      <td>automatic</td>\n",
       "      <td>5grgn23u93h101360</td>\n",
       "      <td>tx</td>\n",
       "      <td>2.8</td>\n",
       "      <td>131301.0</td>\n",
       "      <td>gold</td>\n",
       "      <td>beige</td>\n",
       "      <td>wichita falls ford lin inc</td>\n",
       "      <td>13300</td>\n",
       "      <td>Wed Jun 17 2015 03:00:00 GMT-0700 (PDT)</td>\n",
       "    </tr>\n",
       "    <tr>\n",
       "      <th>4</th>\n",
       "      <td>2007</td>\n",
       "      <td>Ford</td>\n",
       "      <td>Fusion</td>\n",
       "      <td>SEL</td>\n",
       "      <td>Sedan</td>\n",
       "      <td>automatic</td>\n",
       "      <td>3fahp08z17r268380</td>\n",
       "      <td>md</td>\n",
       "      <td>2.0</td>\n",
       "      <td>127709.0</td>\n",
       "      <td>black</td>\n",
       "      <td>black</td>\n",
       "      <td>purple heart</td>\n",
       "      <td>1300</td>\n",
       "      <td>Tue Feb 03 2015 04:00:00 GMT-0800 (PST)</td>\n",
       "    </tr>\n",
       "  </tbody>\n",
       "</table>\n",
       "</div>"
      ],
      "text/plain": [
       "   year    make   model    trim   body transmission                vin state  \\\n",
       "0  2011    Ford    Edge     SEL    suv    automatic  2fmdk3jc4bba41556    md   \n",
       "1  2014    Ford  Fusion      SE  Sedan    automatic  3fa6p0h75er208976    mo   \n",
       "2  2012  Nissan  Sentra  2.0 SL  sedan    automatic  3n1ab6ap4cl698412    nj   \n",
       "3  2003  HUMMER      H2    Base    suv    automatic  5grgn23u93h101360    tx   \n",
       "4  2007    Ford  Fusion     SEL  Sedan    automatic  3fahp08z17r268380    md   \n",
       "\n",
       "   condition  odometer  color interior                      seller  \\\n",
       "0        4.2  111041.0  black    black          santander consumer   \n",
       "1        3.5   31034.0  black    black       ars/avis budget group   \n",
       "2        2.2   35619.0  black    black          nissan-infiniti lt   \n",
       "3        2.8  131301.0   gold    beige  wichita falls ford lin inc   \n",
       "4        2.0  127709.0  black    black                purple heart   \n",
       "\n",
       "   sellingprice                                 saledate  \n",
       "0         12500  Tue Jun 02 2015 02:30:00 GMT-0700 (PDT)  \n",
       "1         14500  Wed Feb 25 2015 02:00:00 GMT-0800 (PST)  \n",
       "2          9100  Wed Jun 10 2015 02:30:00 GMT-0700 (PDT)  \n",
       "3         13300  Wed Jun 17 2015 03:00:00 GMT-0700 (PDT)  \n",
       "4          1300  Tue Feb 03 2015 04:00:00 GMT-0800 (PST)  "
      ]
     },
     "execution_count": 3,
     "metadata": {},
     "output_type": "execute_result"
    }
   ],
   "source": [
    "df = pd.read_csv(\"train.csv\")\n",
    "print(df.info())\n",
    "print(df.describe())\n",
    "df.head(5)"
   ]
  },
  {
   "cell_type": "markdown",
   "id": "LPwuvybqJ7PY",
   "metadata": {
    "id": "LPwuvybqJ7PY"
   },
   "source": [
    "Мы видим, что есть некоторые пропуски в значениях, с другой стороны все колонки названы корректо, их значения в удобных для анализа типах. Посмотрим где есть пропуски. Так же мы видим аномальные значения цены в 1 единицу и пробег. Нужно поработать с пропусками и выбросами и заглавными словами."
   ]
  },
  {
   "cell_type": "code",
   "execution_count": 4,
   "id": "DnlCdOFjJ7PY",
   "metadata": {
    "execution": {
     "iopub.execute_input": "2023-08-24T10:31:23.410703Z",
     "iopub.status.busy": "2023-08-24T10:31:23.410269Z",
     "iopub.status.idle": "2023-08-24T10:31:25.123911Z",
     "shell.execute_reply": "2023-08-24T10:31:25.122577Z",
     "shell.execute_reply.started": "2023-08-24T10:31:23.410669Z"
    },
    "id": "DnlCdOFjJ7PY",
    "outputId": "0cdc939e-ba5d-4763-9a42-97320812bcd2"
   },
   "outputs": [
    {
     "data": {
      "text/plain": [
       "year                0\n",
       "make             8043\n",
       "model            8123\n",
       "trim             8337\n",
       "body            10393\n",
       "transmission    51461\n",
       "vin                 0\n",
       "state               0\n",
       "condition        9405\n",
       "odometer           69\n",
       "color             586\n",
       "interior          586\n",
       "seller              0\n",
       "sellingprice        0\n",
       "saledate            0\n",
       "dtype: int64"
      ]
     },
     "execution_count": 4,
     "metadata": {},
     "output_type": "execute_result"
    }
   ],
   "source": [
    "df.isna().sum()"
   ]
  },
  {
   "cell_type": "code",
   "execution_count": 5,
   "id": "hT6Z9nDtJ7PY",
   "metadata": {
    "execution": {
     "iopub.execute_input": "2023-08-24T10:31:28.084807Z",
     "iopub.status.busy": "2023-08-24T10:31:28.084361Z",
     "iopub.status.idle": "2023-08-24T10:31:29.107310Z",
     "shell.execute_reply": "2023-08-24T10:31:29.106084Z",
     "shell.execute_reply.started": "2023-08-24T10:31:28.084771Z"
    },
    "id": "hT6Z9nDtJ7PY"
   },
   "outputs": [
    {
     "name": "stderr",
     "output_type": "stream",
     "text": [
      "C:\\Users\\Artem\\AppData\\Local\\Temp\\ipykernel_1504\\1073586907.py:1: UserWarning: Could not infer format, so each element will be parsed individually, falling back to `dateutil`. To ensure parsing is consistent and as-expected, please specify a format.\n",
      "  df['saledate'] = pd.to_datetime(df['saledate'], utc=True) # преобразуем даты в нужный вид\n"
     ]
    }
   ],
   "source": [
    "df['saledate'] = pd.to_datetime(df['saledate'], utc=True) # преобразуем даты в нужный вид"
   ]
  },
  {
   "cell_type": "code",
   "execution_count": 6,
   "id": "ylc5GAxhJ7PY",
   "metadata": {
    "execution": {
     "iopub.execute_input": "2023-08-24T10:31:31.377932Z",
     "iopub.status.busy": "2023-08-24T10:31:31.377051Z",
     "iopub.status.idle": "2023-08-24T10:31:31.392278Z",
     "shell.execute_reply": "2023-08-24T10:31:31.391145Z",
     "shell.execute_reply.started": "2023-08-24T10:31:31.377891Z"
    },
    "id": "ylc5GAxhJ7PY",
    "outputId": "bde37466-2d5b-4523-cf94-653bbba89ef5"
   },
   "outputs": [
    {
     "data": {
      "text/plain": [
       "year\n",
       "2012    80625\n",
       "2013    77566\n",
       "2014    64225\n",
       "2011    38115\n",
       "2008    24646\n",
       "2007    24152\n",
       "2006    21118\n",
       "2010    20647\n",
       "2005    16794\n",
       "2009    16064\n",
       "2004    13658\n",
       "2003    10512\n",
       "2002     7726\n",
       "2015     7462\n",
       "2001     5147\n",
       "2000     4161\n",
       "1999     2658\n",
       "1998     1747\n",
       "1997     1224\n",
       "1996      683\n",
       "1995      567\n",
       "1994      319\n",
       "1993      168\n",
       "1992      103\n",
       "1991       56\n",
       "1990       38\n",
       "1989       15\n",
       "1988       11\n",
       "1985       10\n",
       "1986        8\n",
       "1987        5\n",
       "1984        4\n",
       "1983        1\n",
       "1982        1\n",
       "Name: count, dtype: int64"
      ]
     },
     "execution_count": 6,
     "metadata": {},
     "output_type": "execute_result"
    }
   ],
   "source": [
    "df['year'].value_counts()"
   ]
  },
  {
   "cell_type": "markdown",
   "id": "J2foJuuRJ7PY",
   "metadata": {
    "id": "J2foJuuRJ7PY"
   },
   "source": [
    "Мы видим что все авто находятся в рамках 30 лет, что удовлетваряет требованию эксплуатации"
   ]
  },
  {
   "cell_type": "code",
   "execution_count": 7,
   "id": "YDfIY_ZJJ7PZ",
   "metadata": {
    "execution": {
     "iopub.execute_input": "2023-08-24T10:31:47.920239Z",
     "iopub.status.busy": "2023-08-24T10:31:47.919781Z",
     "iopub.status.idle": "2023-08-24T10:31:48.008521Z",
     "shell.execute_reply": "2023-08-24T10:31:48.007154Z",
     "shell.execute_reply.started": "2023-08-24T10:31:47.920204Z"
    },
    "id": "YDfIY_ZJJ7PZ",
    "outputId": "832adbe3-05ba-418a-c38d-8235e606fc92"
   },
   "outputs": [
    {
     "data": {
      "text/plain": [
       "0"
      ]
     },
     "execution_count": 7,
     "metadata": {},
     "output_type": "execute_result"
    }
   ],
   "source": [
    "df['vin'].duplicated().sum() # нет дубликатов уникальных номеров"
   ]
  },
  {
   "cell_type": "code",
   "execution_count": 8,
   "id": "pJKe8M4KJ7PZ",
   "metadata": {
    "execution": {
     "iopub.execute_input": "2023-08-24T10:31:50.575628Z",
     "iopub.status.busy": "2023-08-24T10:31:50.575165Z",
     "iopub.status.idle": "2023-08-24T10:31:50.662057Z",
     "shell.execute_reply": "2023-08-24T10:31:50.660494Z",
     "shell.execute_reply.started": "2023-08-24T10:31:50.575591Z"
    },
    "id": "pJKe8M4KJ7PZ",
    "outputId": "ef9fb322-59c9-4039-f2a8-c53b193c14ec"
   },
   "outputs": [
    {
     "data": {
      "text/plain": [
       "make\n",
       "Ford         73708\n",
       "Chevrolet    47492\n",
       "Nissan       42811\n",
       "Toyota       31630\n",
       "Dodge        24103\n",
       "             ...  \n",
       "Daewoo           1\n",
       "dodge tk         1\n",
       "mazda tk         1\n",
       "dot              1\n",
       "airstream        1\n",
       "Name: count, Length: 92, dtype: int64"
      ]
     },
     "execution_count": 8,
     "metadata": {},
     "output_type": "execute_result"
    }
   ],
   "source": [
    "df[\"make\"].value_counts()"
   ]
  },
  {
   "cell_type": "code",
   "execution_count": 9,
   "id": "0oiLRt5yJ7PZ",
   "metadata": {
    "execution": {
     "iopub.execute_input": "2023-08-24T10:31:58.041539Z",
     "iopub.status.busy": "2023-08-24T10:31:58.041080Z",
     "iopub.status.idle": "2023-08-24T10:31:58.131657Z",
     "shell.execute_reply": "2023-08-24T10:31:58.129657Z",
     "shell.execute_reply.started": "2023-08-24T10:31:58.041491Z"
    },
    "id": "0oiLRt5yJ7PZ",
    "outputId": "7b8a5f92-013d-4842-cc30-b94c6086bad1"
   },
   "outputs": [
    {
     "data": {
      "text/plain": [
       "model\n",
       "Altima           15454\n",
       "F-150            11408\n",
       "Fusion           10244\n",
       "Camry             9996\n",
       "Escape            9419\n",
       "                 ...  \n",
       "Civic del Sol        1\n",
       "Tempo                1\n",
       "Regency              1\n",
       "8 Series             1\n",
       "g500                 1\n",
       "Name: count, Length: 959, dtype: int64"
      ]
     },
     "execution_count": 9,
     "metadata": {},
     "output_type": "execute_result"
    }
   ],
   "source": [
    "df[\"model\"].value_counts()"
   ]
  },
  {
   "cell_type": "markdown",
   "id": "gqFlYcOuJ7PZ",
   "metadata": {
    "id": "gqFlYcOuJ7PZ"
   },
   "source": [
    "Мы видим что марка и модель отсуствуют в данных практически в одинаковом количестве. В целом марка автомобиля слишком важный параметр чтобы просто игнорировать его отсуствие. У нас доступны vin номера автомобилей. Я попробую подгрузить модели по уникальным номерам из открытых источников."
   ]
  },
  {
   "cell_type": "code",
   "execution_count": 10,
   "id": "H0XBklpFJ7PZ",
   "metadata": {
    "execution": {
     "iopub.execute_input": "2023-08-24T10:32:47.783012Z",
     "iopub.status.busy": "2023-08-24T10:32:47.782415Z",
     "iopub.status.idle": "2023-08-24T10:32:47.852969Z",
     "shell.execute_reply": "2023-08-24T10:32:47.851867Z",
     "shell.execute_reply.started": "2023-08-24T10:32:47.782957Z"
    },
    "id": "H0XBklpFJ7PZ"
   },
   "outputs": [],
   "source": [
    "df_vin = df.query(\"model.isna()\")['vin'] # создам срез по вин номерам в которых отсуствуюм модели автомобилей"
   ]
  },
  {
   "cell_type": "code",
   "execution_count": 11,
   "id": "hemNRFYHJ7Pa",
   "metadata": {
    "execution": {
     "iopub.execute_input": "2023-08-24T10:32:53.238713Z",
     "iopub.status.busy": "2023-08-24T10:32:53.238267Z",
     "iopub.status.idle": "2023-08-24T10:32:53.249939Z",
     "shell.execute_reply": "2023-08-24T10:32:53.248618Z",
     "shell.execute_reply.started": "2023-08-24T10:32:53.238679Z"
    },
    "id": "hemNRFYHJ7Pa"
   },
   "outputs": [],
   "source": [
    "API_URL = 'https://vpic.nhtsa.dot.gov/api/vehicles/DecodeVINValuesBatch/'\n",
    "\n",
    "def fetch_vin_data(vin_list, dryrun=False):\n",
    "    delimited_vin_list = ';'.join(vin_list)\n",
    "    post_fields = { 'format': 'json', 'data': delimited_vin_list }\n",
    "    if dryrun:\n",
    "        print(\"Querying for\", delimited_vin_list)\n",
    "        return pd.DataFrame([])\n",
    "    else:\n",
    "        response = requests.post(API_URL, data=post_fields)\n",
    "        return pd.DataFrame(response.json()['Results'])\n",
    "\n",
    "numbers_per_batch = 1000\n",
    "start = 8200\n",
    "total = len(df_vin)\n",
    "\n",
    "# в базе данных ограничения, придется качать по 50 штук\n",
    "\n",
    "offset = start\n",
    "error_offsets = []\n",
    "while offset <= (start + total):\n",
    "    try:\n",
    "        filename = f\"vin_cache___/{start}-{offset}-{total}-{numbers_per_batch}.csv\"\n",
    "        if not os.path.exists(filename):\n",
    "            time.sleep(1)\n",
    "            print(f\"\\rQuerying {offset - start} / {total- start} - batch of {numbers_per_batch} \", end='')\n",
    "            current = df_vin[offset:offset+numbers_per_batch]\n",
    "\n",
    "            result = fetch_vin_data(current)\n",
    "            result.to_csv(filename, index=False)\n",
    "        else:\n",
    "            print(f\"\\rSkipping {offset - start} / {total - start} - batch of {numbers_per_batch} \", end='')\n",
    "    except:\n",
    "        pass\n",
    "    offset = offset + numbers_per_batch"
   ]
  },
  {
   "cell_type": "code",
   "execution_count": 12,
   "id": "swp33XAQJ7Pa",
   "metadata": {
    "execution": {
     "iopub.execute_input": "2023-08-24T10:33:11.130519Z",
     "iopub.status.busy": "2023-08-24T10:33:11.129967Z",
     "iopub.status.idle": "2023-08-24T10:33:11.332713Z",
     "shell.execute_reply": "2023-08-24T10:33:11.330808Z",
     "shell.execute_reply.started": "2023-08-24T10:33:11.130464Z"
    },
    "id": "swp33XAQJ7Pa",
    "outputId": "94d42a57-29bd-43d9-943b-37e479a36eaa"
   },
   "outputs": [
    {
     "name": "stdout",
     "output_type": "stream",
     "text": [
      "<class 'pandas.core.frame.DataFrame'>\n",
      "RangeIndex: 8123 entries, 0 to 8122\n",
      "Columns: 150 entries, ABS to Windows\n",
      "dtypes: float64(87), int64(2), object(61)\n",
      "memory usage: 9.3+ MB\n"
     ]
    }
   ],
   "source": [
    "new_vin_dates = pd.read_csv(\"new_vin_dates.csv\")\n",
    "new_vin_dates.info() # проверяем, все получилось"
   ]
  },
  {
   "cell_type": "code",
   "execution_count": 13,
   "id": "RDK2GM2HJ7Pa",
   "metadata": {
    "execution": {
     "iopub.execute_input": "2023-08-24T10:36:18.196113Z",
     "iopub.status.busy": "2023-08-24T10:36:18.195677Z",
     "iopub.status.idle": "2023-08-24T10:36:18.237904Z",
     "shell.execute_reply": "2023-08-24T10:36:18.236187Z",
     "shell.execute_reply.started": "2023-08-24T10:36:18.196080Z"
    },
    "id": "RDK2GM2HJ7Pa",
    "outputId": "7701acb6-1824-4831-868a-d377d641a67b"
   },
   "outputs": [
    {
     "data": {
      "text/plain": [
       "54"
      ]
     },
     "execution_count": 13,
     "metadata": {},
     "output_type": "execute_result"
    }
   ],
   "source": [
    "new_vin_dates['Model'].isnull().sum() # получили 54 пропуска вместо 8123"
   ]
  },
  {
   "cell_type": "code",
   "execution_count": 14,
   "id": "Rscq3Sb8J7Pa",
   "metadata": {
    "execution": {
     "iopub.execute_input": "2023-08-24T10:36:22.177342Z",
     "iopub.status.busy": "2023-08-24T10:36:22.176895Z",
     "iopub.status.idle": "2023-08-24T10:36:22.184669Z",
     "shell.execute_reply": "2023-08-24T10:36:22.183333Z",
     "shell.execute_reply.started": "2023-08-24T10:36:22.177309Z"
    },
    "id": "Rscq3Sb8J7Pa"
   },
   "outputs": [],
   "source": [
    "df_vin_frame =  df_vin.to_frame()\n",
    "df_vin_frame = df_vin_frame.reset_index(drop=True) # сбросим индексы для корректного объединения"
   ]
  },
  {
   "cell_type": "code",
   "execution_count": 15,
   "id": "DQKijJxHJ7Pb",
   "metadata": {
    "execution": {
     "iopub.execute_input": "2023-08-12T08:21:14.796401Z",
     "iopub.status.busy": "2023-08-12T08:21:14.796090Z",
     "iopub.status.idle": "2023-08-12T08:21:14.820063Z",
     "shell.execute_reply": "2023-08-12T08:21:14.818382Z",
     "shell.execute_reply.started": "2023-08-12T08:21:14.796373Z"
    },
    "id": "DQKijJxHJ7Pb",
    "outputId": "39ebb111-61cf-49f7-e8cf-32ad6701fe56"
   },
   "outputs": [
    {
     "data": {
      "text/html": [
       "<div>\n",
       "<style scoped>\n",
       "    .dataframe tbody tr th:only-of-type {\n",
       "        vertical-align: middle;\n",
       "    }\n",
       "\n",
       "    .dataframe tbody tr th {\n",
       "        vertical-align: top;\n",
       "    }\n",
       "\n",
       "    .dataframe thead th {\n",
       "        text-align: right;\n",
       "    }\n",
       "</style>\n",
       "<table border=\"1\" class=\"dataframe\">\n",
       "  <thead>\n",
       "    <tr style=\"text-align: right;\">\n",
       "      <th></th>\n",
       "      <th>Model</th>\n",
       "      <th>vin</th>\n",
       "    </tr>\n",
       "  </thead>\n",
       "  <tbody>\n",
       "    <tr>\n",
       "      <th>0</th>\n",
       "      <td>Tundra</td>\n",
       "      <td>5tfbv54157x019560</td>\n",
       "    </tr>\n",
       "    <tr>\n",
       "      <th>1</th>\n",
       "      <td>Mazda3</td>\n",
       "      <td>jm1bk34l671745431</td>\n",
       "    </tr>\n",
       "    <tr>\n",
       "      <th>2</th>\n",
       "      <td>E-150</td>\n",
       "      <td>1fdne1bw5bda64735</td>\n",
       "    </tr>\n",
       "    <tr>\n",
       "      <th>3</th>\n",
       "      <td>Uplander</td>\n",
       "      <td>1gbdv13wx8d142776</td>\n",
       "    </tr>\n",
       "    <tr>\n",
       "      <th>4</th>\n",
       "      <td>HHR</td>\n",
       "      <td>3gnda13d36s611801</td>\n",
       "    </tr>\n",
       "  </tbody>\n",
       "</table>\n",
       "</div>"
      ],
      "text/plain": [
       "      Model                vin\n",
       "0    Tundra  5tfbv54157x019560\n",
       "1    Mazda3  jm1bk34l671745431\n",
       "2     E-150  1fdne1bw5bda64735\n",
       "3  Uplander  1gbdv13wx8d142776\n",
       "4       HHR  3gnda13d36s611801"
      ]
     },
     "execution_count": 15,
     "metadata": {},
     "output_type": "execute_result"
    }
   ],
   "source": [
    "combined_data = new_vin_dates[['VehicleDescriptor', 'Model']].join(df_vin_frame)\n",
    "combined_data[['Model', 'vin']].head(5) # объединение удалось. Модели соотвествуют старым винам"
   ]
  },
  {
   "cell_type": "code",
   "execution_count": 16,
   "id": "v98QpgapJ7Pb",
   "metadata": {
    "execution": {
     "iopub.execute_input": "2023-08-12T08:21:14.822287Z",
     "iopub.status.busy": "2023-08-12T08:21:14.821357Z",
     "iopub.status.idle": "2023-08-12T08:21:15.251967Z",
     "shell.execute_reply": "2023-08-12T08:21:15.250604Z",
     "shell.execute_reply.started": "2023-08-12T08:21:14.822255Z"
    },
    "id": "v98QpgapJ7Pb",
    "outputId": "804c7803-ce34-4c7a-d679-1577cc8def53"
   },
   "outputs": [
    {
     "data": {
      "text/plain": [
       "54"
      ]
     },
     "execution_count": 16,
     "metadata": {},
     "output_type": "execute_result"
    }
   ],
   "source": [
    "df = df.merge(combined_data[['Model', 'vin']], on='vin', how='left') # объединяем датафреймы на основе столбца 'vin' так как он уникальный\n",
    "df['model'] = df['model'].fillna(df['Model']) # заполним пропущенные model значениями Model\n",
    "df = df.drop('Model', axis=1) # удалим Model\n",
    "df['model'].isna().sum() # мы нашли почти все утерянные модели авто"
   ]
  },
  {
   "cell_type": "code",
   "execution_count": 17,
   "id": "pyot2d1QJ7Pb",
   "metadata": {
    "execution": {
     "iopub.execute_input": "2023-08-12T08:21:15.253845Z",
     "iopub.status.busy": "2023-08-12T08:21:15.253524Z",
     "iopub.status.idle": "2023-08-12T08:21:15.384778Z",
     "shell.execute_reply": "2023-08-12T08:21:15.383337Z",
     "shell.execute_reply.started": "2023-08-12T08:21:15.253818Z"
    },
    "id": "pyot2d1QJ7Pb",
    "outputId": "63f85850-84ed-45e1-9c15-e1384c318276"
   },
   "outputs": [
    {
     "data": {
      "text/plain": [
       "model\n",
       "altima           15454\n",
       "f-150            11598\n",
       "fusion           10247\n",
       "camry            10001\n",
       "escape            9519\n",
       "                 ...  \n",
       "civic del sol        1\n",
       "tempo                1\n",
       "cj-7                 1\n",
       "rally                1\n",
       "g500                 1\n",
       "Name: count, Length: 880, dtype: int64"
      ]
     },
     "execution_count": 17,
     "metadata": {},
     "output_type": "execute_result"
    }
   ],
   "source": [
    "df['model'] = df['model'].str.lower() # приведем все названия моделей к нижнему реистру\n",
    "df[\"model\"].value_counts() # мы получили меньше уникальных значений"
   ]
  },
  {
   "cell_type": "code",
   "execution_count": 18,
   "id": "KswO3PifJ7Pb",
   "metadata": {
    "execution": {
     "iopub.execute_input": "2023-08-12T08:21:15.386470Z",
     "iopub.status.busy": "2023-08-12T08:21:15.386155Z",
     "iopub.status.idle": "2023-08-12T08:21:15.416267Z",
     "shell.execute_reply": "2023-08-12T08:21:15.415348Z",
     "shell.execute_reply.started": "2023-08-12T08:21:15.386443Z"
    },
    "id": "KswO3PifJ7Pb"
   },
   "outputs": [],
   "source": [
    "df['model'] = df['model'].fillna('other') # заменим пропуски на нейтральное значение"
   ]
  },
  {
   "cell_type": "code",
   "execution_count": 19,
   "id": "-MdLvUk3J7Pb",
   "metadata": {
    "execution": {
     "iopub.execute_input": "2023-08-12T08:21:15.418135Z",
     "iopub.status.busy": "2023-08-12T08:21:15.417770Z",
     "iopub.status.idle": "2023-08-12T08:21:15.979010Z",
     "shell.execute_reply": "2023-08-12T08:21:15.977416Z",
     "shell.execute_reply.started": "2023-08-12T08:21:15.418104Z"
    },
    "id": "-MdLvUk3J7Pb",
    "outputId": "00793836-f6e7-4876-d4aa-40076d66b287",
    "scrolled": true
   },
   "outputs": [
    {
     "data": {
      "text/plain": [
       "year                0\n",
       "make             8043\n",
       "model               0\n",
       "trim             8337\n",
       "body            10393\n",
       "transmission    51461\n",
       "vin                 0\n",
       "state               0\n",
       "condition        9405\n",
       "odometer           69\n",
       "color             586\n",
       "interior          586\n",
       "seller              0\n",
       "sellingprice        0\n",
       "saledate            0\n",
       "dtype: int64"
      ]
     },
     "execution_count": 19,
     "metadata": {},
     "output_type": "execute_result"
    }
   ],
   "source": [
    "df.isna().sum()"
   ]
  },
  {
   "cell_type": "markdown",
   "id": "2XCER025J7Pb",
   "metadata": {
    "id": "2XCER025J7Pb"
   },
   "source": [
    "Исследуем количественный показатель пробега авто"
   ]
  },
  {
   "cell_type": "code",
   "execution_count": 20,
   "id": "_O65KQ5lJ7Pc",
   "metadata": {
    "execution": {
     "iopub.execute_input": "2023-08-12T08:21:15.981068Z",
     "iopub.status.busy": "2023-08-12T08:21:15.980574Z",
     "iopub.status.idle": "2023-08-12T08:21:16.465480Z",
     "shell.execute_reply": "2023-08-12T08:21:16.464377Z",
     "shell.execute_reply.started": "2023-08-12T08:21:15.981032Z"
    },
    "id": "_O65KQ5lJ7Pc",
    "outputId": "9744660f-9693-403d-d8c0-277275eded0c"
   },
   "outputs": [
    {
     "data": {
      "text/plain": [
       "count    440167.000000\n",
       "mean      68344.421604\n",
       "std       53542.203908\n",
       "min           1.000000\n",
       "25%       28258.000000\n",
       "50%       52098.000000\n",
       "75%       99272.000000\n",
       "max      999999.000000\n",
       "Name: odometer, dtype: float64"
      ]
     },
     "execution_count": 20,
     "metadata": {},
     "output_type": "execute_result"
    },
    {
     "data": {
      "image/png": "[encoded data removed]",
      "text/plain": [
       "<Figure size 900x600 with 1 Axes>"
      ]
     },
     "metadata": {},
     "output_type": "display_data"
    }
   ],
   "source": [
    "df['odometer'].hist(bins=150, figsize=(9,6))\n",
    "df['odometer'].describe()"
   ]
  },
  {
   "cell_type": "code",
   "execution_count": 21,
   "id": "nHGT6MykJ7Pc",
   "metadata": {
    "execution": {
     "iopub.execute_input": "2023-08-12T08:21:16.467353Z",
     "iopub.status.busy": "2023-08-12T08:21:16.466990Z",
     "iopub.status.idle": "2023-08-12T08:21:16.486042Z",
     "shell.execute_reply": "2023-08-12T08:21:16.485124Z",
     "shell.execute_reply.started": "2023-08-12T08:21:16.467320Z"
    },
    "id": "nHGT6MykJ7Pc",
    "outputId": "56a34f3c-259a-432f-dda9-4e3b0d58e29d"
   },
   "outputs": [
    {
     "data": {
      "text/plain": [
       "0.05     10475.0\n",
       "0.95    170489.0\n",
       "Name: odometer, dtype: float64"
      ]
     },
     "execution_count": 21,
     "metadata": {},
     "output_type": "execute_result"
    }
   ],
   "source": [
    "df['odometer'].quantile([.05, 0.95])"
   ]
  },
  {
   "cell_type": "markdown",
   "id": "g-xYumKRJ7Pd",
   "metadata": {
    "id": "g-xYumKRJ7Pd"
   },
   "source": [
    "По пробегу мы видим что есть совершенно аномальные значения которые близки к 1 или максимальное значение в 999999. Так аномалии так же следует считать выбросами которые будут ухудшать работу модели предсказания.\n",
    "\n",
    "Я построю функцию которая будет заменять выбросы и пустые значения пробега на медианные с учетом модели и года выпуска авто."
   ]
  },
  {
   "cell_type": "code",
   "execution_count": 22,
   "id": "22-1Gu_kJ7Pe",
   "metadata": {
    "execution": {
     "iopub.execute_input": "2023-08-12T08:21:16.487527Z",
     "iopub.status.busy": "2023-08-12T08:21:16.487245Z",
     "iopub.status.idle": "2023-08-12T08:21:26.929725Z",
     "shell.execute_reply": "2023-08-12T08:21:26.928620Z",
     "shell.execute_reply.started": "2023-08-12T08:21:16.487503Z"
    },
    "id": "22-1Gu_kJ7Pe"
   },
   "outputs": [],
   "source": [
    "median_mileage_by_year_model = df.groupby(['year', 'model']).agg({'odometer': 'median'})\n",
    "\n",
    "def replace_odometer_year_model(row): # функция для замены значений\n",
    "    if (row['odometer'] == 1 and row['year'] != 2015 and row['year'] != 2014 and row['year'] != 2013) or (pd.isnull(row['odometer'])) or (row['odometer'] > 250000) or (row['odometer'] < 5000 and row['condition'] < 4 and row['year'] != 2015 and row['year'] != 2014 and row['year'] != 2013):\n",
    "        median_value = median_mileage_by_year_model.loc[(row['year'], row['model']), 'odometer']\n",
    "        return median_value\n",
    "    else:\n",
    "        return row['odometer']\n",
    "\n",
    "\n",
    "df['odometer'] = df.apply(replace_odometer_year_model, axis=1) # заменяем значения пробега, удовлетворяющие условиям, на медианное значение"
   ]
  },
  {
   "cell_type": "code",
   "execution_count": 23,
   "id": "GJB-UgJlJ7Pe",
   "metadata": {
    "execution": {
     "iopub.execute_input": "2023-08-12T08:21:26.931477Z",
     "iopub.status.busy": "2023-08-12T08:21:26.931017Z",
     "iopub.status.idle": "2023-08-12T08:21:26.953967Z",
     "shell.execute_reply": "2023-08-12T08:21:26.952920Z",
     "shell.execute_reply.started": "2023-08-12T08:21:26.931447Z"
    },
    "id": "GJB-UgJlJ7Pe",
    "outputId": "9e9858f2-70db-48e9-ca78-b3a50d31d4dc",
    "scrolled": true
   },
   "outputs": [
    {
     "data": {
      "text/html": [
       "<div>\n",
       "<style scoped>\n",
       "    .dataframe tbody tr th:only-of-type {\n",
       "        vertical-align: middle;\n",
       "    }\n",
       "\n",
       "    .dataframe tbody tr th {\n",
       "        vertical-align: top;\n",
       "    }\n",
       "\n",
       "    .dataframe thead th {\n",
       "        text-align: right;\n",
       "    }\n",
       "</style>\n",
       "<table border=\"1\" class=\"dataframe\">\n",
       "  <thead>\n",
       "    <tr style=\"text-align: right;\">\n",
       "      <th></th>\n",
       "      <th>year</th>\n",
       "      <th>make</th>\n",
       "      <th>model</th>\n",
       "      <th>trim</th>\n",
       "      <th>body</th>\n",
       "      <th>transmission</th>\n",
       "      <th>vin</th>\n",
       "      <th>state</th>\n",
       "      <th>condition</th>\n",
       "      <th>odometer</th>\n",
       "      <th>color</th>\n",
       "      <th>interior</th>\n",
       "      <th>seller</th>\n",
       "      <th>sellingprice</th>\n",
       "      <th>saledate</th>\n",
       "    </tr>\n",
       "  </thead>\n",
       "  <tbody>\n",
       "    <tr>\n",
       "      <th>24659</th>\n",
       "      <td>2002</td>\n",
       "      <td>NaN</td>\n",
       "      <td>750i</td>\n",
       "      <td>NaN</td>\n",
       "      <td>NaN</td>\n",
       "      <td>automatic</td>\n",
       "      <td>1fdxf46f42eb91925</td>\n",
       "      <td>ca</td>\n",
       "      <td>NaN</td>\n",
       "      <td>470368.0</td>\n",
       "      <td>red</td>\n",
       "      <td>—</td>\n",
       "      <td>autohaus</td>\n",
       "      <td>2600</td>\n",
       "      <td>2014-12-18 04:00:00+00:00</td>\n",
       "    </tr>\n",
       "    <tr>\n",
       "      <th>171948</th>\n",
       "      <td>1993</td>\n",
       "      <td>Ford</td>\n",
       "      <td>f-150</td>\n",
       "      <td>XL</td>\n",
       "      <td>Regular Cab</td>\n",
       "      <td>automatic</td>\n",
       "      <td>2ftdf15y0pcb40606</td>\n",
       "      <td>ms</td>\n",
       "      <td>1.0</td>\n",
       "      <td>528570.5</td>\n",
       "      <td>blue</td>\n",
       "      <td>blue</td>\n",
       "      <td>republic finance llc/pearl</td>\n",
       "      <td>200</td>\n",
       "      <td>2015-04-22 22:02:00+00:00</td>\n",
       "    </tr>\n",
       "    <tr>\n",
       "      <th>368362</th>\n",
       "      <td>1999</td>\n",
       "      <td>Mitsubishi</td>\n",
       "      <td>eclipse spyder</td>\n",
       "      <td>GS</td>\n",
       "      <td>Convertible</td>\n",
       "      <td>automatic</td>\n",
       "      <td>4a3ax35g5xe138358</td>\n",
       "      <td>fl</td>\n",
       "      <td>2.0</td>\n",
       "      <td>999999.0</td>\n",
       "      <td>silver</td>\n",
       "      <td>gray</td>\n",
       "      <td>coggin honda of st. augustine</td>\n",
       "      <td>650</td>\n",
       "      <td>2015-05-20 23:00:00+00:00</td>\n",
       "    </tr>\n",
       "  </tbody>\n",
       "</table>\n",
       "</div>"
      ],
      "text/plain": [
       "        year        make           model trim         body transmission  \\\n",
       "24659   2002         NaN            750i  NaN          NaN    automatic   \n",
       "171948  1993        Ford           f-150   XL  Regular Cab    automatic   \n",
       "368362  1999  Mitsubishi  eclipse spyder   GS  Convertible    automatic   \n",
       "\n",
       "                      vin state  condition  odometer   color interior  \\\n",
       "24659   1fdxf46f42eb91925    ca        NaN  470368.0     red        —   \n",
       "171948  2ftdf15y0pcb40606    ms        1.0  528570.5    blue     blue   \n",
       "368362  4a3ax35g5xe138358    fl        2.0  999999.0  silver     gray   \n",
       "\n",
       "                               seller  sellingprice                  saledate  \n",
       "24659                        autohaus          2600 2014-12-18 04:00:00+00:00  \n",
       "171948     republic finance llc/pearl           200 2015-04-22 22:02:00+00:00  \n",
       "368362  coggin honda of st. augustine           650 2015-05-20 23:00:00+00:00  "
      ]
     },
     "execution_count": 23,
     "metadata": {},
     "output_type": "execute_result"
    }
   ],
   "source": [
    "df.query('odometer>400000') # остался один явный выброс"
   ]
  },
  {
   "cell_type": "markdown",
   "id": "7bMxI1_pJ7Pe",
   "metadata": {
    "id": "7bMxI1_pJ7Pe"
   },
   "source": [
    "Я изменю ранее созданную функцию чтобы была такая же но без учета модели чтобы убрать оставшиеся выбросы"
   ]
  },
  {
   "cell_type": "code",
   "execution_count": 24,
   "id": "lxDr1TE6J7Pe",
   "metadata": {
    "execution": {
     "iopub.execute_input": "2023-08-12T08:21:26.956354Z",
     "iopub.status.busy": "2023-08-12T08:21:26.955808Z",
     "iopub.status.idle": "2023-08-12T08:21:36.487890Z",
     "shell.execute_reply": "2023-08-12T08:21:36.487130Z",
     "shell.execute_reply.started": "2023-08-12T08:21:26.956327Z"
    },
    "id": "lxDr1TE6J7Pe"
   },
   "outputs": [],
   "source": [
    "median_mileage_by_year = df.groupby(['year']).agg({'odometer': 'median'})\n",
    "\n",
    "# Функция для замены значений\n",
    "def replace_odometer_year(row):\n",
    "    if (row['odometer'] == 1) or (pd.isnull(row['odometer'])) or (row['odometer'] > 550000) or (row['odometer'] < 400 and row['condition'] < 4 and row['year'] != 2015 and row['year'] != 2014 and row['year'] != 2013):\n",
    "        median_value = median_mileage_by_year.loc[(row['year']), 'odometer']\n",
    "        return median_value\n",
    "    else:\n",
    "        return row['odometer']\n",
    "\n",
    "\n",
    "# Заменяем значения пробега, удовлетворяющие условиям, на медианное значение\n",
    "df['odometer'] = df.apply(replace_odometer_year, axis=1)"
   ]
  },
  {
   "cell_type": "code",
   "execution_count": 25,
   "id": "DsDxuL60J7Pf",
   "metadata": {
    "execution": {
     "iopub.execute_input": "2023-08-12T08:21:36.489968Z",
     "iopub.status.busy": "2023-08-12T08:21:36.489046Z",
     "iopub.status.idle": "2023-08-12T08:21:36.509559Z",
     "shell.execute_reply": "2023-08-12T08:21:36.508628Z",
     "shell.execute_reply.started": "2023-08-12T08:21:36.489901Z"
    },
    "id": "DsDxuL60J7Pf",
    "outputId": "d635c448-c4b2-4aaa-a00f-51dec7d3cc60"
   },
   "outputs": [
    {
     "data": {
      "text/html": [
       "<div>\n",
       "<style scoped>\n",
       "    .dataframe tbody tr th:only-of-type {\n",
       "        vertical-align: middle;\n",
       "    }\n",
       "\n",
       "    .dataframe tbody tr th {\n",
       "        vertical-align: top;\n",
       "    }\n",
       "\n",
       "    .dataframe thead th {\n",
       "        text-align: right;\n",
       "    }\n",
       "</style>\n",
       "<table border=\"1\" class=\"dataframe\">\n",
       "  <thead>\n",
       "    <tr style=\"text-align: right;\">\n",
       "      <th></th>\n",
       "      <th>year</th>\n",
       "      <th>make</th>\n",
       "      <th>model</th>\n",
       "      <th>trim</th>\n",
       "      <th>body</th>\n",
       "      <th>transmission</th>\n",
       "      <th>vin</th>\n",
       "      <th>state</th>\n",
       "      <th>condition</th>\n",
       "      <th>odometer</th>\n",
       "      <th>color</th>\n",
       "      <th>interior</th>\n",
       "      <th>seller</th>\n",
       "      <th>sellingprice</th>\n",
       "      <th>saledate</th>\n",
       "    </tr>\n",
       "  </thead>\n",
       "  <tbody>\n",
       "    <tr>\n",
       "      <th>24659</th>\n",
       "      <td>2002</td>\n",
       "      <td>NaN</td>\n",
       "      <td>750i</td>\n",
       "      <td>NaN</td>\n",
       "      <td>NaN</td>\n",
       "      <td>automatic</td>\n",
       "      <td>1fdxf46f42eb91925</td>\n",
       "      <td>ca</td>\n",
       "      <td>NaN</td>\n",
       "      <td>470368.0</td>\n",
       "      <td>red</td>\n",
       "      <td>—</td>\n",
       "      <td>autohaus</td>\n",
       "      <td>2600</td>\n",
       "      <td>2014-12-18 04:00:00+00:00</td>\n",
       "    </tr>\n",
       "    <tr>\n",
       "      <th>171948</th>\n",
       "      <td>1993</td>\n",
       "      <td>Ford</td>\n",
       "      <td>f-150</td>\n",
       "      <td>XL</td>\n",
       "      <td>Regular Cab</td>\n",
       "      <td>automatic</td>\n",
       "      <td>2ftdf15y0pcb40606</td>\n",
       "      <td>ms</td>\n",
       "      <td>1.0</td>\n",
       "      <td>528570.5</td>\n",
       "      <td>blue</td>\n",
       "      <td>blue</td>\n",
       "      <td>republic finance llc/pearl</td>\n",
       "      <td>200</td>\n",
       "      <td>2015-04-22 22:02:00+00:00</td>\n",
       "    </tr>\n",
       "  </tbody>\n",
       "</table>\n",
       "</div>"
      ],
      "text/plain": [
       "        year  make  model trim         body transmission                vin  \\\n",
       "24659   2002   NaN   750i  NaN          NaN    automatic  1fdxf46f42eb91925   \n",
       "171948  1993  Ford  f-150   XL  Regular Cab    automatic  2ftdf15y0pcb40606   \n",
       "\n",
       "       state  condition  odometer color interior                      seller  \\\n",
       "24659     ca        NaN  470368.0   red        —                    autohaus   \n",
       "171948    ms        1.0  528570.5  blue     blue  republic finance llc/pearl   \n",
       "\n",
       "        sellingprice                  saledate  \n",
       "24659           2600 2014-12-18 04:00:00+00:00  \n",
       "171948           200 2015-04-22 22:02:00+00:00  "
      ]
     },
     "execution_count": 25,
     "metadata": {},
     "output_type": "execute_result"
    }
   ],
   "source": [
    "df.query('odometer>400000') # проверка, выбросы устранены"
   ]
  },
  {
   "cell_type": "code",
   "execution_count": 26,
   "id": "A2ESpGhiJ7Pf",
   "metadata": {
    "execution": {
     "iopub.execute_input": "2023-08-12T08:21:36.511256Z",
     "iopub.status.busy": "2023-08-12T08:21:36.510972Z",
     "iopub.status.idle": "2023-08-12T08:21:36.526884Z",
     "shell.execute_reply": "2023-08-12T08:21:36.526228Z",
     "shell.execute_reply.started": "2023-08-12T08:21:36.511233Z"
    },
    "id": "A2ESpGhiJ7Pf",
    "outputId": "c66083bf-aee4-4f45-a6a5-4de13129674f"
   },
   "outputs": [
    {
     "data": {
      "text/html": [
       "<div>\n",
       "<style scoped>\n",
       "    .dataframe tbody tr th:only-of-type {\n",
       "        vertical-align: middle;\n",
       "    }\n",
       "\n",
       "    .dataframe tbody tr th {\n",
       "        vertical-align: top;\n",
       "    }\n",
       "\n",
       "    .dataframe thead th {\n",
       "        text-align: right;\n",
       "    }\n",
       "</style>\n",
       "<table border=\"1\" class=\"dataframe\">\n",
       "  <thead>\n",
       "    <tr style=\"text-align: right;\">\n",
       "      <th></th>\n",
       "      <th>year</th>\n",
       "      <th>make</th>\n",
       "      <th>model</th>\n",
       "      <th>trim</th>\n",
       "      <th>body</th>\n",
       "      <th>transmission</th>\n",
       "      <th>vin</th>\n",
       "      <th>state</th>\n",
       "      <th>condition</th>\n",
       "      <th>odometer</th>\n",
       "      <th>color</th>\n",
       "      <th>interior</th>\n",
       "      <th>seller</th>\n",
       "      <th>sellingprice</th>\n",
       "      <th>saledate</th>\n",
       "    </tr>\n",
       "  </thead>\n",
       "  <tbody>\n",
       "  </tbody>\n",
       "</table>\n",
       "</div>"
      ],
      "text/plain": [
       "Empty DataFrame\n",
       "Columns: [year, make, model, trim, body, transmission, vin, state, condition, odometer, color, interior, seller, sellingprice, saledate]\n",
       "Index: []"
      ]
     },
     "execution_count": 26,
     "metadata": {},
     "output_type": "execute_result"
    }
   ],
   "source": [
    "df.query('odometer==1 & year!= 2015 & year != 2014 & year != 2013') # явные выбросы замены на более релевантные значения"
   ]
  },
  {
   "cell_type": "code",
   "execution_count": 27,
   "id": "C021nxUcJ7Pg",
   "metadata": {
    "execution": {
     "iopub.execute_input": "2023-08-12T08:21:36.528541Z",
     "iopub.status.busy": "2023-08-12T08:21:36.528104Z",
     "iopub.status.idle": "2023-08-12T08:21:36.550313Z",
     "shell.execute_reply": "2023-08-12T08:21:36.549142Z",
     "shell.execute_reply.started": "2023-08-12T08:21:36.528515Z"
    },
    "id": "C021nxUcJ7Pg",
    "outputId": "5f8e23f2-666e-4289-a5a3-391a3a4298b1"
   },
   "outputs": [
    {
     "data": {
      "text/plain": [
       "count    440236.000000\n",
       "mean      67866.007276\n",
       "std       50524.722285\n",
       "min           2.000000\n",
       "25%       28457.000000\n",
       "50%       52386.000000\n",
       "75%       99568.000000\n",
       "max      528570.500000\n",
       "Name: odometer, dtype: float64"
      ]
     },
     "execution_count": 27,
     "metadata": {},
     "output_type": "execute_result"
    }
   ],
   "source": [
    "df['odometer'].describe() # остались некие значения минимальные но они соотносятся с годом выпуска как новые авто и идеальным состоянием"
   ]
  },
  {
   "cell_type": "code",
   "execution_count": 28,
   "id": "41Iv1uPnJ7Pg",
   "metadata": {
    "execution": {
     "iopub.execute_input": "2023-08-12T08:21:36.557475Z",
     "iopub.status.busy": "2023-08-12T08:21:36.556917Z",
     "iopub.status.idle": "2023-08-12T08:21:36.572707Z",
     "shell.execute_reply": "2023-08-12T08:21:36.571570Z",
     "shell.execute_reply.started": "2023-08-12T08:21:36.557446Z"
    },
    "id": "41Iv1uPnJ7Pg",
    "outputId": "c4508aa0-d7e6-495d-8497-8b61d73e6260"
   },
   "outputs": [
    {
     "data": {
      "text/plain": [
       "condition\n",
       "1.9    33207\n",
       "3.5    21016\n",
       "3.7    20399\n",
       "4.4    20027\n",
       "4.3    19712\n",
       "4.2    19345\n",
       "3.6    18209\n",
       "4.1    18108\n",
       "2.0    16431\n",
       "4.0    15797\n",
       "3.9    15623\n",
       "2.8    15012\n",
       "2.9    14823\n",
       "3.8    14785\n",
       "3.4    13654\n",
       "2.7    12837\n",
       "4.9    10305\n",
       "4.8    10040\n",
       "2.5     9900\n",
       "4.6     9897\n",
       "4.5     9660\n",
       "2.6     9403\n",
       "4.7     9058\n",
       "5.0     8862\n",
       "3.3     8459\n",
       "3.0     8451\n",
       "3.2     7861\n",
       "2.4     7378\n",
       "2.1     7260\n",
       "3.1     7258\n",
       "2.3     6436\n",
       "1.0     5855\n",
       "2.2     4742\n",
       "1.8      249\n",
       "1.7      198\n",
       "1.6      132\n",
       "1.5      123\n",
       "1.4      103\n",
       "1.2       74\n",
       "1.1       74\n",
       "1.3       68\n",
       "Name: count, dtype: int64"
      ]
     },
     "execution_count": 28,
     "metadata": {},
     "output_type": "execute_result"
    }
   ],
   "source": [
    "df['condition'].value_counts()"
   ]
  },
  {
   "cell_type": "markdown",
   "id": "On8glyS1J7Ph",
   "metadata": {
    "id": "On8glyS1J7Ph"
   },
   "source": [
    "У нас есть около 9000 пропущенных значений на состоянии авто. Нужно заполнить пропуски. Состояние автомобиля более всего связано с пробегом. Но пробег у нас является количественной величиной. Я напишу функцию которая создаст дополнительный столбец с категорией по интервалу пробега"
   ]
  },
  {
   "cell_type": "code",
   "execution_count": 29,
   "id": "ec6Lbn1kJ7Ph",
   "metadata": {
    "execution": {
     "iopub.execute_input": "2023-08-12T08:21:36.574293Z",
     "iopub.status.busy": "2023-08-12T08:21:36.574016Z",
     "iopub.status.idle": "2023-08-12T08:21:36.637653Z",
     "shell.execute_reply": "2023-08-12T08:21:36.636770Z",
     "shell.execute_reply.started": "2023-08-12T08:21:36.574268Z"
    },
    "id": "ec6Lbn1kJ7Ph",
    "outputId": "bb76ffc7-e0d4-4aea-b828-ecb76978238c"
   },
   "outputs": [
    {
     "data": {
      "text/html": [
       "<div>\n",
       "<style scoped>\n",
       "    .dataframe tbody tr th:only-of-type {\n",
       "        vertical-align: middle;\n",
       "    }\n",
       "\n",
       "    .dataframe tbody tr th {\n",
       "        vertical-align: top;\n",
       "    }\n",
       "\n",
       "    .dataframe thead th {\n",
       "        text-align: right;\n",
       "    }\n",
       "</style>\n",
       "<table border=\"1\" class=\"dataframe\">\n",
       "  <thead>\n",
       "    <tr style=\"text-align: right;\">\n",
       "      <th></th>\n",
       "      <th>year</th>\n",
       "      <th>make</th>\n",
       "      <th>model</th>\n",
       "      <th>trim</th>\n",
       "      <th>body</th>\n",
       "      <th>transmission</th>\n",
       "      <th>vin</th>\n",
       "      <th>state</th>\n",
       "      <th>condition</th>\n",
       "      <th>odometer</th>\n",
       "      <th>color</th>\n",
       "      <th>interior</th>\n",
       "      <th>seller</th>\n",
       "      <th>sellingprice</th>\n",
       "      <th>saledate</th>\n",
       "      <th>odometer_category</th>\n",
       "    </tr>\n",
       "  </thead>\n",
       "  <tbody>\n",
       "    <tr>\n",
       "      <th>0</th>\n",
       "      <td>2011</td>\n",
       "      <td>Ford</td>\n",
       "      <td>edge</td>\n",
       "      <td>SEL</td>\n",
       "      <td>suv</td>\n",
       "      <td>automatic</td>\n",
       "      <td>2fmdk3jc4bba41556</td>\n",
       "      <td>md</td>\n",
       "      <td>4.2</td>\n",
       "      <td>111041.0</td>\n",
       "      <td>black</td>\n",
       "      <td>black</td>\n",
       "      <td>santander consumer</td>\n",
       "      <td>12500</td>\n",
       "      <td>2015-06-01 19:30:00+00:00</td>\n",
       "      <td>(111001.385, 116287.07]</td>\n",
       "    </tr>\n",
       "    <tr>\n",
       "      <th>1</th>\n",
       "      <td>2014</td>\n",
       "      <td>Ford</td>\n",
       "      <td>fusion</td>\n",
       "      <td>SE</td>\n",
       "      <td>Sedan</td>\n",
       "      <td>automatic</td>\n",
       "      <td>3fa6p0h75er208976</td>\n",
       "      <td>mo</td>\n",
       "      <td>3.5</td>\n",
       "      <td>31034.0</td>\n",
       "      <td>black</td>\n",
       "      <td>black</td>\n",
       "      <td>ars/avis budget group</td>\n",
       "      <td>14500</td>\n",
       "      <td>2015-02-24 18:00:00+00:00</td>\n",
       "      <td>(26430.425, 31716.11]</td>\n",
       "    </tr>\n",
       "    <tr>\n",
       "      <th>2</th>\n",
       "      <td>2012</td>\n",
       "      <td>Nissan</td>\n",
       "      <td>sentra</td>\n",
       "      <td>2.0 SL</td>\n",
       "      <td>sedan</td>\n",
       "      <td>automatic</td>\n",
       "      <td>3n1ab6ap4cl698412</td>\n",
       "      <td>nj</td>\n",
       "      <td>2.2</td>\n",
       "      <td>35619.0</td>\n",
       "      <td>black</td>\n",
       "      <td>black</td>\n",
       "      <td>nissan-infiniti lt</td>\n",
       "      <td>9100</td>\n",
       "      <td>2015-06-09 19:30:00+00:00</td>\n",
       "      <td>(31716.11, 37001.795]</td>\n",
       "    </tr>\n",
       "    <tr>\n",
       "      <th>3</th>\n",
       "      <td>2003</td>\n",
       "      <td>HUMMER</td>\n",
       "      <td>h2</td>\n",
       "      <td>Base</td>\n",
       "      <td>suv</td>\n",
       "      <td>automatic</td>\n",
       "      <td>5grgn23u93h101360</td>\n",
       "      <td>tx</td>\n",
       "      <td>2.8</td>\n",
       "      <td>131301.0</td>\n",
       "      <td>gold</td>\n",
       "      <td>beige</td>\n",
       "      <td>wichita falls ford lin inc</td>\n",
       "      <td>13300</td>\n",
       "      <td>2015-06-16 20:00:00+00:00</td>\n",
       "      <td>(126858.44, 132144.125]</td>\n",
       "    </tr>\n",
       "    <tr>\n",
       "      <th>4</th>\n",
       "      <td>2007</td>\n",
       "      <td>Ford</td>\n",
       "      <td>fusion</td>\n",
       "      <td>SEL</td>\n",
       "      <td>Sedan</td>\n",
       "      <td>automatic</td>\n",
       "      <td>3fahp08z17r268380</td>\n",
       "      <td>md</td>\n",
       "      <td>2.0</td>\n",
       "      <td>127709.0</td>\n",
       "      <td>black</td>\n",
       "      <td>black</td>\n",
       "      <td>purple heart</td>\n",
       "      <td>1300</td>\n",
       "      <td>2015-02-02 20:00:00+00:00</td>\n",
       "      <td>(126858.44, 132144.125]</td>\n",
       "    </tr>\n",
       "    <tr>\n",
       "      <th>...</th>\n",
       "      <td>...</td>\n",
       "      <td>...</td>\n",
       "      <td>...</td>\n",
       "      <td>...</td>\n",
       "      <td>...</td>\n",
       "      <td>...</td>\n",
       "      <td>...</td>\n",
       "      <td>...</td>\n",
       "      <td>...</td>\n",
       "      <td>...</td>\n",
       "      <td>...</td>\n",
       "      <td>...</td>\n",
       "      <td>...</td>\n",
       "      <td>...</td>\n",
       "      <td>...</td>\n",
       "      <td>...</td>\n",
       "    </tr>\n",
       "    <tr>\n",
       "      <th>440231</th>\n",
       "      <td>2013</td>\n",
       "      <td>Kia</td>\n",
       "      <td>optima</td>\n",
       "      <td>EX Hybrid</td>\n",
       "      <td>Sedan</td>\n",
       "      <td>automatic</td>\n",
       "      <td>knagm4ad4d5057805</td>\n",
       "      <td>ca</td>\n",
       "      <td>4.5</td>\n",
       "      <td>20434.0</td>\n",
       "      <td>white</td>\n",
       "      <td>beige</td>\n",
       "      <td>kia motors america, inc</td>\n",
       "      <td>16000</td>\n",
       "      <td>2015-01-19 20:30:00+00:00</td>\n",
       "      <td>(15859.055, 21144.74]</td>\n",
       "    </tr>\n",
       "    <tr>\n",
       "      <th>440232</th>\n",
       "      <td>2014</td>\n",
       "      <td>MINI</td>\n",
       "      <td>cooper countryman</td>\n",
       "      <td>S ALL4</td>\n",
       "      <td>Wagon</td>\n",
       "      <td>automatic</td>\n",
       "      <td>wmwzc5c55ewp36517</td>\n",
       "      <td>wi</td>\n",
       "      <td>2.9</td>\n",
       "      <td>14675.0</td>\n",
       "      <td>white</td>\n",
       "      <td>black</td>\n",
       "      <td>bmw mini financial services</td>\n",
       "      <td>24250</td>\n",
       "      <td>2015-02-10 18:00:00+00:00</td>\n",
       "      <td>(10573.37, 15859.055]</td>\n",
       "    </tr>\n",
       "    <tr>\n",
       "      <th>440233</th>\n",
       "      <td>2008</td>\n",
       "      <td>BMW</td>\n",
       "      <td>6 series</td>\n",
       "      <td>650i</td>\n",
       "      <td>Coupe</td>\n",
       "      <td>automatic</td>\n",
       "      <td>wbaea53588cv90110</td>\n",
       "      <td>ca</td>\n",
       "      <td>3.7</td>\n",
       "      <td>102552.0</td>\n",
       "      <td>gray</td>\n",
       "      <td>black</td>\n",
       "      <td>studio city auto group</td>\n",
       "      <td>16750</td>\n",
       "      <td>2015-03-02 20:30:00+00:00</td>\n",
       "      <td>(100430.015, 105715.7]</td>\n",
       "    </tr>\n",
       "    <tr>\n",
       "      <th>440234</th>\n",
       "      <td>2014</td>\n",
       "      <td>Ram</td>\n",
       "      <td>2500</td>\n",
       "      <td>SLT</td>\n",
       "      <td>Crew Cab</td>\n",
       "      <td>automatic</td>\n",
       "      <td>3c6ur5dl2eg243568</td>\n",
       "      <td>tx</td>\n",
       "      <td>3.0</td>\n",
       "      <td>29367.0</td>\n",
       "      <td>white</td>\n",
       "      <td>gray</td>\n",
       "      <td>express car &amp; truck rental</td>\n",
       "      <td>33000</td>\n",
       "      <td>2015-01-13 18:05:00+00:00</td>\n",
       "      <td>(26430.425, 31716.11]</td>\n",
       "    </tr>\n",
       "    <tr>\n",
       "      <th>440235</th>\n",
       "      <td>2013</td>\n",
       "      <td>Nissan</td>\n",
       "      <td>rogue</td>\n",
       "      <td>SV</td>\n",
       "      <td>SUV</td>\n",
       "      <td>automatic</td>\n",
       "      <td>jn8as5mt9dw038107</td>\n",
       "      <td>il</td>\n",
       "      <td>3.5</td>\n",
       "      <td>27924.0</td>\n",
       "      <td>silver</td>\n",
       "      <td>gray</td>\n",
       "      <td>ec sales,llc</td>\n",
       "      <td>14500</td>\n",
       "      <td>2015-01-14 18:00:00+00:00</td>\n",
       "      <td>(26430.425, 31716.11]</td>\n",
       "    </tr>\n",
       "  </tbody>\n",
       "</table>\n",
       "<p>440236 rows × 16 columns</p>\n",
       "</div>"
      ],
      "text/plain": [
       "        year    make              model       trim      body transmission  \\\n",
       "0       2011    Ford               edge        SEL       suv    automatic   \n",
       "1       2014    Ford             fusion         SE     Sedan    automatic   \n",
       "2       2012  Nissan             sentra     2.0 SL     sedan    automatic   \n",
       "3       2003  HUMMER                 h2       Base       suv    automatic   \n",
       "4       2007    Ford             fusion        SEL     Sedan    automatic   \n",
       "...      ...     ...                ...        ...       ...          ...   \n",
       "440231  2013     Kia             optima  EX Hybrid     Sedan    automatic   \n",
       "440232  2014    MINI  cooper countryman     S ALL4     Wagon    automatic   \n",
       "440233  2008     BMW           6 series       650i     Coupe    automatic   \n",
       "440234  2014     Ram               2500        SLT  Crew Cab    automatic   \n",
       "440235  2013  Nissan              rogue         SV       SUV    automatic   \n",
       "\n",
       "                      vin state  condition  odometer   color interior  \\\n",
       "0       2fmdk3jc4bba41556    md        4.2  111041.0   black    black   \n",
       "1       3fa6p0h75er208976    mo        3.5   31034.0   black    black   \n",
       "2       3n1ab6ap4cl698412    nj        2.2   35619.0   black    black   \n",
       "3       5grgn23u93h101360    tx        2.8  131301.0    gold    beige   \n",
       "4       3fahp08z17r268380    md        2.0  127709.0   black    black   \n",
       "...                   ...   ...        ...       ...     ...      ...   \n",
       "440231  knagm4ad4d5057805    ca        4.5   20434.0   white    beige   \n",
       "440232  wmwzc5c55ewp36517    wi        2.9   14675.0   white    black   \n",
       "440233  wbaea53588cv90110    ca        3.7  102552.0    gray    black   \n",
       "440234  3c6ur5dl2eg243568    tx        3.0   29367.0   white     gray   \n",
       "440235  jn8as5mt9dw038107    il        3.5   27924.0  silver     gray   \n",
       "\n",
       "                             seller  sellingprice                  saledate  \\\n",
       "0                santander consumer         12500 2015-06-01 19:30:00+00:00   \n",
       "1             ars/avis budget group         14500 2015-02-24 18:00:00+00:00   \n",
       "2                nissan-infiniti lt          9100 2015-06-09 19:30:00+00:00   \n",
       "3        wichita falls ford lin inc         13300 2015-06-16 20:00:00+00:00   \n",
       "4                      purple heart          1300 2015-02-02 20:00:00+00:00   \n",
       "...                             ...           ...                       ...   \n",
       "440231      kia motors america, inc         16000 2015-01-19 20:30:00+00:00   \n",
       "440232  bmw mini financial services         24250 2015-02-10 18:00:00+00:00   \n",
       "440233       studio city auto group         16750 2015-03-02 20:30:00+00:00   \n",
       "440234   express car & truck rental         33000 2015-01-13 18:05:00+00:00   \n",
       "440235                 ec sales,llc         14500 2015-01-14 18:00:00+00:00   \n",
       "\n",
       "              odometer_category  \n",
       "0       (111001.385, 116287.07]  \n",
       "1         (26430.425, 31716.11]  \n",
       "2         (31716.11, 37001.795]  \n",
       "3       (126858.44, 132144.125]  \n",
       "4       (126858.44, 132144.125]  \n",
       "...                         ...  \n",
       "440231    (15859.055, 21144.74]  \n",
       "440232    (10573.37, 15859.055]  \n",
       "440233   (100430.015, 105715.7]  \n",
       "440234    (26430.425, 31716.11]  \n",
       "440235    (26430.425, 31716.11]  \n",
       "\n",
       "[440236 rows x 16 columns]"
      ]
     },
     "execution_count": 29,
     "metadata": {},
     "output_type": "execute_result"
    }
   ],
   "source": [
    "def create_category_column(df): # определяем границы категорий\n",
    "    categories = pd.cut(df['odometer'], bins=100)\n",
    "\n",
    "\n",
    "    df['odometer_category'] = categories # создаем новый столбец с категориями\n",
    "\n",
    "    return df\n",
    "create_category_column(df)"
   ]
  },
  {
   "cell_type": "markdown",
   "id": "IQ9XlODLJ7Ph",
   "metadata": {
    "id": "IQ9XlODLJ7Ph"
   },
   "source": [
    "Теперь я создам похожую на то что я делал ранее фунцкию которя будет заменять пропуски медианным значеним. Будем группировать по году и интервалу пробега и в случае совпадения заполнить пропуски"
   ]
  },
  {
   "cell_type": "code",
   "execution_count": 30,
   "id": "qRB_8Yp8J7Ph",
   "metadata": {
    "execution": {
     "iopub.execute_input": "2023-08-12T08:21:36.639886Z",
     "iopub.status.busy": "2023-08-12T08:21:36.639006Z",
     "iopub.status.idle": "2023-08-12T08:21:44.129118Z",
     "shell.execute_reply": "2023-08-12T08:21:44.128010Z",
     "shell.execute_reply.started": "2023-08-12T08:21:36.639852Z"
    },
    "id": "qRB_8Yp8J7Ph"
   },
   "outputs": [],
   "source": [
    "median_condition_by_year_odometer = df.groupby(['year', 'odometer_category']).agg({'condition': 'median'})\n",
    "\n",
    "def replace_condition_year_odometer(row): # функция для замены значений\n",
    "    if pd.isnull(row['condition']):\n",
    "        median_value = median_condition_by_year_odometer.loc[(row['year'], row['odometer_category']), 'condition']\n",
    "        return median_value\n",
    "    else:\n",
    "        return row['condition']\n",
    "\n",
    "\n",
    "df['condition'] = df.apply(replace_condition_year_odometer, axis=1) # заменяем значения condition, удовлетворяющие условиям, на медианное значение"
   ]
  },
  {
   "cell_type": "code",
   "execution_count": 31,
   "id": "TYjW3a9uJ7Pi",
   "metadata": {
    "execution": {
     "iopub.execute_input": "2023-08-12T08:21:44.131026Z",
     "iopub.status.busy": "2023-08-12T08:21:44.130619Z",
     "iopub.status.idle": "2023-08-12T08:21:44.160231Z",
     "shell.execute_reply": "2023-08-12T08:21:44.159029Z",
     "shell.execute_reply.started": "2023-08-12T08:21:44.130993Z"
    },
    "id": "TYjW3a9uJ7Pi",
    "outputId": "4130443b-4d09-417a-ddf1-d13401ce160f",
    "scrolled": true
   },
   "outputs": [
    {
     "data": {
      "text/html": [
       "<div>\n",
       "<style scoped>\n",
       "    .dataframe tbody tr th:only-of-type {\n",
       "        vertical-align: middle;\n",
       "    }\n",
       "\n",
       "    .dataframe tbody tr th {\n",
       "        vertical-align: top;\n",
       "    }\n",
       "\n",
       "    .dataframe thead th {\n",
       "        text-align: right;\n",
       "    }\n",
       "</style>\n",
       "<table border=\"1\" class=\"dataframe\">\n",
       "  <thead>\n",
       "    <tr style=\"text-align: right;\">\n",
       "      <th></th>\n",
       "      <th>year</th>\n",
       "      <th>make</th>\n",
       "      <th>model</th>\n",
       "      <th>trim</th>\n",
       "      <th>body</th>\n",
       "      <th>transmission</th>\n",
       "      <th>vin</th>\n",
       "      <th>state</th>\n",
       "      <th>condition</th>\n",
       "      <th>odometer</th>\n",
       "      <th>color</th>\n",
       "      <th>interior</th>\n",
       "      <th>seller</th>\n",
       "      <th>sellingprice</th>\n",
       "      <th>saledate</th>\n",
       "      <th>odometer_category</th>\n",
       "    </tr>\n",
       "  </thead>\n",
       "  <tbody>\n",
       "    <tr>\n",
       "      <th>15389</th>\n",
       "      <td>1990</td>\n",
       "      <td>chevrolet</td>\n",
       "      <td>1500</td>\n",
       "      <td>4x2 ext base</td>\n",
       "      <td>NaN</td>\n",
       "      <td>NaN</td>\n",
       "      <td>2gcec19k2l1242286</td>\n",
       "      <td>mo</td>\n",
       "      <td>NaN</td>\n",
       "      <td>156215.0</td>\n",
       "      <td>white</td>\n",
       "      <td>—</td>\n",
       "      <td>animal protective association of missouri</td>\n",
       "      <td>800</td>\n",
       "      <td>2014-12-22 03:00:00+00:00</td>\n",
       "      <td>(153286.865, 158572.55]</td>\n",
       "    </tr>\n",
       "    <tr>\n",
       "      <th>24659</th>\n",
       "      <td>2002</td>\n",
       "      <td>NaN</td>\n",
       "      <td>750i</td>\n",
       "      <td>NaN</td>\n",
       "      <td>NaN</td>\n",
       "      <td>automatic</td>\n",
       "      <td>1fdxf46f42eb91925</td>\n",
       "      <td>ca</td>\n",
       "      <td>NaN</td>\n",
       "      <td>470368.0</td>\n",
       "      <td>red</td>\n",
       "      <td>—</td>\n",
       "      <td>autohaus</td>\n",
       "      <td>2600</td>\n",
       "      <td>2014-12-18 04:00:00+00:00</td>\n",
       "      <td>(465142.28, 470427.965]</td>\n",
       "    </tr>\n",
       "    <tr>\n",
       "      <th>70930</th>\n",
       "      <td>1992</td>\n",
       "      <td>Lexus</td>\n",
       "      <td>ls 400</td>\n",
       "      <td>Base</td>\n",
       "      <td>Sedan</td>\n",
       "      <td>NaN</td>\n",
       "      <td>jt8uf11e4n0136122</td>\n",
       "      <td>nj</td>\n",
       "      <td>NaN</td>\n",
       "      <td>92639.0</td>\n",
       "      <td>white</td>\n",
       "      <td>—</td>\n",
       "      <td>jns auto sales inc</td>\n",
       "      <td>1250</td>\n",
       "      <td>2014-12-17 01:30:00+00:00</td>\n",
       "      <td>(89858.645, 95144.33]</td>\n",
       "    </tr>\n",
       "    <tr>\n",
       "      <th>88777</th>\n",
       "      <td>1990</td>\n",
       "      <td>Chevrolet</td>\n",
       "      <td>corvette</td>\n",
       "      <td>Base</td>\n",
       "      <td>Hatchback</td>\n",
       "      <td>automatic</td>\n",
       "      <td>1g1yy2389l5108884</td>\n",
       "      <td>nv</td>\n",
       "      <td>NaN</td>\n",
       "      <td>80095.0</td>\n",
       "      <td>red</td>\n",
       "      <td>—</td>\n",
       "      <td>auto resource</td>\n",
       "      <td>3800</td>\n",
       "      <td>2014-12-18 03:45:00+00:00</td>\n",
       "      <td>(79287.275, 84572.96]</td>\n",
       "    </tr>\n",
       "    <tr>\n",
       "      <th>125907</th>\n",
       "      <td>1985</td>\n",
       "      <td>NaN</td>\n",
       "      <td>hhr</td>\n",
       "      <td>NaN</td>\n",
       "      <td>NaN</td>\n",
       "      <td>automatic</td>\n",
       "      <td>1g6el5787fe612281</td>\n",
       "      <td>il</td>\n",
       "      <td>NaN</td>\n",
       "      <td>67786.0</td>\n",
       "      <td>brown</td>\n",
       "      <td>—</td>\n",
       "      <td>phillips chevrolet of lansing inc</td>\n",
       "      <td>550</td>\n",
       "      <td>2014-12-18 02:00:00+00:00</td>\n",
       "      <td>(63430.22, 68715.905]</td>\n",
       "    </tr>\n",
       "    <tr>\n",
       "      <th>141426</th>\n",
       "      <td>1994</td>\n",
       "      <td>Ford</td>\n",
       "      <td>taurus</td>\n",
       "      <td>GL</td>\n",
       "      <td>Sedan</td>\n",
       "      <td>automatic</td>\n",
       "      <td>1falp52u4ra229476</td>\n",
       "      <td>ne</td>\n",
       "      <td>NaN</td>\n",
       "      <td>35649.0</td>\n",
       "      <td>burgundy</td>\n",
       "      <td>gray</td>\n",
       "      <td>woodhouse ford south inc</td>\n",
       "      <td>400</td>\n",
       "      <td>2014-12-18 03:00:00+00:00</td>\n",
       "      <td>(31716.11, 37001.795]</td>\n",
       "    </tr>\n",
       "    <tr>\n",
       "      <th>189769</th>\n",
       "      <td>1989</td>\n",
       "      <td>toyota</td>\n",
       "      <td>pickup</td>\n",
       "      <td>4x4 dx</td>\n",
       "      <td>NaN</td>\n",
       "      <td>manual</td>\n",
       "      <td>jt4rn01p2k0005711</td>\n",
       "      <td>ca</td>\n",
       "      <td>NaN</td>\n",
       "      <td>131187.0</td>\n",
       "      <td>white</td>\n",
       "      <td>gray</td>\n",
       "      <td>kearny mesa toyota</td>\n",
       "      <td>800</td>\n",
       "      <td>2014-12-17 04:00:00+00:00</td>\n",
       "      <td>(126858.44, 132144.125]</td>\n",
       "    </tr>\n",
       "    <tr>\n",
       "      <th>191451</th>\n",
       "      <td>2005</td>\n",
       "      <td>Toyota</td>\n",
       "      <td>prius</td>\n",
       "      <td>Base</td>\n",
       "      <td>Hatchback</td>\n",
       "      <td>automatic</td>\n",
       "      <td>jtdkb20u557026867</td>\n",
       "      <td>ne</td>\n",
       "      <td>NaN</td>\n",
       "      <td>4665.0</td>\n",
       "      <td>silver</td>\n",
       "      <td>gray</td>\n",
       "      <td>performance toyota-scion of lavista</td>\n",
       "      <td>3500</td>\n",
       "      <td>2014-12-18 03:00:00+00:00</td>\n",
       "      <td>(-526.568, 5287.685]</td>\n",
       "    </tr>\n",
       "    <tr>\n",
       "      <th>259231</th>\n",
       "      <td>1987</td>\n",
       "      <td>NaN</td>\n",
       "      <td>grand caravan</td>\n",
       "      <td>NaN</td>\n",
       "      <td>NaN</td>\n",
       "      <td>automatic</td>\n",
       "      <td>1fmeu15n6hla53716</td>\n",
       "      <td>fl</td>\n",
       "      <td>NaN</td>\n",
       "      <td>80081.0</td>\n",
       "      <td>black</td>\n",
       "      <td>—</td>\n",
       "      <td>nava motors corp</td>\n",
       "      <td>1500</td>\n",
       "      <td>2014-12-18 01:50:00+00:00</td>\n",
       "      <td>(79287.275, 84572.96]</td>\n",
       "    </tr>\n",
       "    <tr>\n",
       "      <th>272677</th>\n",
       "      <td>1993</td>\n",
       "      <td>Saturn</td>\n",
       "      <td>s-series</td>\n",
       "      <td>SL2</td>\n",
       "      <td>Sedan</td>\n",
       "      <td>NaN</td>\n",
       "      <td>1g8zk5575pz257319</td>\n",
       "      <td>ca</td>\n",
       "      <td>NaN</td>\n",
       "      <td>76047.0</td>\n",
       "      <td>NaN</td>\n",
       "      <td>NaN</td>\n",
       "      <td>apexcars net</td>\n",
       "      <td>300</td>\n",
       "      <td>2014-12-17 04:30:00+00:00</td>\n",
       "      <td>(74001.59, 79287.275]</td>\n",
       "    </tr>\n",
       "    <tr>\n",
       "      <th>296454</th>\n",
       "      <td>1986</td>\n",
       "      <td>mercedes</td>\n",
       "      <td>420sel</td>\n",
       "      <td>NaN</td>\n",
       "      <td>NaN</td>\n",
       "      <td>automatic</td>\n",
       "      <td>wdbca35d7ga223579</td>\n",
       "      <td>ca</td>\n",
       "      <td>NaN</td>\n",
       "      <td>72250.0</td>\n",
       "      <td>black</td>\n",
       "      <td>black</td>\n",
       "      <td>mercedes benz of san diego</td>\n",
       "      <td>1400</td>\n",
       "      <td>2014-12-17 04:00:00+00:00</td>\n",
       "      <td>(68715.905, 74001.59]</td>\n",
       "    </tr>\n",
       "  </tbody>\n",
       "</table>\n",
       "</div>"
      ],
      "text/plain": [
       "        year       make          model          trim       body transmission  \\\n",
       "15389   1990  chevrolet           1500  4x2 ext base        NaN          NaN   \n",
       "24659   2002        NaN           750i           NaN        NaN    automatic   \n",
       "70930   1992      Lexus         ls 400          Base      Sedan          NaN   \n",
       "88777   1990  Chevrolet       corvette          Base  Hatchback    automatic   \n",
       "125907  1985        NaN            hhr           NaN        NaN    automatic   \n",
       "141426  1994       Ford         taurus            GL      Sedan    automatic   \n",
       "189769  1989     toyota         pickup        4x4 dx        NaN       manual   \n",
       "191451  2005     Toyota          prius          Base  Hatchback    automatic   \n",
       "259231  1987        NaN  grand caravan           NaN        NaN    automatic   \n",
       "272677  1993     Saturn       s-series           SL2      Sedan          NaN   \n",
       "296454  1986   mercedes         420sel           NaN        NaN    automatic   \n",
       "\n",
       "                      vin state  condition  odometer     color interior  \\\n",
       "15389   2gcec19k2l1242286    mo        NaN  156215.0     white        —   \n",
       "24659   1fdxf46f42eb91925    ca        NaN  470368.0       red        —   \n",
       "70930   jt8uf11e4n0136122    nj        NaN   92639.0     white        —   \n",
       "88777   1g1yy2389l5108884    nv        NaN   80095.0       red        —   \n",
       "125907  1g6el5787fe612281    il        NaN   67786.0     brown        —   \n",
       "141426  1falp52u4ra229476    ne        NaN   35649.0  burgundy     gray   \n",
       "189769  jt4rn01p2k0005711    ca        NaN  131187.0     white     gray   \n",
       "191451  jtdkb20u557026867    ne        NaN    4665.0    silver     gray   \n",
       "259231  1fmeu15n6hla53716    fl        NaN   80081.0     black        —   \n",
       "272677  1g8zk5575pz257319    ca        NaN   76047.0       NaN      NaN   \n",
       "296454  wdbca35d7ga223579    ca        NaN   72250.0     black    black   \n",
       "\n",
       "                                           seller  sellingprice  \\\n",
       "15389   animal protective association of missouri           800   \n",
       "24659                                    autohaus          2600   \n",
       "70930                          jns auto sales inc          1250   \n",
       "88777                               auto resource          3800   \n",
       "125907          phillips chevrolet of lansing inc           550   \n",
       "141426                   woodhouse ford south inc           400   \n",
       "189769                         kearny mesa toyota           800   \n",
       "191451        performance toyota-scion of lavista          3500   \n",
       "259231                           nava motors corp          1500   \n",
       "272677                               apexcars net           300   \n",
       "296454                 mercedes benz of san diego          1400   \n",
       "\n",
       "                        saledate        odometer_category  \n",
       "15389  2014-12-22 03:00:00+00:00  (153286.865, 158572.55]  \n",
       "24659  2014-12-18 04:00:00+00:00  (465142.28, 470427.965]  \n",
       "70930  2014-12-17 01:30:00+00:00    (89858.645, 95144.33]  \n",
       "88777  2014-12-18 03:45:00+00:00    (79287.275, 84572.96]  \n",
       "125907 2014-12-18 02:00:00+00:00    (63430.22, 68715.905]  \n",
       "141426 2014-12-18 03:00:00+00:00    (31716.11, 37001.795]  \n",
       "189769 2014-12-17 04:00:00+00:00  (126858.44, 132144.125]  \n",
       "191451 2014-12-18 03:00:00+00:00     (-526.568, 5287.685]  \n",
       "259231 2014-12-18 01:50:00+00:00    (79287.275, 84572.96]  \n",
       "272677 2014-12-17 04:30:00+00:00    (74001.59, 79287.275]  \n",
       "296454 2014-12-17 04:00:00+00:00    (68715.905, 74001.59]  "
      ]
     },
     "execution_count": 31,
     "metadata": {},
     "output_type": "execute_result"
    }
   ],
   "source": [
    "df.query(\"condition.isna()\") # еще осталось несколько значений"
   ]
  },
  {
   "cell_type": "markdown",
   "id": "Z4v-mv24J7Pi",
   "metadata": {
    "id": "Z4v-mv24J7Pi"
   },
   "source": [
    "Оставшиеся заменю просто группировкой по годам"
   ]
  },
  {
   "cell_type": "code",
   "execution_count": 32,
   "id": "XKF3nIPtJ7Pi",
   "metadata": {
    "execution": {
     "iopub.execute_input": "2023-08-12T08:21:44.162600Z",
     "iopub.status.busy": "2023-08-12T08:21:44.162154Z",
     "iopub.status.idle": "2023-08-12T08:21:49.360654Z",
     "shell.execute_reply": "2023-08-12T08:21:49.359432Z",
     "shell.execute_reply.started": "2023-08-12T08:21:44.162549Z"
    },
    "id": "XKF3nIPtJ7Pi"
   },
   "outputs": [],
   "source": [
    "median_condition_by_year = df.groupby('year')['condition'].median()\n",
    "df['condition'] = df.apply(lambda row: median_condition_by_year[row['year']]\n",
    "                        if pd.isna(row['condition']) else row['condition'], axis=1)"
   ]
  },
  {
   "cell_type": "code",
   "execution_count": 33,
   "id": "Hxlm-roNJ7Pi",
   "metadata": {
    "execution": {
     "iopub.execute_input": "2023-08-12T08:21:49.362131Z",
     "iopub.status.busy": "2023-08-12T08:21:49.361829Z",
     "iopub.status.idle": "2023-08-12T08:21:49.380523Z",
     "shell.execute_reply": "2023-08-12T08:21:49.379240Z",
     "shell.execute_reply.started": "2023-08-12T08:21:49.362107Z"
    },
    "id": "Hxlm-roNJ7Pi",
    "outputId": "bab367c8-8986-4969-f513-0944d9ca7fd3"
   },
   "outputs": [
    {
     "data": {
      "text/html": [
       "<div>\n",
       "<style scoped>\n",
       "    .dataframe tbody tr th:only-of-type {\n",
       "        vertical-align: middle;\n",
       "    }\n",
       "\n",
       "    .dataframe tbody tr th {\n",
       "        vertical-align: top;\n",
       "    }\n",
       "\n",
       "    .dataframe thead th {\n",
       "        text-align: right;\n",
       "    }\n",
       "</style>\n",
       "<table border=\"1\" class=\"dataframe\">\n",
       "  <thead>\n",
       "    <tr style=\"text-align: right;\">\n",
       "      <th></th>\n",
       "      <th>year</th>\n",
       "      <th>make</th>\n",
       "      <th>model</th>\n",
       "      <th>trim</th>\n",
       "      <th>body</th>\n",
       "      <th>transmission</th>\n",
       "      <th>vin</th>\n",
       "      <th>state</th>\n",
       "      <th>condition</th>\n",
       "      <th>odometer</th>\n",
       "      <th>color</th>\n",
       "      <th>interior</th>\n",
       "      <th>seller</th>\n",
       "      <th>sellingprice</th>\n",
       "      <th>saledate</th>\n",
       "      <th>odometer_category</th>\n",
       "    </tr>\n",
       "  </thead>\n",
       "  <tbody>\n",
       "  </tbody>\n",
       "</table>\n",
       "</div>"
      ],
      "text/plain": [
       "Empty DataFrame\n",
       "Columns: [year, make, model, trim, body, transmission, vin, state, condition, odometer, color, interior, seller, sellingprice, saledate, odometer_category]\n",
       "Index: []"
      ]
     },
     "execution_count": 33,
     "metadata": {},
     "output_type": "execute_result"
    }
   ],
   "source": [
    "df.query(\"condition.isna()\") # выбросы устранены"
   ]
  },
  {
   "cell_type": "code",
   "execution_count": 34,
   "id": "T9UELGmFJ7Pi",
   "metadata": {
    "execution": {
     "iopub.execute_input": "2023-08-12T08:21:49.382105Z",
     "iopub.status.busy": "2023-08-12T08:21:49.381819Z",
     "iopub.status.idle": "2023-08-12T08:21:49.433014Z",
     "shell.execute_reply": "2023-08-12T08:21:49.431262Z",
     "shell.execute_reply.started": "2023-08-12T08:21:49.382081Z"
    },
    "id": "T9UELGmFJ7Pi",
    "outputId": "9224211e-d0ed-42f1-bc2d-0dbc44e4a21a"
   },
   "outputs": [
    {
     "data": {
      "text/plain": [
       "seller\n",
       "nissan-infiniti lt                15823\n",
       "ford motor credit company,llc     15276\n",
       "the hertz corporation             14692\n",
       "santander consumer                12230\n",
       "avis corporation                  10098\n",
       "                                  ...  \n",
       "bay shore motors                      1\n",
       "thrifty rent a car systems inc        1\n",
       "volvo of wichita                      1\n",
       "wright way hyundai                    1\n",
       "studio city auto group                1\n",
       "Name: count, Length: 13025, dtype: int64"
      ]
     },
     "execution_count": 34,
     "metadata": {},
     "output_type": "execute_result"
    }
   ],
   "source": [
    "df['seller'].value_counts() # очень много уникальных значений"
   ]
  },
  {
   "cell_type": "code",
   "execution_count": 35,
   "id": "B6QtYMdBJ7Pj",
   "metadata": {
    "execution": {
     "iopub.execute_input": "2023-08-12T08:21:49.435222Z",
     "iopub.status.busy": "2023-08-12T08:21:49.434785Z",
     "iopub.status.idle": "2023-08-12T08:21:50.155107Z",
     "shell.execute_reply": "2023-08-12T08:21:50.153944Z",
     "shell.execute_reply.started": "2023-08-12T08:21:49.435180Z"
    },
    "id": "B6QtYMdBJ7Pj",
    "outputId": "656829a6-a055-4025-bc2b-7ca5c8222367"
   },
   "outputs": [
    {
     "data": {
      "text/plain": [
       "seller\n",
       "nissaninfiniti lt                    15823\n",
       "ford motor credit companyllc         15276\n",
       "the hertz corporation                14692\n",
       "santander consumer                   12230\n",
       "avis corporation                     10098\n",
       "                                     ...  \n",
       "united auto wholesale corporation        1\n",
       "778025 alberta ltd                       1\n",
       "alexander dodge chrysler jeep inc        1\n",
       "pacific auto resellers                   1\n",
       "studio city auto group                   1\n",
       "Name: count, Length: 12995, dtype: int64"
      ]
     },
     "execution_count": 35,
     "metadata": {},
     "output_type": "execute_result"
    }
   ],
   "source": [
    "df['seller'] = df['seller'].str.lower()\n",
    "df['seller'] = df['seller'].apply(lambda x: re.sub(r'[^a-zA-Z0-9\\s]', '', x))\n",
    "df[\"seller\"].value_counts() # замня ненужных символов и приведение к нижнему реистру не помоли, будем работать как есть"
   ]
  },
  {
   "cell_type": "code",
   "execution_count": 36,
   "id": "HfPPJpDfJ7Pj",
   "metadata": {
    "execution": {
     "iopub.execute_input": "2023-08-12T08:21:50.156628Z",
     "iopub.status.busy": "2023-08-12T08:21:50.156329Z",
     "iopub.status.idle": "2023-08-12T08:21:50.715103Z",
     "shell.execute_reply": "2023-08-12T08:21:50.714371Z",
     "shell.execute_reply.started": "2023-08-12T08:21:50.156601Z"
    },
    "id": "HfPPJpDfJ7Pj",
    "outputId": "7d0f6816-5be6-4fd5-c90c-e01f27705cac"
   },
   "outputs": [
    {
     "data": {
      "text/plain": [
       "year                     0\n",
       "make                  8043\n",
       "model                    0\n",
       "trim                  8337\n",
       "body                 10393\n",
       "transmission         51461\n",
       "vin                      0\n",
       "state                    0\n",
       "condition                0\n",
       "odometer                 0\n",
       "color                  586\n",
       "interior               586\n",
       "seller                   0\n",
       "sellingprice             0\n",
       "saledate                 0\n",
       "odometer_category        0\n",
       "dtype: int64"
      ]
     },
     "execution_count": 36,
     "metadata": {},
     "output_type": "execute_result"
    }
   ],
   "source": [
    "df.isna().sum()"
   ]
  },
  {
   "cell_type": "code",
   "execution_count": 37,
   "id": "GMQ5ETsiJ7Pj",
   "metadata": {
    "execution": {
     "iopub.execute_input": "2023-08-12T08:21:50.716966Z",
     "iopub.status.busy": "2023-08-12T08:21:50.715974Z",
     "iopub.status.idle": "2023-08-12T08:21:51.141436Z",
     "shell.execute_reply": "2023-08-12T08:21:51.139810Z",
     "shell.execute_reply.started": "2023-08-12T08:21:50.716910Z"
    },
    "id": "GMQ5ETsiJ7Pj",
    "outputId": "191f8535-d11d-4ac9-b39d-56ae569c3a05"
   },
   "outputs": [
    {
     "data": {
      "text/plain": [
       "count    440236.000000\n",
       "mean      13592.209588\n",
       "std        9751.479098\n",
       "min           1.000000\n",
       "25%        6900.000000\n",
       "50%       12100.000000\n",
       "75%       18200.000000\n",
       "max      230000.000000\n",
       "Name: sellingprice, dtype: float64"
      ]
     },
     "execution_count": 37,
     "metadata": {},
     "output_type": "execute_result"
    },
    {
     "data": {
      "image/png": "[encoded data removed]",
      "text/plain": [
       "<Figure size 900x600 with 1 Axes>"
      ]
     },
     "metadata": {},
     "output_type": "display_data"
    }
   ],
   "source": [
    "df['sellingprice'].hist(bins=150, figsize=(9,6))\n",
    "df['sellingprice'].describe()"
   ]
  },
  {
   "cell_type": "code",
   "execution_count": 38,
   "id": "pDYlQRyPJ7Pj",
   "metadata": {
    "execution": {
     "iopub.execute_input": "2023-08-12T08:21:51.144364Z",
     "iopub.status.busy": "2023-08-12T08:21:51.143186Z",
     "iopub.status.idle": "2023-08-12T08:21:51.162857Z",
     "shell.execute_reply": "2023-08-12T08:21:51.161138Z",
     "shell.execute_reply.started": "2023-08-12T08:21:51.144322Z"
    },
    "id": "pDYlQRyPJ7Pj",
    "outputId": "373991f9-3f66-420d-8b87-2a747187e32a",
    "scrolled": true
   },
   "outputs": [
    {
     "data": {
      "text/plain": [
       "0.05     1500.0\n",
       "0.95    30600.0\n",
       "Name: sellingprice, dtype: float64"
      ]
     },
     "execution_count": 38,
     "metadata": {},
     "output_type": "execute_result"
    }
   ],
   "source": [
    "df['sellingprice'].quantile([.05, 0.95])"
   ]
  },
  {
   "cell_type": "markdown",
   "id": "xEWx6b9nJ7Pj",
   "metadata": {
    "id": "xEWx6b9nJ7Pj"
   },
   "source": [
    "Мы видим явные выбросы на целевом признаке. Нам нужно внимательно с ним поработать чтобы модель могла научиться наиболее корректо предсказывать цену авто"
   ]
  },
  {
   "cell_type": "code",
   "execution_count": 39,
   "id": "yjJvI9-6J7Pj",
   "metadata": {
    "execution": {
     "iopub.execute_input": "2023-08-12T08:21:51.165085Z",
     "iopub.status.busy": "2023-08-12T08:21:51.164705Z",
     "iopub.status.idle": "2023-08-12T08:21:51.269140Z",
     "shell.execute_reply": "2023-08-12T08:21:51.267995Z",
     "shell.execute_reply.started": "2023-08-12T08:21:51.165052Z"
    },
    "id": "yjJvI9-6J7Pj",
    "outputId": "aa8c0d6d-a13a-4670-a94a-bb2ee2ad88d2"
   },
   "outputs": [
    {
     "data": {
      "text/html": [
       "<div>\n",
       "<style scoped>\n",
       "    .dataframe tbody tr th:only-of-type {\n",
       "        vertical-align: middle;\n",
       "    }\n",
       "\n",
       "    .dataframe tbody tr th {\n",
       "        vertical-align: top;\n",
       "    }\n",
       "\n",
       "    .dataframe thead th {\n",
       "        text-align: right;\n",
       "    }\n",
       "</style>\n",
       "<table border=\"1\" class=\"dataframe\">\n",
       "  <thead>\n",
       "    <tr style=\"text-align: right;\">\n",
       "      <th></th>\n",
       "      <th>year</th>\n",
       "      <th>make</th>\n",
       "      <th>model</th>\n",
       "      <th>trim</th>\n",
       "      <th>body</th>\n",
       "      <th>transmission</th>\n",
       "      <th>vin</th>\n",
       "      <th>state</th>\n",
       "      <th>condition</th>\n",
       "      <th>odometer</th>\n",
       "      <th>color</th>\n",
       "      <th>interior</th>\n",
       "      <th>seller</th>\n",
       "      <th>sellingprice</th>\n",
       "      <th>saledate</th>\n",
       "      <th>odometer_category</th>\n",
       "    </tr>\n",
       "  </thead>\n",
       "  <tbody>\n",
       "    <tr>\n",
       "      <th>392004</th>\n",
       "      <td>2014</td>\n",
       "      <td>Ford</td>\n",
       "      <td>escape</td>\n",
       "      <td>Titanium</td>\n",
       "      <td>SUV</td>\n",
       "      <td>automatic</td>\n",
       "      <td>1fmcu9j98eua23833</td>\n",
       "      <td>mo</td>\n",
       "      <td>4.3</td>\n",
       "      <td>27802.0</td>\n",
       "      <td>green</td>\n",
       "      <td>tan</td>\n",
       "      <td>fordlincoln dealer program</td>\n",
       "      <td>230000</td>\n",
       "      <td>2015-02-24 18:00:00+00:00</td>\n",
       "      <td>(26430.425, 31716.11]</td>\n",
       "    </tr>\n",
       "  </tbody>\n",
       "</table>\n",
       "</div>"
      ],
      "text/plain": [
       "        year  make   model      trim body transmission                vin  \\\n",
       "392004  2014  Ford  escape  Titanium  SUV    automatic  1fmcu9j98eua23833   \n",
       "\n",
       "       state  condition  odometer  color interior                      seller  \\\n",
       "392004    mo        4.3   27802.0  green      tan  fordlincoln dealer program   \n",
       "\n",
       "        sellingprice                  saledate      odometer_category  \n",
       "392004        230000 2015-02-24 18:00:00+00:00  (26430.425, 31716.11]  "
      ]
     },
     "execution_count": 39,
     "metadata": {},
     "output_type": "execute_result"
    }
   ],
   "source": [
    "df.query('sellingprice>200000') # не похоже на правду"
   ]
  },
  {
   "cell_type": "code",
   "execution_count": 40,
   "id": "Z7dqggmzJ7Pj",
   "metadata": {
    "execution": {
     "iopub.execute_input": "2023-08-12T08:21:51.271066Z",
     "iopub.status.busy": "2023-08-12T08:21:51.270662Z",
     "iopub.status.idle": "2023-08-12T08:21:51.304481Z",
     "shell.execute_reply": "2023-08-12T08:21:51.303474Z",
     "shell.execute_reply.started": "2023-08-12T08:21:51.271032Z"
    },
    "id": "Z7dqggmzJ7Pj",
    "outputId": "c097810d-ed0b-451c-e9c0-276ee415fc13"
   },
   "outputs": [
    {
     "data": {
      "text/plain": [
       "14900.0"
      ]
     },
     "execution_count": 40,
     "metadata": {},
     "output_type": "execute_result"
    }
   ],
   "source": [
    "df.query('model==\"escape\"')['sellingprice'].median() #это явный выброс, ошиблись с ноликом в конце"
   ]
  },
  {
   "cell_type": "markdown",
   "id": "tqsno03BJ7Pj",
   "metadata": {
    "id": "tqsno03BJ7Pj"
   },
   "source": [
    "Я составлю функцию которая по группировке по модели, году, пробегу будет менять значение выброса за рамками 5 и 95% на на медианное по группировке"
   ]
  },
  {
   "cell_type": "code",
   "execution_count": 41,
   "id": "_U8zO7s7J7Pk",
   "metadata": {
    "execution": {
     "iopub.execute_input": "2023-08-12T08:22:57.556720Z",
     "iopub.status.busy": "2023-08-12T08:22:57.556299Z",
     "iopub.status.idle": "2023-08-12T08:25:09.749727Z",
     "shell.execute_reply": "2023-08-12T08:25:09.748025Z",
     "shell.execute_reply.started": "2023-08-12T08:22:57.556686Z"
    },
    "id": "_U8zO7s7J7Pk"
   },
   "outputs": [],
   "source": [
    "def replace_outliers(group):\n",
    "    sellingprice_median = group['sellingprice'].median()\n",
    "    sellingprice_5_percent = sellingprice_median * 0.05\n",
    "    sellingprice_95_quantile = group['sellingprice'].quantile(0.95)\n",
    "\n",
    "    group.loc[group['sellingprice'] < sellingprice_5_percent, 'sellingprice'] = sellingprice_median\n",
    "    group.loc[group['sellingprice'] > sellingprice_95_quantile, 'sellingprice'] = sellingprice_median\n",
    "\n",
    "    return group\n",
    "\n",
    "df = df.groupby(['model','year','odometer_category'],group_keys=False).apply(replace_outliers)"
   ]
  },
  {
   "cell_type": "code",
   "execution_count": 42,
   "id": "styUvTwBJ7Pk",
   "metadata": {
    "execution": {
     "iopub.execute_input": "2023-08-12T08:27:19.840351Z",
     "iopub.status.busy": "2023-08-12T08:27:19.840008Z",
     "iopub.status.idle": "2023-08-12T08:27:19.865706Z",
     "shell.execute_reply": "2023-08-12T08:27:19.864722Z",
     "shell.execute_reply.started": "2023-08-12T08:27:19.840324Z"
    },
    "id": "styUvTwBJ7Pk",
    "outputId": "a98f040f-9ac6-4e6b-cc40-e0cb5c9ebd58"
   },
   "outputs": [
    {
     "data": {
      "text/plain": [
       "count    440236.000000\n",
       "mean      13281.166127\n",
       "std        9493.568376\n",
       "min         100.000000\n",
       "25%        6600.000000\n",
       "50%       12000.000000\n",
       "75%       17900.000000\n",
       "max      183000.000000\n",
       "Name: sellingprice, dtype: float64"
      ]
     },
     "execution_count": 42,
     "metadata": {},
     "output_type": "execute_result"
    }
   ],
   "source": [
    "df['sellingprice'].describe() # неадекватные суммы в 100 долларов которые мы не сможем прогонзировать все равно остались"
   ]
  },
  {
   "cell_type": "code",
   "execution_count": 43,
   "id": "ZaIy29K1J7Pk",
   "metadata": {
    "execution": {
     "iopub.execute_input": "2023-08-12T08:27:20.951971Z",
     "iopub.status.busy": "2023-08-12T08:27:20.951530Z",
     "iopub.status.idle": "2023-08-12T08:27:20.971532Z",
     "shell.execute_reply": "2023-08-12T08:27:20.969860Z",
     "shell.execute_reply.started": "2023-08-12T08:27:20.951909Z"
    },
    "id": "ZaIy29K1J7Pk",
    "outputId": "9bbbd126-a8da-404a-9c7c-aad77512f697"
   },
   "outputs": [
    {
     "data": {
      "text/html": [
       "<div>\n",
       "<style scoped>\n",
       "    .dataframe tbody tr th:only-of-type {\n",
       "        vertical-align: middle;\n",
       "    }\n",
       "\n",
       "    .dataframe tbody tr th {\n",
       "        vertical-align: top;\n",
       "    }\n",
       "\n",
       "    .dataframe thead th {\n",
       "        text-align: right;\n",
       "    }\n",
       "</style>\n",
       "<table border=\"1\" class=\"dataframe\">\n",
       "  <thead>\n",
       "    <tr style=\"text-align: right;\">\n",
       "      <th></th>\n",
       "      <th>year</th>\n",
       "      <th>make</th>\n",
       "      <th>model</th>\n",
       "      <th>trim</th>\n",
       "      <th>body</th>\n",
       "      <th>transmission</th>\n",
       "      <th>vin</th>\n",
       "      <th>state</th>\n",
       "      <th>condition</th>\n",
       "      <th>odometer</th>\n",
       "      <th>color</th>\n",
       "      <th>interior</th>\n",
       "      <th>seller</th>\n",
       "      <th>sellingprice</th>\n",
       "      <th>saledate</th>\n",
       "      <th>odometer_category</th>\n",
       "    </tr>\n",
       "  </thead>\n",
       "  <tbody>\n",
       "  </tbody>\n",
       "</table>\n",
       "</div>"
      ],
      "text/plain": [
       "Empty DataFrame\n",
       "Columns: [year, make, model, trim, body, transmission, vin, state, condition, odometer, color, interior, seller, sellingprice, saledate, odometer_category]\n",
       "Index: []"
      ]
     },
     "execution_count": 43,
     "metadata": {},
     "output_type": "execute_result"
    }
   ],
   "source": [
    "df.query('sellingprice>200000') # не осталось самых неадекватных выбросов"
   ]
  },
  {
   "cell_type": "code",
   "execution_count": 44,
   "id": "0EXpuw3BJ7Pk",
   "metadata": {
    "execution": {
     "iopub.execute_input": "2023-08-12T08:27:23.839540Z",
     "iopub.status.busy": "2023-08-12T08:27:23.839183Z",
     "iopub.status.idle": "2023-08-12T08:27:23.869266Z",
     "shell.execute_reply": "2023-08-12T08:27:23.867801Z",
     "shell.execute_reply.started": "2023-08-12T08:27:23.839513Z"
    },
    "id": "0EXpuw3BJ7Pk",
    "outputId": "ab1136e9-7270-484f-89f6-4ad3ab3594ce"
   },
   "outputs": [
    {
     "data": {
      "text/plain": [
       "transmission\n",
       "automatic    375061\n",
       "manual        13714\n",
       "Name: count, dtype: int64"
      ]
     },
     "execution_count": 44,
     "metadata": {},
     "output_type": "execute_result"
    }
   ],
   "source": [
    "df['transmission'].value_counts()"
   ]
  },
  {
   "cell_type": "markdown",
   "id": "Cle-FufoJ7Pk",
   "metadata": {
    "id": "Cle-FufoJ7Pk"
   },
   "source": [
    "Самое большое количество пропусков у нас содерджится в параметре Transmission. Для него и для остальные пропущенных значения я создам параметр \"other\" чтобы заполнить пропуски без удаления данных"
   ]
  },
  {
   "cell_type": "code",
   "execution_count": 45,
   "id": "sdVVQBxAJ7Pk",
   "metadata": {
    "execution": {
     "iopub.execute_input": "2023-08-12T08:27:26.543883Z",
     "iopub.status.busy": "2023-08-12T08:27:26.543486Z",
     "iopub.status.idle": "2023-08-12T08:27:27.138503Z",
     "shell.execute_reply": "2023-08-12T08:27:27.136861Z",
     "shell.execute_reply.started": "2023-08-12T08:27:26.543851Z"
    },
    "id": "sdVVQBxAJ7Pk",
    "outputId": "e899f9eb-3fc9-4fcf-8777-6a0d9bfc780a"
   },
   "outputs": [
    {
     "data": {
      "text/plain": [
       "year                     0\n",
       "make                  8043\n",
       "model                    0\n",
       "trim                  8337\n",
       "body                 10393\n",
       "transmission         51461\n",
       "vin                      0\n",
       "state                    0\n",
       "condition                0\n",
       "odometer                 0\n",
       "color                  586\n",
       "interior               586\n",
       "seller                   0\n",
       "sellingprice             0\n",
       "saledate                 0\n",
       "odometer_category        0\n",
       "dtype: int64"
      ]
     },
     "execution_count": 45,
     "metadata": {},
     "output_type": "execute_result"
    }
   ],
   "source": [
    "df.isna().sum()"
   ]
  },
  {
   "cell_type": "code",
   "execution_count": 46,
   "id": "OjXG4KTdJ7Pk",
   "metadata": {
    "execution": {
     "iopub.execute_input": "2023-08-12T08:27:29.158055Z",
     "iopub.status.busy": "2023-08-12T08:27:29.157620Z",
     "iopub.status.idle": "2023-08-12T08:27:29.495461Z",
     "shell.execute_reply": "2023-08-12T08:27:29.494399Z",
     "shell.execute_reply.started": "2023-08-12T08:27:29.158005Z"
    },
    "id": "OjXG4KTdJ7Pk"
   },
   "outputs": [],
   "source": [
    "df['make'] = df['make'].fillna('other')\n",
    "df['trim'] = df['trim'].fillna('other')\n",
    "df['body'] = df['body'].fillna('other')\n",
    "df['transmission'] = df['transmission'].fillna('other')\n",
    "df['color'] = df['color'].fillna('—')\n",
    "df['interior'] = df['interior'].fillna('—')"
   ]
  },
  {
   "cell_type": "code",
   "execution_count": 47,
   "id": "DaYutVFhJ7Pl",
   "metadata": {
    "execution": {
     "iopub.execute_input": "2023-08-12T08:27:31.868874Z",
     "iopub.status.busy": "2023-08-12T08:27:31.867552Z",
     "iopub.status.idle": "2023-08-12T08:27:32.999352Z",
     "shell.execute_reply": "2023-08-12T08:27:32.998118Z",
     "shell.execute_reply.started": "2023-08-12T08:27:31.868823Z"
    },
    "id": "DaYutVFhJ7Pl",
    "outputId": "6bd808d2-abcb-49e0-a277-b6c931aa0547"
   },
   "outputs": [
    {
     "name": "stdout",
     "output_type": "stream",
     "text": [
      "<class 'pandas.core.frame.DataFrame'>\n",
      "Index: 440236 entries, 0 to 440235\n",
      "Data columns (total 16 columns):\n",
      " #   Column             Non-Null Count   Dtype              \n",
      "---  ------             --------------   -----              \n",
      " 0   year               440236 non-null  int64              \n",
      " 1   make               440236 non-null  object             \n",
      " 2   model              440236 non-null  object             \n",
      " 3   trim               440236 non-null  object             \n",
      " 4   body               440236 non-null  object             \n",
      " 5   transmission       440236 non-null  object             \n",
      " 6   vin                440236 non-null  object             \n",
      " 7   state              440236 non-null  object             \n",
      " 8   condition          440236 non-null  float64            \n",
      " 9   odometer           440236 non-null  float64            \n",
      " 10  color              440236 non-null  object             \n",
      " 11  interior           440236 non-null  object             \n",
      " 12  seller             440236 non-null  object             \n",
      " 13  sellingprice       440236 non-null  float64            \n",
      " 14  saledate           440236 non-null  datetime64[ns, UTC]\n",
      " 15  odometer_category  440236 non-null  category           \n",
      "dtypes: category(1), datetime64[ns, UTC](1), float64(3), int64(1), object(10)\n",
      "memory usage: 70.3+ MB\n",
      "None\n"
     ]
    },
    {
     "data": {
      "text/plain": [
       "year                 0\n",
       "make                 0\n",
       "model                0\n",
       "trim                 0\n",
       "body                 0\n",
       "transmission         0\n",
       "vin                  0\n",
       "state                0\n",
       "condition            0\n",
       "odometer             0\n",
       "color                0\n",
       "interior             0\n",
       "seller               0\n",
       "sellingprice         0\n",
       "saledate             0\n",
       "odometer_category    0\n",
       "dtype: int64"
      ]
     },
     "execution_count": 47,
     "metadata": {},
     "output_type": "execute_result"
    }
   ],
   "source": [
    "print(df.info()) #итоговая проверка\n",
    "df.isna().sum()"
   ]
  },
  {
   "cell_type": "code",
   "execution_count": 48,
   "id": "suWwDnGfJ7Pl",
   "metadata": {
    "execution": {
     "iopub.execute_input": "2023-08-12T08:27:36.718959Z",
     "iopub.status.busy": "2023-08-12T08:27:36.718520Z",
     "iopub.status.idle": "2023-08-12T08:27:36.792716Z",
     "shell.execute_reply": "2023-08-12T08:27:36.791809Z",
     "shell.execute_reply.started": "2023-08-12T08:27:36.718904Z"
    },
    "id": "suWwDnGfJ7Pl",
    "outputId": "98bd5f3a-4109-4f32-b979-cb7a5e97fbc3"
   },
   "outputs": [
    {
     "data": {
      "text/html": [
       "<div>\n",
       "<style scoped>\n",
       "    .dataframe tbody tr th:only-of-type {\n",
       "        vertical-align: middle;\n",
       "    }\n",
       "\n",
       "    .dataframe tbody tr th {\n",
       "        vertical-align: top;\n",
       "    }\n",
       "\n",
       "    .dataframe thead th {\n",
       "        text-align: right;\n",
       "    }\n",
       "</style>\n",
       "<table border=\"1\" class=\"dataframe\">\n",
       "  <thead>\n",
       "    <tr style=\"text-align: right;\">\n",
       "      <th></th>\n",
       "      <th>year</th>\n",
       "      <th>condition</th>\n",
       "      <th>odometer</th>\n",
       "      <th>sellingprice</th>\n",
       "    </tr>\n",
       "  </thead>\n",
       "  <tbody>\n",
       "    <tr>\n",
       "      <th>count</th>\n",
       "      <td>440236.000000</td>\n",
       "      <td>440236.000000</td>\n",
       "      <td>440236.000000</td>\n",
       "      <td>440236.000000</td>\n",
       "    </tr>\n",
       "    <tr>\n",
       "      <th>mean</th>\n",
       "      <td>2010.040101</td>\n",
       "      <td>3.410608</td>\n",
       "      <td>67866.007276</td>\n",
       "      <td>13281.166127</td>\n",
       "    </tr>\n",
       "    <tr>\n",
       "      <th>std</th>\n",
       "      <td>3.977945</td>\n",
       "      <td>0.949426</td>\n",
       "      <td>50524.722285</td>\n",
       "      <td>9493.568376</td>\n",
       "    </tr>\n",
       "    <tr>\n",
       "      <th>min</th>\n",
       "      <td>1982.000000</td>\n",
       "      <td>1.000000</td>\n",
       "      <td>2.000000</td>\n",
       "      <td>100.000000</td>\n",
       "    </tr>\n",
       "    <tr>\n",
       "      <th>25%</th>\n",
       "      <td>2007.000000</td>\n",
       "      <td>2.700000</td>\n",
       "      <td>28457.000000</td>\n",
       "      <td>6600.000000</td>\n",
       "    </tr>\n",
       "    <tr>\n",
       "      <th>50%</th>\n",
       "      <td>2012.000000</td>\n",
       "      <td>3.600000</td>\n",
       "      <td>52386.000000</td>\n",
       "      <td>12000.000000</td>\n",
       "    </tr>\n",
       "    <tr>\n",
       "      <th>75%</th>\n",
       "      <td>2013.000000</td>\n",
       "      <td>4.200000</td>\n",
       "      <td>99568.000000</td>\n",
       "      <td>17900.000000</td>\n",
       "    </tr>\n",
       "    <tr>\n",
       "      <th>max</th>\n",
       "      <td>2015.000000</td>\n",
       "      <td>5.000000</td>\n",
       "      <td>528570.500000</td>\n",
       "      <td>183000.000000</td>\n",
       "    </tr>\n",
       "  </tbody>\n",
       "</table>\n",
       "</div>"
      ],
      "text/plain": [
       "                year      condition       odometer   sellingprice\n",
       "count  440236.000000  440236.000000  440236.000000  440236.000000\n",
       "mean     2010.040101       3.410608   67866.007276   13281.166127\n",
       "std         3.977945       0.949426   50524.722285    9493.568376\n",
       "min      1982.000000       1.000000       2.000000     100.000000\n",
       "25%      2007.000000       2.700000   28457.000000    6600.000000\n",
       "50%      2012.000000       3.600000   52386.000000   12000.000000\n",
       "75%      2013.000000       4.200000   99568.000000   17900.000000\n",
       "max      2015.000000       5.000000  528570.500000  183000.000000"
      ]
     },
     "execution_count": 48,
     "metadata": {},
     "output_type": "execute_result"
    }
   ],
   "source": [
    "df.describe()"
   ]
  },
  {
   "cell_type": "code",
   "execution_count": 49,
   "id": "0FJUnVUsJ7Pl",
   "metadata": {
    "execution": {
     "iopub.execute_input": "2023-08-12T08:27:41.338810Z",
     "iopub.status.busy": "2023-08-12T08:27:41.338193Z",
     "iopub.status.idle": "2023-08-12T08:27:45.590431Z",
     "shell.execute_reply": "2023-08-12T08:27:45.589290Z",
     "shell.execute_reply.started": "2023-08-12T08:27:41.338768Z"
    },
    "id": "0FJUnVUsJ7Pl",
    "outputId": "69eee666-9965-4e03-850e-a90ade37a304"
   },
   "outputs": [
    {
     "data": {
      "text/html": [
       "<div>\n",
       "<style scoped>\n",
       "    .dataframe tbody tr th:only-of-type {\n",
       "        vertical-align: middle;\n",
       "    }\n",
       "\n",
       "    .dataframe tbody tr th {\n",
       "        vertical-align: top;\n",
       "    }\n",
       "\n",
       "    .dataframe thead th {\n",
       "        text-align: right;\n",
       "    }\n",
       "</style>\n",
       "<table border=\"1\" class=\"dataframe\">\n",
       "  <thead>\n",
       "    <tr style=\"text-align: right;\">\n",
       "      <th></th>\n",
       "      <th>year</th>\n",
       "      <th>model</th>\n",
       "      <th>state</th>\n",
       "      <th>interior</th>\n",
       "      <th>condition</th>\n",
       "      <th>odometer</th>\n",
       "      <th>sellingprice</th>\n",
       "    </tr>\n",
       "  </thead>\n",
       "  <tbody>\n",
       "    <tr>\n",
       "      <th>year</th>\n",
       "      <td>1.000000</td>\n",
       "      <td>0.742631</td>\n",
       "      <td>0.245191</td>\n",
       "      <td>0.274518</td>\n",
       "      <td>0.565637</td>\n",
       "      <td>0.722408</td>\n",
       "      <td>0.365136</td>\n",
       "    </tr>\n",
       "    <tr>\n",
       "      <th>model</th>\n",
       "      <td>0.742631</td>\n",
       "      <td>1.000000</td>\n",
       "      <td>0.542201</td>\n",
       "      <td>0.584924</td>\n",
       "      <td>0.435771</td>\n",
       "      <td>0.674399</td>\n",
       "      <td>0.901172</td>\n",
       "    </tr>\n",
       "    <tr>\n",
       "      <th>state</th>\n",
       "      <td>0.245191</td>\n",
       "      <td>0.542201</td>\n",
       "      <td>1.000000</td>\n",
       "      <td>0.222375</td>\n",
       "      <td>0.255334</td>\n",
       "      <td>0.263876</td>\n",
       "      <td>0.169270</td>\n",
       "    </tr>\n",
       "    <tr>\n",
       "      <th>interior</th>\n",
       "      <td>0.274518</td>\n",
       "      <td>0.584924</td>\n",
       "      <td>0.222375</td>\n",
       "      <td>1.000000</td>\n",
       "      <td>0.166941</td>\n",
       "      <td>0.224379</td>\n",
       "      <td>0.149573</td>\n",
       "    </tr>\n",
       "    <tr>\n",
       "      <th>condition</th>\n",
       "      <td>0.565637</td>\n",
       "      <td>0.435771</td>\n",
       "      <td>0.255334</td>\n",
       "      <td>0.166941</td>\n",
       "      <td>1.000000</td>\n",
       "      <td>0.549017</td>\n",
       "      <td>0.393559</td>\n",
       "    </tr>\n",
       "    <tr>\n",
       "      <th>odometer</th>\n",
       "      <td>0.722408</td>\n",
       "      <td>0.674399</td>\n",
       "      <td>0.263876</td>\n",
       "      <td>0.224379</td>\n",
       "      <td>0.549017</td>\n",
       "      <td>1.000000</td>\n",
       "      <td>0.406919</td>\n",
       "    </tr>\n",
       "    <tr>\n",
       "      <th>sellingprice</th>\n",
       "      <td>0.365136</td>\n",
       "      <td>0.901172</td>\n",
       "      <td>0.169270</td>\n",
       "      <td>0.149573</td>\n",
       "      <td>0.393559</td>\n",
       "      <td>0.406919</td>\n",
       "      <td>1.000000</td>\n",
       "    </tr>\n",
       "  </tbody>\n",
       "</table>\n",
       "</div>"
      ],
      "text/plain": [
       "                  year     model     state  interior  condition  odometer  \\\n",
       "year          1.000000  0.742631  0.245191  0.274518   0.565637  0.722408   \n",
       "model         0.742631  1.000000  0.542201  0.584924   0.435771  0.674399   \n",
       "state         0.245191  0.542201  1.000000  0.222375   0.255334  0.263876   \n",
       "interior      0.274518  0.584924  0.222375  1.000000   0.166941  0.224379   \n",
       "condition     0.565637  0.435771  0.255334  0.166941   1.000000  0.549017   \n",
       "odometer      0.722408  0.674399  0.263876  0.224379   0.549017  1.000000   \n",
       "sellingprice  0.365136  0.901172  0.169270  0.149573   0.393559  0.406919   \n",
       "\n",
       "              sellingprice  \n",
       "year              0.365136  \n",
       "model             0.901172  \n",
       "state             0.169270  \n",
       "interior          0.149573  \n",
       "condition         0.393559  \n",
       "odometer          0.406919  \n",
       "sellingprice      1.000000  "
      ]
     },
     "execution_count": 49,
     "metadata": {},
     "output_type": "execute_result"
    }
   ],
   "source": [
    "df[['year','model','state','interior','condition','odometer','sellingprice']].phik_matrix(interval_cols=['year', 'condition', 'odometer', 'sellingprice'])"
   ]
  },
  {
   "cell_type": "markdown",
   "id": "4keIm3c3J7Pl",
   "metadata": {
    "id": "4keIm3c3J7Pl"
   },
   "source": [
    "Мы выбрали те признаки , которые в дальнейшем будем анализировать для оценки их коллениарности. Мы видим что целевой признак sellingprice наиболее зависим почти линейно от модели и марки автомобиля, что в целом очень соотносится со здравым смыслом. Наименее заметная связь с трансмиссией. В то же время колонки make и model имеют линейную зависимость между собой. Точно так же body и model имеют линейную зависимость. В целом такое соотношение может негативно сказываться на посторении модели для предсказания.\n",
    "Далее для анализа попробуем использовать только параметр model, а make и body не будем пока использовать.\n",
    "\n",
    "Так же мы наблюдаем высокую корреляцию seller с целевым признаком. color и transmission кореллируют очень слабо\n",
    "\n",
    "Предобработка завершена. Приступим к обучению моделей."
   ]
  },
  {
   "cell_type": "markdown",
   "id": "bm756QLkJ7Pl",
   "metadata": {
    "id": "bm756QLkJ7Pl",
    "tags": []
   },
   "source": [
    "# Обучение моделей\n",
    "\n",
    "Построим несколько моделей для поиска лучшей. Затем проведем тестирование на тестовой выборке.\n",
    "\n",
    "Выбрем признаки которые наиболее влияют на целевой признак и передадим в переменную df_clear"
   ]
  },
  {
   "cell_type": "code",
   "execution_count": 50,
   "id": "jdn_TuoqJ7Pl",
   "metadata": {
    "execution": {
     "iopub.execute_input": "2023-08-12T08:27:58.789056Z",
     "iopub.status.busy": "2023-08-12T08:27:58.788600Z",
     "iopub.status.idle": "2023-08-12T08:27:58.850879Z",
     "shell.execute_reply": "2023-08-12T08:27:58.849458Z",
     "shell.execute_reply.started": "2023-08-12T08:27:58.789015Z"
    },
    "id": "jdn_TuoqJ7Pl"
   },
   "outputs": [],
   "source": [
    "df_clear = df[['year','model','state','interior','condition','odometer','seller','sellingprice']].copy()"
   ]
  },
  {
   "cell_type": "code",
   "execution_count": 51,
   "id": "YvFaW2TLJ7Pl",
   "metadata": {
    "execution": {
     "iopub.execute_input": "2023-08-12T08:28:06.391015Z",
     "iopub.status.busy": "2023-08-12T08:28:06.390611Z",
     "iopub.status.idle": "2023-08-12T08:28:06.562954Z",
     "shell.execute_reply": "2023-08-12T08:28:06.561747Z",
     "shell.execute_reply.started": "2023-08-12T08:28:06.390988Z"
    },
    "id": "YvFaW2TLJ7Pl",
    "outputId": "92c54ea6-68e7-4cd3-a7b8-3d835e0ee946"
   },
   "outputs": [
    {
     "name": "stdout",
     "output_type": "stream",
     "text": [
      "(330177, 7) (110059, 7)\n"
     ]
    }
   ],
   "source": [
    "target = df_clear['sellingprice']\n",
    "features = df_clear.drop(['sellingprice'], axis=1)\n",
    "\n",
    "features_train, features_test, target_train, target_test = train_test_split(\n",
    "    features, target, test_size=0.25, random_state=12345)\n",
    "\n",
    "print(features_train.shape,features_test.shape)"
   ]
  },
  {
   "cell_type": "markdown",
   "id": "vFZznJRSJ7Pm",
   "metadata": {
    "id": "vFZznJRSJ7Pm"
   },
   "source": [
    "В каждой категории у нас очень много признаков. Используем ОЕ кодирование."
   ]
  },
  {
   "cell_type": "code",
   "execution_count": 52,
   "id": "0PM-eVniJ7Pm",
   "metadata": {
    "execution": {
     "iopub.execute_input": "2023-08-12T08:28:20.988466Z",
     "iopub.status.busy": "2023-08-12T08:28:20.988136Z",
     "iopub.status.idle": "2023-08-12T08:28:21.024413Z",
     "shell.execute_reply": "2023-08-12T08:28:21.022817Z",
     "shell.execute_reply.started": "2023-08-12T08:28:20.988441Z"
    },
    "id": "0PM-eVniJ7Pm",
    "outputId": "ea901f37-9c6d-464f-99d0-b95e029b1fe6"
   },
   "outputs": [
    {
     "name": "stdout",
     "output_type": "stream",
     "text": [
      "['model', 'state', 'interior', 'seller']\n"
     ]
    },
    {
     "data": {
      "text/plain": [
       "['year', 'condition', 'odometer']"
      ]
     },
     "execution_count": 52,
     "metadata": {},
     "output_type": "execute_result"
    }
   ],
   "source": [
    "oe_features = features_train.select_dtypes(include='object').columns.to_list()\n",
    "print(oe_features) # категориальные признаки для OE\n",
    "\n",
    "num_features = features_train.select_dtypes(exclude='object').columns.to_list()\n",
    "num_features # численные признакии"
   ]
  },
  {
   "cell_type": "markdown",
   "id": "lrTH4HQ7J7Pm",
   "metadata": {
    "id": "lrTH4HQ7J7Pm"
   },
   "source": [
    "## Построим модель для линейной регрессии"
   ]
  },
  {
   "cell_type": "markdown",
   "id": "oet2XukfJ7Pm",
   "metadata": {
    "id": "oet2XukfJ7Pm"
   },
   "source": [
    "Используем трансформер чтобы создать новую переменную в которой будут сохранены преобразованные признаки катеориальные через ОЕ и числовые через StandardScaler"
   ]
  },
  {
   "cell_type": "markdown",
   "id": "HDoPtB-vJ7Pm",
   "metadata": {
    "id": "HDoPtB-vJ7Pm"
   },
   "source": [
    "В коде мы будем использовать конструкцию GridSearchCV с использованием кросс-валидации"
   ]
  },
  {
   "cell_type": "code",
   "execution_count": 53,
   "id": "c5f4ced4",
   "metadata": {},
   "outputs": [
    {
     "name": "stdout",
     "output_type": "stream",
     "text": [
      "Результат mape:  66.83650645799013\n"
     ]
    }
   ],
   "source": [
    "column_transformer = make_column_transformer(\n",
    "    (StandardScaler(), num_features),\n",
    "    (OrdinalEncoder(handle_unknown='use_encoded_value', unknown_value=-1), oe_features),\n",
    "    remainder='passthrough' \n",
    ")\n",
    "\n",
    "linear_reg = make_pipeline(\n",
    "    column_transformer,\n",
    "    LinearRegression()\n",
    ")\n",
    "\n",
    "grid_space = {\n",
    "}\n",
    "\n",
    "grid_linear = GridSearchCV(linear_reg, scoring='neg_mean_absolute_percentage_error', param_grid=grid_space, cv=2, n_jobs=-1)\n",
    "\n",
    "grid_linear.fit(features_train, target_train)\n",
    "linear_reg_mape = -grid_linear.best_score_*100\n",
    "\n",
    "print('Результат mape: ', linear_reg_mape)"
   ]
  },
  {
   "cell_type": "markdown",
   "id": "VpfK0J7oJ7Pm",
   "metadata": {
    "id": "VpfK0J7oJ7Pm"
   },
   "source": [
    "Отклонение для линейной регрессии составляет 66.8%, продолжим исследования."
   ]
  },
  {
   "cell_type": "markdown",
   "id": "I7YfomV-J7Pm",
   "metadata": {
    "id": "I7YfomV-J7Pm"
   },
   "source": [
    "## Построим модель случайного леса"
   ]
  },
  {
   "cell_type": "markdown",
   "id": "910aa5d6",
   "metadata": {},
   "source": [
    "Как и в модели выше мы будем использовать конвейер для последовательного преобразования признаков"
   ]
  },
  {
   "cell_type": "code",
   "execution_count": 54,
   "id": "af77a8cb",
   "metadata": {},
   "outputs": [
    {
     "name": "stdout",
     "output_type": "stream",
     "text": [
      "Лучшие гиперпараметры:  {'randomforestregressor__max_depth': 35, 'randomforestregressor__n_estimators': 38}\n",
      "Результат mape:  28.37783861333316\n"
     ]
    }
   ],
   "source": [
    "column_transformer = make_column_transformer(\n",
    "    (StandardScaler(), num_features),\n",
    "    (OrdinalEncoder(handle_unknown='use_encoded_value', unknown_value=-1), oe_features),\n",
    "    remainder='passthrough' \n",
    ")\n",
    "random_for = make_pipeline(\n",
    "    column_transformer,\n",
    "    RandomForestRegressor(random_state=12345)\n",
    ")\n",
    "grid_space = {\n",
    "   'randomforestregressor__max_depth':[x for x in range(30,36,5)], \n",
    "   'randomforestregressor__n_estimators':[x for x in range(36,39,2)]\n",
    "}\n",
    "\n",
    "grid_forest = GridSearchCV(random_for, scoring='neg_mean_absolute_percentage_error', param_grid=grid_space, cv=2, n_jobs=-1)\n",
    "\n",
    "grid_forest.fit(features_train, target_train)\n",
    "rand_forest_mape = -grid_forest.best_score_*100\n",
    "\n",
    "print('Лучшие гиперпараметры: ', grid_forest.best_params_)\n",
    "print('Результат mape: ', rand_forest_mape)"
   ]
  },
  {
   "cell_type": "markdown",
   "id": "idKh5d25J7Pn",
   "metadata": {
    "id": "idKh5d25J7Pn"
   },
   "source": [
    "Отклонение для случайноо леса составляет 28.4%, продолжим исследования."
   ]
  },
  {
   "cell_type": "markdown",
   "id": "hx6VnGmCJ7Pn",
   "metadata": {
    "id": "hx6VnGmCJ7Pn"
   },
   "source": [
    "## Построим модель CatBoost\n",
    "\n",
    "Посмотрим какие результаты покажет CatBoost с данными обработанными по ОЕ"
   ]
  },
  {
   "cell_type": "code",
   "execution_count": 55,
   "id": "fb5f0863",
   "metadata": {},
   "outputs": [
    {
     "name": "stdout",
     "output_type": "stream",
     "text": [
      "Лучшие гиперпараметры:  {'catboostregressor__depth': 12, 'catboostregressor__iterations': 1400, 'catboostregressor__l2_leaf_reg': 1, 'catboostregressor__learning_rate': 0.1, 'catboostregressor__verbose': False}\n",
      "Результат mape: :  20.95768420398294\n",
      "CPU times: total: 18min 4s\n",
      "Wall time: 9min 1s\n"
     ]
    }
   ],
   "source": [
    "%%time\n",
    "\n",
    "column_transformer = make_column_transformer(\n",
    "    (StandardScaler(), num_features),\n",
    "    (OrdinalEncoder(handle_unknown='use_encoded_value', unknown_value=-1), oe_features),\n",
    "    remainder='passthrough' \n",
    ")\n",
    "cat_model = make_pipeline(\n",
    "    column_transformer,\n",
    "    CatBoostRegressor(random_state=12345)\n",
    ")\n",
    "grid_space = {\n",
    "    'catboostregressor__learning_rate':[0.1],\n",
    "    'catboostregressor__verbose':[False],\n",
    "    'catboostregressor__depth': [12],\n",
    "    'catboostregressor__l2_leaf_reg': [1],\n",
    "    'catboostregressor__iterations': [1400]\n",
    "}\n",
    "\n",
    "grid_oe = GridSearchCV(cat_model, scoring='neg_mean_absolute_percentage_error', param_grid=grid_space, cv=5, n_jobs=-1)\n",
    "\n",
    "grid_oe.fit(features_train, target_train)\n",
    "catboost_oe_mape = -grid_oe.best_score_*100\n",
    "\n",
    "print('Лучшие гиперпараметры: ', grid_oe.best_params_)\n",
    "print('Результат mape: : ', catboost_oe_mape)"
   ]
  },
  {
   "cell_type": "markdown",
   "id": "EeunE4vkJ7Pn",
   "metadata": {
    "id": "EeunE4vkJ7Pn"
   },
   "source": [
    "Результат в 20.9% отклонения нас устраивает. Продолжим исследование\n",
    "\n",
    "Попорбуем посмотреть результат CatBoost на выборку без преобразования признаков через ОЕ и Scaler"
   ]
  },
  {
   "cell_type": "code",
   "execution_count": 56,
   "id": "QoctsV1fJ7Pn",
   "metadata": {
    "execution": {
     "iopub.execute_input": "2023-08-12T08:59:36.129551Z",
     "iopub.status.busy": "2023-08-12T08:59:36.129213Z",
     "iopub.status.idle": "2023-08-12T10:00:26.360591Z",
     "shell.execute_reply": "2023-08-12T10:00:26.357758Z",
     "shell.execute_reply.started": "2023-08-12T08:59:36.129517Z"
    },
    "id": "QoctsV1fJ7Pn",
    "outputId": "f0808846-3936-4296-d0c6-0787f6c1cb26"
   },
   "outputs": [
    {
     "name": "stdout",
     "output_type": "stream",
     "text": [
      "Лучшие гиперпараметры:  {'depth': 12, 'iterations': 1400, 'l2_leaf_reg': 1, 'learning_rate': 0.1, 'verbose': False}\n",
      "Результат mape:  18.60458821579604\n",
      "CPU times: total: 57min 50s\n",
      "Wall time: 20min 49s\n"
     ]
    }
   ],
   "source": [
    "%%time\n",
    "\n",
    "model = CatBoostRegressor(cat_features=['model','state','interior','seller'], random_state=12345)\n",
    "\n",
    "grid_space={\n",
    "            'learning_rate':[0.1],\n",
    "            'verbose':[False],\n",
    "            'depth': [12],\n",
    "            'l2_leaf_reg': [1],\n",
    "            'iterations': [1400]\n",
    "}\n",
    "\n",
    "grid = GridSearchCV(model, scoring='neg_mean_absolute_percentage_error', param_grid=grid_space , cv=5, n_jobs=-1)\n",
    "\n",
    "grid.fit(features_train, target_train)\n",
    "\n",
    "print('Лучшие гиперпараметры: ', grid.best_params_)\n",
    "print('Результат mape: ', -grid.best_score_*100)"
   ]
  },
  {
   "cell_type": "code",
   "execution_count": 57,
   "id": "XG9WtsMmJ7Pn",
   "metadata": {
    "execution": {
     "iopub.execute_input": "2023-08-12T10:16:32.967346Z",
     "iopub.status.busy": "2023-08-12T10:16:32.966971Z",
     "iopub.status.idle": "2023-08-12T10:16:32.976207Z",
     "shell.execute_reply": "2023-08-12T10:16:32.974845Z",
     "shell.execute_reply.started": "2023-08-12T10:16:32.967311Z"
    },
    "id": "XG9WtsMmJ7Pn",
    "outputId": "f3b4b9b0-faf3-4e5a-b7db-13f84fbf06cf"
   },
   "outputs": [
    {
     "data": {
      "text/plain": [
       "array([16.40055777, 33.63548774,  6.66686142,  5.76647472,  6.75654055,\n",
       "       20.22754632, 10.54653148])"
      ]
     },
     "execution_count": 57,
     "metadata": {},
     "output_type": "execute_result"
    }
   ],
   "source": [
    "best_model = grid.best_estimator_ # получение наилучшей модели\n",
    "\n",
    "best_model.feature_importances_ # получение важности признаков"
   ]
  },
  {
   "cell_type": "code",
   "execution_count": 58,
   "id": "rLRDpnEQJ7Pn",
   "metadata": {
    "execution": {
     "iopub.execute_input": "2023-08-12T10:22:15.648424Z",
     "iopub.status.busy": "2023-08-12T10:22:15.648041Z",
     "iopub.status.idle": "2023-08-12T10:22:15.656789Z",
     "shell.execute_reply": "2023-08-12T10:22:15.655191Z",
     "shell.execute_reply.started": "2023-08-12T10:22:15.648393Z"
    },
    "id": "rLRDpnEQJ7Pn",
    "outputId": "90d2f428-3cc2-4f38-e2f3-0057ff9726a6"
   },
   "outputs": [
    {
     "data": {
      "text/plain": [
       "{'year': 16.40055777,\n",
       " 'model': 33.63548774,\n",
       " 'state': 6.66686142,\n",
       " 'interior': 5.76647472,\n",
       " 'condition': 6.75654055,\n",
       " 'odometer': 20.22754632,\n",
       " 'seller': 10.54653148}"
      ]
     },
     "execution_count": 58,
     "metadata": {},
     "output_type": "execute_result"
    }
   ],
   "source": [
    "importances = np.array([16.40055777, 33.63548774,  6.66686142,  5.76647472,  6.75654055, 20.22754632, 10.54653148])\n",
    "feature_names = np.array(['year','model','state','interior','condition','odometer','seller'])\n",
    "\n",
    "feature_importances = dict(zip(feature_names, importances)) # создание словаря с названиями признаков и их значениями важности\n",
    "\n",
    "feature_importances"
   ]
  },
  {
   "cell_type": "code",
   "execution_count": 59,
   "id": "ce3e1410",
   "metadata": {},
   "outputs": [
    {
     "data": {
      "image/png": "[encoded data removed]",
      "text/plain": [
       "<Figure size 700x400 with 1 Axes>"
      ]
     },
     "metadata": {},
     "output_type": "display_data"
    }
   ],
   "source": [
    "plt.figure(figsize=(7,4))\n",
    "plt.bar(feature_names, importances)\n",
    "plt.xlabel('Признаки')\n",
    "plt.ylabel('Важность в %')\n",
    "plt.title('Сравнение важности признаков')\n",
    "plt.show()"
   ]
  },
  {
   "cell_type": "markdown",
   "id": "p4iO1xyhJ7Po",
   "metadata": {
    "id": "p4iO1xyhJ7Po"
   },
   "source": [
    "Мы получили лучший результат в 18.6% отклонения на данных которые работают без ОЕ, они существенно медленнее, но точнее\n",
    "\n",
    "Самый важный признак который оценила модель для принятия решения о цене оказался модель машины с резульатом 33.6%, 20.2% показатель пробега. Я думаю что такие данные совпадают с ожиаднием реальности."
   ]
  },
  {
   "cell_type": "markdown",
   "id": "k_pWtM-MJ7Po",
   "metadata": {
    "id": "k_pWtM-MJ7Po"
   },
   "source": [
    "Промежуточный вовод: мы построили несколько моделей для предсказания MAPe\n",
    "\n",
    "Линеймная модель показала результат 66.8% отклонение\n",
    "\n",
    "Случайны лес показал 28.4%\n",
    "\n",
    "CatBost OE показал 20.9%\n",
    "\n",
    "CatBost без трансформера 18.6%"
   ]
  },
  {
   "cell_type": "markdown",
   "id": "NodI2WtEJ7Po",
   "metadata": {
    "id": "NodI2WtEJ7Po"
   },
   "source": [
    "## Тестирование\n",
    "\n",
    "Проведем тестирование модели на нашей лучшей модели"
   ]
  },
  {
   "cell_type": "code",
   "execution_count": 60,
   "id": "Us9KKjf1J7Po",
   "metadata": {
    "execution": {
     "iopub.execute_input": "2023-08-12T10:09:22.454091Z",
     "iopub.status.busy": "2023-08-12T10:09:22.453637Z",
     "iopub.status.idle": "2023-08-12T10:09:26.137002Z",
     "shell.execute_reply": "2023-08-12T10:09:26.134882Z",
     "shell.execute_reply.started": "2023-08-12T10:09:22.454057Z"
    },
    "id": "Us9KKjf1J7Po",
    "outputId": "e939859b-a18d-46e3-afcc-89035bf32919"
   },
   "outputs": [
    {
     "data": {
      "text/plain": [
       "18.32771893912138"
      ]
     },
     "execution_count": 60,
     "metadata": {},
     "output_type": "execute_result"
    }
   ],
   "source": [
    "predictions_CatBoost = grid.predict(features_test)\n",
    "\n",
    "mean_absolute_percentage_error(target_test,predictions_CatBoost)*100"
   ]
  },
  {
   "cell_type": "markdown",
   "id": "ALB-_jUOJ7Po",
   "metadata": {
    "id": "ALB-_jUOJ7Po"
   },
   "source": [
    "На тестовой модели мы получили результат 18.3%, нас этот результат устраивает."
   ]
  },
  {
   "cell_type": "markdown",
   "id": "Ou_jreAVJ7Pp",
   "metadata": {
    "id": "Ou_jreAVJ7Pp"
   },
   "source": [
    "## Dummy модель"
   ]
  },
  {
   "cell_type": "code",
   "execution_count": 61,
   "id": "ItGruzJHJ7Pp",
   "metadata": {
    "execution": {
     "iopub.execute_input": "2023-08-12T10:11:23.719248Z",
     "iopub.status.busy": "2023-08-12T10:11:23.718798Z",
     "iopub.status.idle": "2023-08-12T10:11:23.731274Z",
     "shell.execute_reply": "2023-08-12T10:11:23.730240Z",
     "shell.execute_reply.started": "2023-08-12T10:11:23.719215Z"
    },
    "id": "ItGruzJHJ7Pp",
    "outputId": "0c50fff6-bc75-4f24-cb36-bf51a7c0ee48"
   },
   "outputs": [
    {
     "name": "stdout",
     "output_type": "stream",
     "text": [
      "Среднее отклонение в процентах для модели Дамми составляет: 185.87524258956037\n"
     ]
    }
   ],
   "source": [
    "dummy_regr = DummyRegressor(strategy=\"mean\")\n",
    "dummy_regr.fit(features_train, target_train)\n",
    "DummyRegressor()\n",
    "dummy_regr_predict = dummy_regr.predict(features_test)\n",
    "mape = mean_absolute_percentage_error(target_test,dummy_regr_predict)\n",
    "mape = mape*100\n",
    "print('Среднее отклонение в процентах для модели Дамми составляет:', mape)"
   ]
  },
  {
   "cell_type": "markdown",
   "id": "h3a_aRAkJ7Pp",
   "metadata": {
    "id": "h3a_aRAkJ7Pp"
   },
   "source": [
    "Таким образом наша модель в несколько раз лучше стандартной Дамми модели, а значит она проходит тест на адекватность."
   ]
  },
  {
   "cell_type": "markdown",
   "id": "sI8LedIsJ7Pp",
   "metadata": {
    "id": "sI8LedIsJ7Pp"
   },
   "source": [
    "## Общий вывод:\n",
    "\n",
    "В нашем распоряжении файл с данными об аукционах автомобилей США и Канады. Перед нами стояла задача построить модель котора будет предсказывать цену авто.\n",
    "\n",
    "В качестве метрики качества мы использовали MAPE\n",
    "\n",
    "В ходе работы мы прошли основные этапы исследования:\n",
    "-    загрузка и ознакомление с данными,\n",
    "-    предварительная обработка,\n",
    "-    полноценный разведочный анализ,\n",
    "-    разработка новых синтетических признаков,\n",
    "-    проверка на мультиколлинеарность,\n",
    "-    отбор финального набора обучающих признаков,\n",
    "-    выбор и обучение моделей,\n",
    "-    итоговая оценка качества предсказания лучшей модели,\n",
    "-    анализ важности ее признаков.\n",
    "\n",
    "В ходе предобработки данных мы выявили выбросы и устранили их с помощью замены медианными признаками по коррелирующим признакам. Так же у нас была несколько признаков коррелирующих между собой со значеним 1. Это бы повредило качесву предсказания поэтому мы выбрали model а make и trim не использовали.\n",
    "\n",
    "У нас был недостаток значений в важнейшем поле model, но зато были все vin номера. Поэтому мы подгрузили недостающую информацию из открытых источников по API.\n",
    "\n",
    "Далее мы приступили к тестированию моделей обучения. В связи с тем что у нас больше количество признаков например в поле seller более 12000, мы приняли решение использовать ОЕ. Мы создали новые признаки с помощью трасформера с использованием ОЕ для категориальных признаков и StandartScaler для числовых признаков с использованием кросс-валидации.\n",
    "Мы получили следующие резульататы MAPE:\n",
    " - Линеймная модель показала результат 66.8% отклонение\n",
    " - Случайны лес показал 28.4%\n",
    " - CatBost OE показал 20.9%\n",
    " - CatBost без трансформера 18.6%\n",
    "\n",
    "Важность признаков лучшей модели говорит о том что модель и пробег авто наиболее влияют на цену продажи.\n",
    "\n",
    "Мы получили лучшую модель на тренировочной выборке и приступили к тестированию.\n",
    "\n",
    "На тестовой выборке наша лучшая модель CatBost без трансформера показала результат 18.3%, в то время как Дамми модель показала результат 186%. Таким образом мы видим, что наша модель сильно лучше простой модели Даммии и это говорит о полезности нашей работы."
   ]
  }
 ],
 "metadata": {
  "colab": {
   "provenance": []
  },
  "kernelspec": {
   "display_name": "Python 3 (ipykernel)",
   "language": "python",
   "name": "python3"
  },
  "language_info": {
   "codemirror_mode": {
    "name": "ipython",
    "version": 3
   },
   "file_extension": ".py",
   "mimetype": "text/x-python",
   "name": "python",
   "nbconvert_exporter": "python",
   "pygments_lexer": "ipython3",
   "version": "3.10.9"
  }
 },
 "nbformat": 4,
 "nbformat_minor": 5
}
