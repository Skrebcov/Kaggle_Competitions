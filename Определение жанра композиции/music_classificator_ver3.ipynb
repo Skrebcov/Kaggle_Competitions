{
 "cells": [
  {
   "cell_type": "markdown",
   "id": "f0b97bac",
   "metadata": {},
   "source": [
    "# Определение жанра композиции\n",
    "## Описание задачи\n",
    "Разработать модель, позволяющую классифицировать музыкальные произведения по жанрам.\n",
    "Данные:\n",
    "- instance_id - уникальный идентификатор трека\n",
    "- track_name - название трека\n",
    "- acousticness - акустичность\n",
    "- danceability - танцевальность\n",
    "- duration_ms -продолжительность в милисекундах\n",
    "- energy - энергичность\n",
    "- instrumentalness - инструментальность\n",
    "- key - базовый ключ (нота) произведения\n",
    "- liveness - привлекательность\n",
    "- loudness - громкость\n",
    "- mode - указывает на модальность (мажорную или минорную) трека\n",
    "- speechiness - выразительность\n",
    "- tempo - темп\n",
    "- obtained_date - дата загрузки в сервис\n",
    "- valence - привлекательность произведения для пользователей сервиса\n",
    "- music_genre - музыкальный жанр\n",
    "\n",
    "План исследования:\n",
    "- загрузка и ознакомление с данными,\n",
    "- предварительная обработка,\n",
    "- полноценный разведочный анализ,\n",
    "- разработка новых синтетических признаков,\n",
    "- проверка на мультиколлинеарность,\n",
    "- отбор финального набора обучающих признаков,\n",
    "- выбор и обучение моделей,\n",
    "- итоговая оценка качества предсказания лучшей модели,\n",
    "- анализ важности ее признаков.\n",
    "## Загрузка и анализ данных"
   ]
  },
  {
   "cell_type": "code",
   "execution_count": 1,
   "id": "4d4f5524",
   "metadata": {},
   "outputs": [],
   "source": [
    "#!pip install phik"
   ]
  },
  {
   "cell_type": "code",
   "execution_count": 2,
   "id": "ef412940",
   "metadata": {},
   "outputs": [],
   "source": [
    "import pandas as pd\n",
    "import numpy as np\n",
    "import matplotlib.pyplot as plt\n",
    "import phik\n",
    "import re \n",
    "import seaborn as sns\n",
    "from phik.report import plot_correlation_matrix\n",
    "from sklearn.linear_model import LogisticRegression\n",
    "from sklearn.model_selection import train_test_split, GridSearchCV\n",
    "from sklearn.preprocessing import OneHotEncoder, OrdinalEncoder\n",
    "from sklearn.compose import make_column_transformer\n",
    "from sklearn.preprocessing import StandardScaler\n",
    "from sklearn.pipeline import Pipeline, make_pipeline\n",
    "from sklearn.feature_extraction.text import TfidfVectorizer\n",
    "import nltk\n",
    "nltk.download('omw-1.4', quiet=True)\n",
    "from nltk.corpus import wordnet\n",
    "from nltk.corpus import stopwords as nltk_stopwords\n",
    "nltk.download('averaged_perceptron_tagger', quiet=True)\n",
    "nltk.download('wordnet', quiet=True)\n",
    "nltk.download('stopwords', quiet=True)\n",
    "from nltk.stem import WordNetLemmatizer \n",
    "from catboost import CatBoostClassifier\n",
    "from sklearn.ensemble import RandomForestClassifier\n",
    "from scipy.spatial.distance import pdist, squareform\n",
    "from sklearn.metrics import accuracy_score"
   ]
  },
  {
   "cell_type": "code",
   "execution_count": 3,
   "id": "50324154",
   "metadata": {},
   "outputs": [],
   "source": [
    "df = pd.read_csv('kaggle_music_genre_train.csv')"
   ]
  },
  {
   "cell_type": "code",
   "execution_count": 4,
   "id": "0afbc011",
   "metadata": {},
   "outputs": [
    {
     "data": {
      "text/html": [
       "<div>\n",
       "<style scoped>\n",
       "    .dataframe tbody tr th:only-of-type {\n",
       "        vertical-align: middle;\n",
       "    }\n",
       "\n",
       "    .dataframe tbody tr th {\n",
       "        vertical-align: top;\n",
       "    }\n",
       "\n",
       "    .dataframe thead th {\n",
       "        text-align: right;\n",
       "    }\n",
       "</style>\n",
       "<table border=\"1\" class=\"dataframe\">\n",
       "  <thead>\n",
       "    <tr style=\"text-align: right;\">\n",
       "      <th></th>\n",
       "      <th>instance_id</th>\n",
       "      <th>track_name</th>\n",
       "      <th>acousticness</th>\n",
       "      <th>danceability</th>\n",
       "      <th>duration_ms</th>\n",
       "      <th>energy</th>\n",
       "      <th>instrumentalness</th>\n",
       "      <th>key</th>\n",
       "      <th>liveness</th>\n",
       "      <th>loudness</th>\n",
       "      <th>mode</th>\n",
       "      <th>speechiness</th>\n",
       "      <th>tempo</th>\n",
       "      <th>obtained_date</th>\n",
       "      <th>valence</th>\n",
       "      <th>music_genre</th>\n",
       "    </tr>\n",
       "  </thead>\n",
       "  <tbody>\n",
       "    <tr>\n",
       "      <th>0</th>\n",
       "      <td>25143.0</td>\n",
       "      <td>Highwayman</td>\n",
       "      <td>0.4800</td>\n",
       "      <td>0.670</td>\n",
       "      <td>182653.0</td>\n",
       "      <td>0.351</td>\n",
       "      <td>0.017600</td>\n",
       "      <td>D</td>\n",
       "      <td>0.115</td>\n",
       "      <td>-16.842</td>\n",
       "      <td>Major</td>\n",
       "      <td>0.0463</td>\n",
       "      <td>101.384</td>\n",
       "      <td>4-Apr</td>\n",
       "      <td>0.450</td>\n",
       "      <td>Country</td>\n",
       "    </tr>\n",
       "    <tr>\n",
       "      <th>1</th>\n",
       "      <td>26091.0</td>\n",
       "      <td>Toes Across The Floor</td>\n",
       "      <td>0.2430</td>\n",
       "      <td>0.452</td>\n",
       "      <td>187133.0</td>\n",
       "      <td>0.670</td>\n",
       "      <td>0.000051</td>\n",
       "      <td>A</td>\n",
       "      <td>0.108</td>\n",
       "      <td>-8.392</td>\n",
       "      <td>Minor</td>\n",
       "      <td>0.0352</td>\n",
       "      <td>113.071</td>\n",
       "      <td>4-Apr</td>\n",
       "      <td>0.539</td>\n",
       "      <td>Rock</td>\n",
       "    </tr>\n",
       "    <tr>\n",
       "      <th>2</th>\n",
       "      <td>87888.0</td>\n",
       "      <td>First Person on Earth</td>\n",
       "      <td>0.2280</td>\n",
       "      <td>0.454</td>\n",
       "      <td>173448.0</td>\n",
       "      <td>0.804</td>\n",
       "      <td>0.000000</td>\n",
       "      <td>E</td>\n",
       "      <td>0.181</td>\n",
       "      <td>-5.225</td>\n",
       "      <td>Minor</td>\n",
       "      <td>0.3710</td>\n",
       "      <td>80.980</td>\n",
       "      <td>4-Apr</td>\n",
       "      <td>0.344</td>\n",
       "      <td>Alternative</td>\n",
       "    </tr>\n",
       "    <tr>\n",
       "      <th>3</th>\n",
       "      <td>77021.0</td>\n",
       "      <td>No Te Veo - Digital Single</td>\n",
       "      <td>0.0558</td>\n",
       "      <td>0.847</td>\n",
       "      <td>255987.0</td>\n",
       "      <td>0.873</td>\n",
       "      <td>0.000003</td>\n",
       "      <td>G#</td>\n",
       "      <td>0.325</td>\n",
       "      <td>-4.805</td>\n",
       "      <td>Minor</td>\n",
       "      <td>0.0804</td>\n",
       "      <td>116.007</td>\n",
       "      <td>4-Apr</td>\n",
       "      <td>0.966</td>\n",
       "      <td>Hip-Hop</td>\n",
       "    </tr>\n",
       "    <tr>\n",
       "      <th>4</th>\n",
       "      <td>20852.0</td>\n",
       "      <td>Chasing Shadows</td>\n",
       "      <td>0.2270</td>\n",
       "      <td>0.742</td>\n",
       "      <td>195333.0</td>\n",
       "      <td>0.575</td>\n",
       "      <td>0.000002</td>\n",
       "      <td>C</td>\n",
       "      <td>0.176</td>\n",
       "      <td>-5.550</td>\n",
       "      <td>Major</td>\n",
       "      <td>0.0487</td>\n",
       "      <td>76.494</td>\n",
       "      <td>4-Apr</td>\n",
       "      <td>0.583</td>\n",
       "      <td>Alternative</td>\n",
       "    </tr>\n",
       "  </tbody>\n",
       "</table>\n",
       "</div>"
      ],
      "text/plain": [
       "   instance_id                  track_name  acousticness  danceability  \\\n",
       "0      25143.0                  Highwayman        0.4800         0.670   \n",
       "1      26091.0       Toes Across The Floor        0.2430         0.452   \n",
       "2      87888.0       First Person on Earth        0.2280         0.454   \n",
       "3      77021.0  No Te Veo - Digital Single        0.0558         0.847   \n",
       "4      20852.0             Chasing Shadows        0.2270         0.742   \n",
       "\n",
       "   duration_ms  energy  instrumentalness key  liveness  loudness   mode  \\\n",
       "0     182653.0   0.351          0.017600   D     0.115   -16.842  Major   \n",
       "1     187133.0   0.670          0.000051   A     0.108    -8.392  Minor   \n",
       "2     173448.0   0.804          0.000000   E     0.181    -5.225  Minor   \n",
       "3     255987.0   0.873          0.000003  G#     0.325    -4.805  Minor   \n",
       "4     195333.0   0.575          0.000002   C     0.176    -5.550  Major   \n",
       "\n",
       "   speechiness    tempo obtained_date  valence  music_genre  \n",
       "0       0.0463  101.384         4-Apr    0.450      Country  \n",
       "1       0.0352  113.071         4-Apr    0.539         Rock  \n",
       "2       0.3710   80.980         4-Apr    0.344  Alternative  \n",
       "3       0.0804  116.007         4-Apr    0.966      Hip-Hop  \n",
       "4       0.0487   76.494         4-Apr    0.583  Alternative  "
      ]
     },
     "execution_count": 4,
     "metadata": {},
     "output_type": "execute_result"
    }
   ],
   "source": [
    "df.head(5)"
   ]
  },
  {
   "cell_type": "code",
   "execution_count": 5,
   "id": "bffa90cf",
   "metadata": {
    "scrolled": true
   },
   "outputs": [
    {
     "name": "stdout",
     "output_type": "stream",
     "text": [
      "<class 'pandas.core.frame.DataFrame'>\n",
      "RangeIndex: 20394 entries, 0 to 20393\n",
      "Data columns (total 16 columns):\n",
      " #   Column            Non-Null Count  Dtype  \n",
      "---  ------            --------------  -----  \n",
      " 0   instance_id       20394 non-null  float64\n",
      " 1   track_name        20394 non-null  object \n",
      " 2   acousticness      20394 non-null  float64\n",
      " 3   danceability      20394 non-null  float64\n",
      " 4   duration_ms       20394 non-null  float64\n",
      " 5   energy            20394 non-null  float64\n",
      " 6   instrumentalness  20394 non-null  float64\n",
      " 7   key               19659 non-null  object \n",
      " 8   liveness          20394 non-null  float64\n",
      " 9   loudness          20394 non-null  float64\n",
      " 10  mode              19888 non-null  object \n",
      " 11  speechiness       20394 non-null  float64\n",
      " 12  tempo             19952 non-null  float64\n",
      " 13  obtained_date     20394 non-null  object \n",
      " 14  valence           20394 non-null  float64\n",
      " 15  music_genre       20394 non-null  object \n",
      "dtypes: float64(11), object(5)\n",
      "memory usage: 2.5+ MB\n"
     ]
    }
   ],
   "source": [
    "df.info()"
   ]
  },
  {
   "cell_type": "code",
   "execution_count": 6,
   "id": "3d683088",
   "metadata": {},
   "outputs": [
    {
     "data": {
      "text/html": [
       "<div>\n",
       "<style scoped>\n",
       "    .dataframe tbody tr th:only-of-type {\n",
       "        vertical-align: middle;\n",
       "    }\n",
       "\n",
       "    .dataframe tbody tr th {\n",
       "        vertical-align: top;\n",
       "    }\n",
       "\n",
       "    .dataframe thead th {\n",
       "        text-align: right;\n",
       "    }\n",
       "</style>\n",
       "<table border=\"1\" class=\"dataframe\">\n",
       "  <thead>\n",
       "    <tr style=\"text-align: right;\">\n",
       "      <th></th>\n",
       "      <th>instance_id</th>\n",
       "      <th>acousticness</th>\n",
       "      <th>danceability</th>\n",
       "      <th>duration_ms</th>\n",
       "      <th>energy</th>\n",
       "      <th>instrumentalness</th>\n",
       "      <th>liveness</th>\n",
       "      <th>loudness</th>\n",
       "      <th>speechiness</th>\n",
       "      <th>tempo</th>\n",
       "      <th>valence</th>\n",
       "    </tr>\n",
       "  </thead>\n",
       "  <tbody>\n",
       "    <tr>\n",
       "      <th>count</th>\n",
       "      <td>20394.000000</td>\n",
       "      <td>20394.000000</td>\n",
       "      <td>20394.000000</td>\n",
       "      <td>2.039400e+04</td>\n",
       "      <td>20394.000000</td>\n",
       "      <td>20394.000000</td>\n",
       "      <td>20394.000000</td>\n",
       "      <td>20394.000000</td>\n",
       "      <td>20394.000000</td>\n",
       "      <td>19952.000000</td>\n",
       "      <td>20394.000000</td>\n",
       "    </tr>\n",
       "    <tr>\n",
       "      <th>mean</th>\n",
       "      <td>55973.846916</td>\n",
       "      <td>0.274783</td>\n",
       "      <td>0.561983</td>\n",
       "      <td>2.203754e+05</td>\n",
       "      <td>0.625276</td>\n",
       "      <td>0.159989</td>\n",
       "      <td>0.198540</td>\n",
       "      <td>-8.552998</td>\n",
       "      <td>0.091352</td>\n",
       "      <td>120.942522</td>\n",
       "      <td>0.464588</td>\n",
       "    </tr>\n",
       "    <tr>\n",
       "      <th>std</th>\n",
       "      <td>20695.792545</td>\n",
       "      <td>0.321643</td>\n",
       "      <td>0.171898</td>\n",
       "      <td>1.267283e+05</td>\n",
       "      <td>0.251238</td>\n",
       "      <td>0.306503</td>\n",
       "      <td>0.166742</td>\n",
       "      <td>5.499917</td>\n",
       "      <td>0.097735</td>\n",
       "      <td>30.427590</td>\n",
       "      <td>0.243387</td>\n",
       "    </tr>\n",
       "    <tr>\n",
       "      <th>min</th>\n",
       "      <td>20011.000000</td>\n",
       "      <td>0.000000</td>\n",
       "      <td>0.060000</td>\n",
       "      <td>-1.000000e+00</td>\n",
       "      <td>0.001010</td>\n",
       "      <td>0.000000</td>\n",
       "      <td>0.013600</td>\n",
       "      <td>-44.406000</td>\n",
       "      <td>0.022300</td>\n",
       "      <td>34.765000</td>\n",
       "      <td>0.000000</td>\n",
       "    </tr>\n",
       "    <tr>\n",
       "      <th>25%</th>\n",
       "      <td>38157.250000</td>\n",
       "      <td>0.015200</td>\n",
       "      <td>0.451000</td>\n",
       "      <td>1.775170e+05</td>\n",
       "      <td>0.470000</td>\n",
       "      <td>0.000000</td>\n",
       "      <td>0.097300</td>\n",
       "      <td>-10.255750</td>\n",
       "      <td>0.035600</td>\n",
       "      <td>95.921750</td>\n",
       "      <td>0.272000</td>\n",
       "    </tr>\n",
       "    <tr>\n",
       "      <th>50%</th>\n",
       "      <td>56030.000000</td>\n",
       "      <td>0.120000</td>\n",
       "      <td>0.570000</td>\n",
       "      <td>2.195330e+05</td>\n",
       "      <td>0.666000</td>\n",
       "      <td>0.000144</td>\n",
       "      <td>0.130000</td>\n",
       "      <td>-7.052000</td>\n",
       "      <td>0.049050</td>\n",
       "      <td>120.012500</td>\n",
       "      <td>0.457000</td>\n",
       "    </tr>\n",
       "    <tr>\n",
       "      <th>75%</th>\n",
       "      <td>73912.750000</td>\n",
       "      <td>0.470000</td>\n",
       "      <td>0.683000</td>\n",
       "      <td>2.660000e+05</td>\n",
       "      <td>0.830000</td>\n",
       "      <td>0.084475</td>\n",
       "      <td>0.253000</td>\n",
       "      <td>-5.054000</td>\n",
       "      <td>0.095575</td>\n",
       "      <td>141.966250</td>\n",
       "      <td>0.653000</td>\n",
       "    </tr>\n",
       "    <tr>\n",
       "      <th>max</th>\n",
       "      <td>91758.000000</td>\n",
       "      <td>0.996000</td>\n",
       "      <td>0.978000</td>\n",
       "      <td>4.497994e+06</td>\n",
       "      <td>0.999000</td>\n",
       "      <td>0.996000</td>\n",
       "      <td>1.000000</td>\n",
       "      <td>3.744000</td>\n",
       "      <td>0.942000</td>\n",
       "      <td>220.041000</td>\n",
       "      <td>0.992000</td>\n",
       "    </tr>\n",
       "  </tbody>\n",
       "</table>\n",
       "</div>"
      ],
      "text/plain": [
       "        instance_id  acousticness  danceability   duration_ms        energy  \\\n",
       "count  20394.000000  20394.000000  20394.000000  2.039400e+04  20394.000000   \n",
       "mean   55973.846916      0.274783      0.561983  2.203754e+05      0.625276   \n",
       "std    20695.792545      0.321643      0.171898  1.267283e+05      0.251238   \n",
       "min    20011.000000      0.000000      0.060000 -1.000000e+00      0.001010   \n",
       "25%    38157.250000      0.015200      0.451000  1.775170e+05      0.470000   \n",
       "50%    56030.000000      0.120000      0.570000  2.195330e+05      0.666000   \n",
       "75%    73912.750000      0.470000      0.683000  2.660000e+05      0.830000   \n",
       "max    91758.000000      0.996000      0.978000  4.497994e+06      0.999000   \n",
       "\n",
       "       instrumentalness      liveness      loudness   speechiness  \\\n",
       "count      20394.000000  20394.000000  20394.000000  20394.000000   \n",
       "mean           0.159989      0.198540     -8.552998      0.091352   \n",
       "std            0.306503      0.166742      5.499917      0.097735   \n",
       "min            0.000000      0.013600    -44.406000      0.022300   \n",
       "25%            0.000000      0.097300    -10.255750      0.035600   \n",
       "50%            0.000144      0.130000     -7.052000      0.049050   \n",
       "75%            0.084475      0.253000     -5.054000      0.095575   \n",
       "max            0.996000      1.000000      3.744000      0.942000   \n",
       "\n",
       "              tempo       valence  \n",
       "count  19952.000000  20394.000000  \n",
       "mean     120.942522      0.464588  \n",
       "std       30.427590      0.243387  \n",
       "min       34.765000      0.000000  \n",
       "25%       95.921750      0.272000  \n",
       "50%      120.012500      0.457000  \n",
       "75%      141.966250      0.653000  \n",
       "max      220.041000      0.992000  "
      ]
     },
     "execution_count": 6,
     "metadata": {},
     "output_type": "execute_result"
    }
   ],
   "source": [
    "df.describe()"
   ]
  },
  {
   "cell_type": "markdown",
   "id": "3f71004c",
   "metadata": {},
   "source": [
    "По данным отметим из необычного что id число с плавающей точкой, типы данных все корректные, пропуски в признаках key, mode, tempo\n",
    "\n",
    "Посмотрим признаки по отдельности"
   ]
  },
  {
   "cell_type": "code",
   "execution_count": 7,
   "id": "2db84c81",
   "metadata": {},
   "outputs": [
    {
     "data": {
      "text/plain": [
       "0"
      ]
     },
     "execution_count": 7,
     "metadata": {},
     "output_type": "execute_result"
    }
   ],
   "source": [
    "df['instance_id'].duplicated().sum() # дубликатов по id нет"
   ]
  },
  {
   "cell_type": "code",
   "execution_count": 8,
   "id": "6c63af59",
   "metadata": {},
   "outputs": [
    {
     "data": {
      "text/plain": [
       "track_name\n",
       "Home                          11\n",
       "Diamonds                       7\n",
       "Summertime                     7\n",
       "Gravity                        6\n",
       "Dreams                         6\n",
       "                              ..\n",
       "Bloody F8 (feat. Aimer)        1\n",
       "Willy Wonka (feat. Offset)     1\n",
       "Window Pain - Outro            1\n",
       "Greatness                      1\n",
       "Trouble (feat. MC Spyder)      1\n",
       "Name: count, Length: 18643, dtype: int64"
      ]
     },
     "execution_count": 8,
     "metadata": {},
     "output_type": "execute_result"
    }
   ],
   "source": [
    "df['track_name'].value_counts() # видим что есть одинаковые названия, но id у всех разные"
   ]
  },
  {
   "cell_type": "code",
   "execution_count": 9,
   "id": "349b0c96",
   "metadata": {
    "scrolled": true
   },
   "outputs": [
    {
     "data": {
      "text/plain": [
       "key\n",
       "G     2304\n",
       "C     2149\n",
       "C#    2125\n",
       "D     2110\n",
       "A     2013\n",
       "F     1616\n",
       "B     1522\n",
       "E     1516\n",
       "G#    1268\n",
       "A#    1224\n",
       "F#    1206\n",
       "D#     606\n",
       "Name: count, dtype: int64"
      ]
     },
     "execution_count": 9,
     "metadata": {},
     "output_type": "execute_result"
    }
   ],
   "source": [
    "df['key'].value_counts() # тут у нас около 700 пропусков"
   ]
  },
  {
   "cell_type": "code",
   "execution_count": 10,
   "id": "f8ebe3b3",
   "metadata": {},
   "outputs": [],
   "source": [
    "df['key'] = df['key'].fillna('other')"
   ]
  },
  {
   "cell_type": "code",
   "execution_count": 11,
   "id": "438408f5",
   "metadata": {
    "scrolled": true
   },
   "outputs": [
    {
     "data": {
      "text/plain": [
       "mode\n",
       "Major    12828\n",
       "Minor     7060\n",
       "Name: count, dtype: int64"
      ]
     },
     "execution_count": 11,
     "metadata": {},
     "output_type": "execute_result"
    }
   ],
   "source": [
    "df['mode'].value_counts() # этот признак имеет 500 пропусков."
   ]
  },
  {
   "cell_type": "code",
   "execution_count": 12,
   "id": "728a9d21",
   "metadata": {
    "scrolled": true
   },
   "outputs": [
    {
     "data": {
      "text/plain": [
       "tempo\n",
       "140.011    9\n",
       "120.000    9\n",
       "119.998    9\n",
       "130.016    8\n",
       "100.003    8\n",
       "          ..\n",
       "71.607     1\n",
       "169.832    1\n",
       "100.311    1\n",
       "94.913     1\n",
       "146.803    1\n",
       "Name: count, Length: 15762, dtype: int64"
      ]
     },
     "execution_count": 12,
     "metadata": {},
     "output_type": "execute_result"
    }
   ],
   "source": [
    "df['tempo'].value_counts() # много уникальных значений и 400 пропусков"
   ]
  },
  {
   "cell_type": "code",
   "execution_count": 13,
   "id": "04c053de",
   "metadata": {},
   "outputs": [
    {
     "data": {
      "text/plain": [
       "instance_id           0\n",
       "track_name            0\n",
       "acousticness          0\n",
       "danceability          0\n",
       "duration_ms           0\n",
       "energy                0\n",
       "instrumentalness      0\n",
       "key                   0\n",
       "liveness              0\n",
       "loudness              0\n",
       "mode                506\n",
       "speechiness           0\n",
       "tempo               442\n",
       "obtained_date         0\n",
       "valence               0\n",
       "music_genre           0\n",
       "dtype: int64"
      ]
     },
     "execution_count": 13,
     "metadata": {},
     "output_type": "execute_result"
    }
   ],
   "source": [
    "df.isna().sum()"
   ]
  },
  {
   "cell_type": "code",
   "execution_count": 14,
   "id": "3258701a",
   "metadata": {
    "scrolled": false
   },
   "outputs": [
    {
     "data": {
      "text/plain": [
       "obtained_date\n",
       "4-Apr    18435\n",
       "3-Apr     1524\n",
       "5-Apr      290\n",
       "1-Apr      145\n",
       "Name: count, dtype: int64"
      ]
     },
     "execution_count": 14,
     "metadata": {},
     "output_type": "execute_result"
    }
   ],
   "source": [
    "df['obtained_date'].value_counts() # этот признак нам никак не поможет"
   ]
  },
  {
   "cell_type": "markdown",
   "id": "9db466e4",
   "metadata": {},
   "source": [
    "Я посомтрю как распределны наши данные по целевым признакам"
   ]
  },
  {
   "cell_type": "code",
   "execution_count": 15,
   "id": "2472e180",
   "metadata": {
    "scrolled": true
   },
   "outputs": [
    {
     "name": "stdout",
     "output_type": "stream",
     "text": [
      "music_genre\n",
      "Classical      0.96900\n",
      "Jazz           0.51600\n",
      "Blues          0.21050\n",
      "Country        0.19050\n",
      "Hip-Hop        0.10500\n",
      "Rap            0.09605\n",
      "Rock           0.07240\n",
      "Anime          0.05190\n",
      "Alternative    0.03160\n",
      "Electronic     0.02640\n",
      "Name: acousticness, dtype: float64\n"
     ]
    }
   ],
   "source": [
    "grouped = df.groupby('music_genre')\n",
    "\n",
    "distribution = grouped['acousticness'].median()\n",
    "\n",
    "print(distribution.sort_values(ascending=False))"
   ]
  },
  {
   "cell_type": "code",
   "execution_count": 16,
   "id": "06411d2e",
   "metadata": {},
   "outputs": [
    {
     "data": {
      "text/plain": [
       "0.40    0.3712\n",
       "0.95    0.9720\n",
       "Name: acousticness, dtype: float64"
      ]
     },
     "execution_count": 16,
     "metadata": {},
     "output_type": "execute_result"
    }
   ],
   "source": [
    "df.query('music_genre==\"Jazz\"')['acousticness'].quantile([.4, 0.95])"
   ]
  },
  {
   "cell_type": "markdown",
   "id": "d962db80",
   "metadata": {},
   "source": [
    "Мы видим, что некоторые жанры по акустичности едва различимы, например те что 0.1 и меньше. С другой стороны Classical, Jazz, Blues имеют выраженные отличия от соседей. "
   ]
  },
  {
   "cell_type": "code",
   "execution_count": 17,
   "id": "64b0f82a",
   "metadata": {
    "scrolled": false
   },
   "outputs": [
    {
     "name": "stdout",
     "output_type": "stream",
     "text": [
      "count    20394.000000\n",
      "mean         0.274783\n",
      "std          0.321643\n",
      "min          0.000000\n",
      "25%          0.015200\n",
      "50%          0.120000\n",
      "75%          0.470000\n",
      "max          0.996000\n",
      "Name: acousticness, dtype: float64\n"
     ]
    },
    {
     "data": {
      "text/plain": [
       "0.05    0.000325\n",
       "0.95    0.964000\n",
       "Name: acousticness, dtype: float64"
      ]
     },
     "execution_count": 17,
     "metadata": {},
     "output_type": "execute_result"
    }
   ],
   "source": [
    "print(df['acousticness'].describe())\n",
    "df['acousticness'].quantile([.05, 0.95])"
   ]
  },
  {
   "cell_type": "code",
   "execution_count": 18,
   "id": "b9c35a1c",
   "metadata": {},
   "outputs": [
    {
     "name": "stdout",
     "output_type": "stream",
     "text": [
      "music_genre\n",
      "Anime          0.7980\n",
      "Electronic     0.7705\n",
      "Alternative    0.7500\n",
      "Rock           0.7170\n",
      "Country        0.6680\n",
      "Hip-Hop        0.6520\n",
      "Rap            0.6500\n",
      "Blues          0.6350\n",
      "Jazz           0.4720\n",
      "Classical      0.1000\n",
      "Name: energy, dtype: float64\n"
     ]
    }
   ],
   "source": [
    "grouped = df.groupby('music_genre')\n",
    "\n",
    "distribution = grouped['energy'].median()\n",
    "\n",
    "print(distribution.sort_values(ascending=False))"
   ]
  },
  {
   "cell_type": "code",
   "execution_count": 19,
   "id": "01b01451",
   "metadata": {},
   "outputs": [
    {
     "name": "stdout",
     "output_type": "stream",
     "text": [
      "count    20394.000000\n",
      "mean         0.625276\n",
      "std          0.251238\n",
      "min          0.001010\n",
      "25%          0.470000\n",
      "50%          0.666000\n",
      "75%          0.830000\n",
      "max          0.999000\n",
      "Name: energy, dtype: float64\n"
     ]
    },
    {
     "data": {
      "text/plain": [
       "0.05    0.112\n",
       "0.95    0.957\n",
       "Name: energy, dtype: float64"
      ]
     },
     "execution_count": 19,
     "metadata": {},
     "output_type": "execute_result"
    }
   ],
   "source": [
    "print(df['energy'].describe())\n",
    "df['energy'].quantile([.05, 0.95])"
   ]
  },
  {
   "cell_type": "code",
   "execution_count": 20,
   "id": "400f5da5",
   "metadata": {},
   "outputs": [
    {
     "name": "stdout",
     "output_type": "stream",
     "text": [
      "music_genre\n",
      "Anime          -5.6190\n",
      "Alternative    -6.0350\n",
      "Rap            -6.3385\n",
      "Electronic     -6.4060\n",
      "Rock           -6.4840\n",
      "Country        -6.4990\n",
      "Hip-Hop        -6.5830\n",
      "Blues          -8.4175\n",
      "Jazz          -10.4000\n",
      "Classical     -21.9570\n",
      "Name: loudness, dtype: float64\n"
     ]
    }
   ],
   "source": [
    "grouped = df.groupby('music_genre')\n",
    "\n",
    "distribution = grouped['loudness'].median()\n",
    "\n",
    "print(distribution.sort_values(ascending=False))"
   ]
  },
  {
   "cell_type": "code",
   "execution_count": 21,
   "id": "52923257",
   "metadata": {
    "scrolled": true
   },
   "outputs": [
    {
     "name": "stdout",
     "output_type": "stream",
     "text": [
      "count    20394.000000\n",
      "mean        -8.552998\n",
      "std          5.499917\n",
      "min        -44.406000\n",
      "25%        -10.255750\n",
      "50%         -7.052000\n",
      "75%         -5.054000\n",
      "max          3.744000\n",
      "Name: loudness, dtype: float64\n"
     ]
    },
    {
     "data": {
      "text/plain": [
       "0.05   -20.37845\n",
       "0.95    -3.02265\n",
       "Name: loudness, dtype: float64"
      ]
     },
     "execution_count": 21,
     "metadata": {},
     "output_type": "execute_result"
    }
   ],
   "source": [
    "print(df['loudness'].describe())\n",
    "df['loudness'].quantile([.05, 0.95])"
   ]
  },
  {
   "cell_type": "code",
   "execution_count": 22,
   "id": "e9272b4d",
   "metadata": {},
   "outputs": [
    {
     "name": "stdout",
     "output_type": "stream",
     "text": [
      "music_genre\n",
      "Classical      0.837000\n",
      "Electronic     0.178000\n",
      "Jazz           0.135000\n",
      "Blues          0.000971\n",
      "Anime          0.000258\n",
      "Alternative    0.000066\n",
      "Rock           0.000049\n",
      "Country        0.000001\n",
      "Hip-Hop        0.000000\n",
      "Rap            0.000000\n",
      "Name: instrumentalness, dtype: float64\n"
     ]
    }
   ],
   "source": [
    "grouped = df.groupby('music_genre')\n",
    "\n",
    "distribution = grouped['instrumentalness'].median()\n",
    "\n",
    "print(distribution.sort_values(ascending=False))"
   ]
  },
  {
   "cell_type": "code",
   "execution_count": 23,
   "id": "40b8848f",
   "metadata": {},
   "outputs": [
    {
     "name": "stdout",
     "output_type": "stream",
     "text": [
      "count    20394.000000\n",
      "mean         0.159989\n",
      "std          0.306503\n",
      "min          0.000000\n",
      "25%          0.000000\n",
      "50%          0.000144\n",
      "75%          0.084475\n",
      "max          0.996000\n",
      "Name: instrumentalness, dtype: float64\n"
     ]
    },
    {
     "data": {
      "text/plain": [
       "0.05    0.000\n",
       "0.95    0.898\n",
       "Name: instrumentalness, dtype: float64"
      ]
     },
     "execution_count": 23,
     "metadata": {},
     "output_type": "execute_result"
    }
   ],
   "source": [
    "print(df['instrumentalness'].describe())\n",
    "df['instrumentalness'].quantile([.05, 0.95])"
   ]
  },
  {
   "cell_type": "code",
   "execution_count": 24,
   "id": "e2421ee7",
   "metadata": {},
   "outputs": [
    {
     "name": "stdout",
     "output_type": "stream",
     "text": [
      "music_genre\n",
      "Blues          0.586\n",
      "Country        0.531\n",
      "Rock           0.518\n",
      "Jazz           0.517\n",
      "Hip-Hop        0.465\n",
      "Rap            0.449\n",
      "Anime          0.435\n",
      "Alternative    0.434\n",
      "Electronic     0.361\n",
      "Classical      0.139\n",
      "Name: valence, dtype: float64\n"
     ]
    }
   ],
   "source": [
    "grouped = df.groupby('music_genre')\n",
    "\n",
    "distribution = grouped['valence'].median()\n",
    "\n",
    "print(distribution.sort_values(ascending=False))"
   ]
  },
  {
   "cell_type": "code",
   "execution_count": 25,
   "id": "e4749410",
   "metadata": {},
   "outputs": [
    {
     "name": "stdout",
     "output_type": "stream",
     "text": [
      "count    20394.000000\n",
      "mean         0.464588\n",
      "std          0.243387\n",
      "min          0.000000\n",
      "25%          0.272000\n",
      "50%          0.457000\n",
      "75%          0.653000\n",
      "max          0.992000\n",
      "Name: valence, dtype: float64\n"
     ]
    },
    {
     "data": {
      "text/plain": [
       "0.05    0.000\n",
       "0.95    0.898\n",
       "Name: instrumentalness, dtype: float64"
      ]
     },
     "execution_count": 25,
     "metadata": {},
     "output_type": "execute_result"
    }
   ],
   "source": [
    "print(df['valence'].describe())\n",
    "df['instrumentalness'].quantile([.05, 0.95])"
   ]
  },
  {
   "cell_type": "code",
   "execution_count": 26,
   "id": "a69c8bae",
   "metadata": {},
   "outputs": [
    {
     "name": "stdout",
     "output_type": "stream",
     "text": [
      "music_genre\n",
      "Hip-Hop        0.7380\n",
      "Rap            0.7190\n",
      "Electronic     0.6310\n",
      "Jazz           0.5960\n",
      "Country        0.5815\n",
      "Rock           0.5470\n",
      "Alternative    0.5450\n",
      "Blues          0.5290\n",
      "Anime          0.4830\n",
      "Classical      0.2960\n",
      "Name: danceability, dtype: float64\n"
     ]
    }
   ],
   "source": [
    "grouped = df.groupby('music_genre')\n",
    "\n",
    "distribution = grouped['danceability'].median()\n",
    "\n",
    "print(distribution.sort_values(ascending=False))"
   ]
  },
  {
   "cell_type": "code",
   "execution_count": 27,
   "id": "d53f4daf",
   "metadata": {},
   "outputs": [
    {
     "name": "stdout",
     "output_type": "stream",
     "text": [
      "count    20394.000000\n",
      "mean         0.561983\n",
      "std          0.171898\n",
      "min          0.060000\n",
      "25%          0.451000\n",
      "50%          0.570000\n",
      "75%          0.683000\n",
      "max          0.978000\n",
      "Name: danceability, dtype: float64\n"
     ]
    },
    {
     "data": {
      "text/plain": [
       "0.05    0.255\n",
       "0.95    0.834\n",
       "Name: danceability, dtype: float64"
      ]
     },
     "execution_count": 27,
     "metadata": {},
     "output_type": "execute_result"
    }
   ],
   "source": [
    "print(df['danceability'].describe())\n",
    "df['danceability'].quantile([.05, 0.95])"
   ]
  },
  {
   "cell_type": "code",
   "execution_count": 28,
   "id": "fd208387",
   "metadata": {},
   "outputs": [
    {
     "name": "stdout",
     "output_type": "stream",
     "text": [
      "music_genre\n",
      "Anime          128.0020\n",
      "Electronic     126.0000\n",
      "Country        121.9700\n",
      "Rock           120.8400\n",
      "Hip-Hop        120.1000\n",
      "Alternative    120.0480\n",
      "Rap            120.0200\n",
      "Blues          119.1180\n",
      "Jazz           105.3485\n",
      "Classical       95.5235\n",
      "Name: tempo, dtype: float64\n"
     ]
    }
   ],
   "source": [
    "grouped = df.groupby('music_genre')\n",
    "\n",
    "distribution = grouped['tempo'].median()\n",
    "\n",
    "print(distribution.sort_values(ascending=False))"
   ]
  },
  {
   "cell_type": "code",
   "execution_count": 29,
   "id": "57507158",
   "metadata": {},
   "outputs": [
    {
     "name": "stdout",
     "output_type": "stream",
     "text": [
      "count    19952.000000\n",
      "mean       120.942522\n",
      "std         30.427590\n",
      "min         34.765000\n",
      "25%         95.921750\n",
      "50%        120.012500\n",
      "75%        141.966250\n",
      "max        220.041000\n",
      "Name: tempo, dtype: float64\n"
     ]
    },
    {
     "data": {
      "text/plain": [
       "0.05     76.5236\n",
       "0.95    174.1340\n",
       "Name: tempo, dtype: float64"
      ]
     },
     "execution_count": 29,
     "metadata": {},
     "output_type": "execute_result"
    }
   ],
   "source": [
    "print(df['tempo'].describe())\n",
    "df['tempo'].quantile([.05, 0.95])"
   ]
  },
  {
   "cell_type": "code",
   "execution_count": 30,
   "id": "aad9bb91",
   "metadata": {},
   "outputs": [
    {
     "name": "stdout",
     "output_type": "stream",
     "text": [
      "music_genre\n",
      "Blues          0.1410\n",
      "Anime          0.1390\n",
      "Hip-Hop        0.1370\n",
      "Alternative    0.1350\n",
      "Rap            0.1350\n",
      "Country        0.1290\n",
      "Electronic     0.1275\n",
      "Rock           0.1270\n",
      "Jazz           0.1160\n",
      "Classical      0.1110\n",
      "Name: liveness, dtype: float64\n"
     ]
    }
   ],
   "source": [
    "grouped = df.groupby('music_genre')\n",
    "\n",
    "distribution = grouped['liveness'].median()\n",
    "\n",
    "print(distribution.sort_values(ascending=False))"
   ]
  },
  {
   "cell_type": "code",
   "execution_count": 31,
   "id": "f63ea545",
   "metadata": {},
   "outputs": [
    {
     "name": "stdout",
     "output_type": "stream",
     "text": [
      "count    20394.000000\n",
      "mean         0.198540\n",
      "std          0.166742\n",
      "min          0.013600\n",
      "25%          0.097300\n",
      "50%          0.130000\n",
      "75%          0.253000\n",
      "max          1.000000\n",
      "Name: liveness, dtype: float64\n"
     ]
    },
    {
     "data": {
      "text/plain": [
       "0.05    0.0624\n",
       "0.95    0.5720\n",
       "Name: liveness, dtype: float64"
      ]
     },
     "execution_count": 31,
     "metadata": {},
     "output_type": "execute_result"
    }
   ],
   "source": [
    "print(df['liveness'].describe())\n",
    "df['liveness'].quantile([.05, 0.95])"
   ]
  },
  {
   "cell_type": "code",
   "execution_count": 32,
   "id": "0676e4df",
   "metadata": {},
   "outputs": [
    {
     "name": "stdout",
     "output_type": "stream",
     "text": [
      "music_genre\n",
      "Hip-Hop        0.19600\n",
      "Rap            0.16200\n",
      "Electronic     0.05725\n",
      "Alternative    0.05350\n",
      "Anime          0.04560\n",
      "Jazz           0.04380\n",
      "Blues          0.04340\n",
      "Classical      0.04320\n",
      "Rock           0.03940\n",
      "Country        0.03410\n",
      "Name: speechiness, dtype: float64\n"
     ]
    }
   ],
   "source": [
    "grouped = df.groupby('music_genre')\n",
    "\n",
    "distribution = grouped['speechiness'].median()\n",
    "\n",
    "print(distribution.sort_values(ascending=False))"
   ]
  },
  {
   "cell_type": "code",
   "execution_count": 33,
   "id": "cd96b1f6",
   "metadata": {},
   "outputs": [
    {
     "name": "stdout",
     "output_type": "stream",
     "text": [
      "count    20394.000000\n",
      "mean         0.091352\n",
      "std          0.097735\n",
      "min          0.022300\n",
      "25%          0.035600\n",
      "50%          0.049050\n",
      "75%          0.095575\n",
      "max          0.942000\n",
      "Name: speechiness, dtype: float64\n"
     ]
    },
    {
     "data": {
      "text/plain": [
       "0.05    0.0278\n",
       "0.95    0.3130\n",
       "Name: speechiness, dtype: float64"
      ]
     },
     "execution_count": 33,
     "metadata": {},
     "output_type": "execute_result"
    }
   ],
   "source": [
    "print(df['speechiness'].describe())\n",
    "df['speechiness'].quantile([.05, 0.95])"
   ]
  },
  {
   "cell_type": "code",
   "execution_count": 34,
   "id": "52e11aed",
   "metadata": {},
   "outputs": [
    {
     "name": "stdout",
     "output_type": "stream",
     "text": [
      "music_genre\n",
      "Classical      243173.0\n",
      "Electronic     236800.0\n",
      "Jazz           235467.0\n",
      "Anime          231427.0\n",
      "Blues          220789.0\n",
      "Rock           220027.0\n",
      "Alternative    219733.0\n",
      "Rap            207573.5\n",
      "Country        207305.0\n",
      "Hip-Hop        206240.0\n",
      "Name: duration_ms, dtype: float64\n"
     ]
    }
   ],
   "source": [
    "grouped = df.groupby('music_genre')\n",
    "\n",
    "distribution = grouped['duration_ms'].median()\n",
    "\n",
    "print(distribution.sort_values(ascending=False))"
   ]
  },
  {
   "cell_type": "code",
   "execution_count": 35,
   "id": "11526670",
   "metadata": {},
   "outputs": [
    {
     "name": "stdout",
     "output_type": "stream",
     "text": [
      "count    2.039400e+04\n",
      "mean     2.203754e+05\n",
      "std      1.267283e+05\n",
      "min     -1.000000e+00\n",
      "25%      1.775170e+05\n",
      "50%      2.195330e+05\n",
      "75%      2.660000e+05\n",
      "max      4.497994e+06\n",
      "Name: duration_ms, dtype: float64\n"
     ]
    },
    {
     "data": {
      "text/plain": [
       "0.10     50208.60\n",
       "0.95    393913.55\n",
       "Name: duration_ms, dtype: float64"
      ]
     },
     "execution_count": 35,
     "metadata": {},
     "output_type": "execute_result"
    }
   ],
   "source": [
    "print(df['duration_ms'].describe())\n",
    "df['duration_ms'].quantile([.1, 0.95])"
   ]
  },
  {
   "cell_type": "code",
   "execution_count": 36,
   "id": "57bae70b",
   "metadata": {},
   "outputs": [
    {
     "data": {
      "text/plain": [
       "219533.0"
      ]
     },
     "execution_count": 36,
     "metadata": {},
     "output_type": "execute_result"
    }
   ],
   "source": [
    "df['duration_ms'].median()"
   ]
  },
  {
   "cell_type": "code",
   "execution_count": 37,
   "id": "2365b010",
   "metadata": {},
   "outputs": [
    {
     "data": {
      "image/png": "[encoded data removed]",
      "text/plain": [
       "<Figure size 1500x2000 with 12 Axes>"
      ]
     },
     "metadata": {},
     "output_type": "display_data"
    }
   ],
   "source": [
    "# визуально оценим распределение признаков\n",
    "df.hist(figsize=(15, 20), bins=100)\n",
    "plt.show()"
   ]
  },
  {
   "cell_type": "markdown",
   "id": "f53797e5",
   "metadata": {},
   "source": [
    "Я посмотрел как распределены все признаки, в моем понимании самые неадекватные значения - это песни с очень маленьки значением длины трека, я заменю их на медианное значение."
   ]
  },
  {
   "cell_type": "code",
   "execution_count": 38,
   "id": "96e6dd77",
   "metadata": {},
   "outputs": [],
   "source": [
    "duration_ms = df['duration_ms'].median()\n",
    "\n",
    "def duration_ms_meadian(row):\n",
    "    if row['duration_ms'] < 50208.60:\n",
    "        return duration_ms\n",
    "    else:\n",
    "        return row['duration_ms']\n",
    "\n",
    "df['duration_ms'] = df.apply(duration_ms_meadian, axis=1)"
   ]
  },
  {
   "cell_type": "markdown",
   "id": "f87695a9",
   "metadata": {},
   "source": [
    "Во время анализа данных я обратил внимание, что часть названий имеют больше количество слов. Я полагаю, что например в классических композиция обычно указывают много слов, что позволяет мне попробовать создать признак."
   ]
  },
  {
   "cell_type": "code",
   "execution_count": 39,
   "id": "2158cfdd",
   "metadata": {},
   "outputs": [],
   "source": [
    "# посчитаю длину строки для каждого названия как дополнительный признак\n",
    "df['len_names'] = df['track_name'].apply(lambda x: len(x))"
   ]
  },
  {
   "cell_type": "code",
   "execution_count": 40,
   "id": "fe96b516",
   "metadata": {},
   "outputs": [
    {
     "data": {
      "text/plain": [
       "music_genre\n",
       "Blues          2858\n",
       "Alternative    2601\n",
       "Electronic     2564\n",
       "Rap            2428\n",
       "Rock           2165\n",
       "Country        2120\n",
       "Anime          1901\n",
       "Classical      1373\n",
       "Jazz           1239\n",
       "Hip-Hop        1145\n",
       "Name: count, dtype: int64"
      ]
     },
     "execution_count": 40,
     "metadata": {},
     "output_type": "execute_result"
    }
   ],
   "source": [
    "df['music_genre'].value_counts() # пропусков и аномалий нет"
   ]
  },
  {
   "cell_type": "markdown",
   "id": "c77e8961",
   "metadata": {},
   "source": [
    "Итого у нас 10 классов , нужно не забыть их разбить равномерно при построении тренировочной и валидационной выборки"
   ]
  },
  {
   "cell_type": "code",
   "execution_count": 41,
   "id": "675162d6",
   "metadata": {
    "scrolled": true
   },
   "outputs": [
    {
     "data": {
      "image/png": "[encoded data removed]",
      "text/plain": [
       "<Figure size 800x300 with 1 Axes>"
      ]
     },
     "metadata": {},
     "output_type": "display_data"
    }
   ],
   "source": [
    "df['music_genre'].hist(bins=10,figsize=(8,3))\n",
    "plt.title(\"Распределение баланса классов\")\n",
    "plt.show()"
   ]
  },
  {
   "cell_type": "code",
   "execution_count": 42,
   "id": "836b4924",
   "metadata": {
    "scrolled": true
   },
   "outputs": [
    {
     "data": {
      "text/plain": [
       "Index(['track_name', 'key', 'mode', 'obtained_date', 'music_genre'], dtype='object')"
      ]
     },
     "execution_count": 42,
     "metadata": {},
     "output_type": "execute_result"
    }
   ],
   "source": [
    "df.select_dtypes(exclude=['float64', 'int64']).columns # вызову список признаков для удобства перед оценкой корреляции"
   ]
  },
  {
   "cell_type": "code",
   "execution_count": 43,
   "id": "d57d6e94",
   "metadata": {},
   "outputs": [
    {
     "data": {
      "text/plain": [
       "Index(['instance_id', 'acousticness', 'danceability', 'duration_ms', 'energy',\n",
       "       'instrumentalness', 'liveness', 'loudness', 'speechiness', 'tempo',\n",
       "       'valence', 'len_names'],\n",
       "      dtype='object')"
      ]
     },
     "execution_count": 43,
     "metadata": {},
     "output_type": "execute_result"
    }
   ],
   "source": [
    "df.select_dtypes(include=['float64', 'int64']).columns"
   ]
  },
  {
   "cell_type": "code",
   "execution_count": 44,
   "id": "74b3d27d",
   "metadata": {},
   "outputs": [],
   "source": [
    "phik_overview = df[['key', 'mode','acousticness', 'danceability', 'duration_ms', 'energy',\n",
    "       'instrumentalness', 'liveness', 'loudness', 'speechiness', 'tempo',\n",
    "       'valence','len_names', 'music_genre']].phik_matrix(interval_cols=['acousticness', 'danceability', 'duration_ms', 'energy',\n",
    "       'instrumentalness', 'liveness', 'loudness', 'speechiness', 'tempo',\n",
    "       'valence', 'len_names'])"
   ]
  },
  {
   "cell_type": "code",
   "execution_count": 45,
   "id": "39ba841d",
   "metadata": {},
   "outputs": [
    {
     "data": {
      "text/html": [
       "<div>\n",
       "<style scoped>\n",
       "    .dataframe tbody tr th:only-of-type {\n",
       "        vertical-align: middle;\n",
       "    }\n",
       "\n",
       "    .dataframe tbody tr th {\n",
       "        vertical-align: top;\n",
       "    }\n",
       "\n",
       "    .dataframe thead th {\n",
       "        text-align: right;\n",
       "    }\n",
       "</style>\n",
       "<table border=\"1\" class=\"dataframe\">\n",
       "  <thead>\n",
       "    <tr style=\"text-align: right;\">\n",
       "      <th></th>\n",
       "      <th>key</th>\n",
       "      <th>mode</th>\n",
       "      <th>acousticness</th>\n",
       "      <th>danceability</th>\n",
       "      <th>duration_ms</th>\n",
       "      <th>energy</th>\n",
       "      <th>instrumentalness</th>\n",
       "      <th>liveness</th>\n",
       "      <th>loudness</th>\n",
       "      <th>speechiness</th>\n",
       "      <th>tempo</th>\n",
       "      <th>valence</th>\n",
       "      <th>len_names</th>\n",
       "      <th>music_genre</th>\n",
       "    </tr>\n",
       "  </thead>\n",
       "  <tbody>\n",
       "    <tr>\n",
       "      <th>key</th>\n",
       "      <td>1.000000</td>\n",
       "      <td>0.295871</td>\n",
       "      <td>0.097168</td>\n",
       "      <td>0.102511</td>\n",
       "      <td>0.033802</td>\n",
       "      <td>0.090606</td>\n",
       "      <td>0.033780</td>\n",
       "      <td>0.058493</td>\n",
       "      <td>0.083085</td>\n",
       "      <td>0.118245</td>\n",
       "      <td>0.037878</td>\n",
       "      <td>0.045502</td>\n",
       "      <td>0.024422</td>\n",
       "      <td>0.169033</td>\n",
       "    </tr>\n",
       "    <tr>\n",
       "      <th>mode</th>\n",
       "      <td>0.295871</td>\n",
       "      <td>1.000000</td>\n",
       "      <td>0.029099</td>\n",
       "      <td>0.103777</td>\n",
       "      <td>0.006100</td>\n",
       "      <td>0.033624</td>\n",
       "      <td>0.084661</td>\n",
       "      <td>0.028814</td>\n",
       "      <td>0.015795</td>\n",
       "      <td>0.104200</td>\n",
       "      <td>0.014283</td>\n",
       "      <td>0.058103</td>\n",
       "      <td>0.025666</td>\n",
       "      <td>0.296143</td>\n",
       "    </tr>\n",
       "    <tr>\n",
       "      <th>acousticness</th>\n",
       "      <td>0.097168</td>\n",
       "      <td>0.029099</td>\n",
       "      <td>1.000000</td>\n",
       "      <td>0.458491</td>\n",
       "      <td>0.121855</td>\n",
       "      <td>0.766657</td>\n",
       "      <td>0.441997</td>\n",
       "      <td>0.185885</td>\n",
       "      <td>0.709364</td>\n",
       "      <td>0.204106</td>\n",
       "      <td>0.336114</td>\n",
       "      <td>0.397133</td>\n",
       "      <td>0.427844</td>\n",
       "      <td>0.657653</td>\n",
       "    </tr>\n",
       "    <tr>\n",
       "      <th>danceability</th>\n",
       "      <td>0.102511</td>\n",
       "      <td>0.103777</td>\n",
       "      <td>0.458491</td>\n",
       "      <td>1.000000</td>\n",
       "      <td>0.163963</td>\n",
       "      <td>0.516204</td>\n",
       "      <td>0.342605</td>\n",
       "      <td>0.135120</td>\n",
       "      <td>0.483332</td>\n",
       "      <td>0.335523</td>\n",
       "      <td>0.407472</td>\n",
       "      <td>0.531502</td>\n",
       "      <td>0.287942</td>\n",
       "      <td>0.623224</td>\n",
       "    </tr>\n",
       "    <tr>\n",
       "      <th>duration_ms</th>\n",
       "      <td>0.033802</td>\n",
       "      <td>0.006100</td>\n",
       "      <td>0.121855</td>\n",
       "      <td>0.163963</td>\n",
       "      <td>1.000000</td>\n",
       "      <td>0.131828</td>\n",
       "      <td>0.152322</td>\n",
       "      <td>0.080106</td>\n",
       "      <td>0.155185</td>\n",
       "      <td>0.021524</td>\n",
       "      <td>0.088823</td>\n",
       "      <td>0.132436</td>\n",
       "      <td>0.147258</td>\n",
       "      <td>0.178421</td>\n",
       "    </tr>\n",
       "    <tr>\n",
       "      <th>energy</th>\n",
       "      <td>0.090606</td>\n",
       "      <td>0.033624</td>\n",
       "      <td>0.766657</td>\n",
       "      <td>0.516204</td>\n",
       "      <td>0.131828</td>\n",
       "      <td>1.000000</td>\n",
       "      <td>0.437427</td>\n",
       "      <td>0.256748</td>\n",
       "      <td>0.839273</td>\n",
       "      <td>0.239284</td>\n",
       "      <td>0.387013</td>\n",
       "      <td>0.478888</td>\n",
       "      <td>0.416870</td>\n",
       "      <td>0.669221</td>\n",
       "    </tr>\n",
       "    <tr>\n",
       "      <th>instrumentalness</th>\n",
       "      <td>0.033780</td>\n",
       "      <td>0.084661</td>\n",
       "      <td>0.441997</td>\n",
       "      <td>0.342605</td>\n",
       "      <td>0.152322</td>\n",
       "      <td>0.437427</td>\n",
       "      <td>1.000000</td>\n",
       "      <td>0.138175</td>\n",
       "      <td>0.498359</td>\n",
       "      <td>0.190934</td>\n",
       "      <td>0.218501</td>\n",
       "      <td>0.357175</td>\n",
       "      <td>0.226438</td>\n",
       "      <td>0.567686</td>\n",
       "    </tr>\n",
       "    <tr>\n",
       "      <th>liveness</th>\n",
       "      <td>0.058493</td>\n",
       "      <td>0.028814</td>\n",
       "      <td>0.185885</td>\n",
       "      <td>0.135120</td>\n",
       "      <td>0.080106</td>\n",
       "      <td>0.256748</td>\n",
       "      <td>0.138175</td>\n",
       "      <td>1.000000</td>\n",
       "      <td>0.199227</td>\n",
       "      <td>0.138512</td>\n",
       "      <td>0.084412</td>\n",
       "      <td>0.130656</td>\n",
       "      <td>0.119214</td>\n",
       "      <td>0.208943</td>\n",
       "    </tr>\n",
       "    <tr>\n",
       "      <th>loudness</th>\n",
       "      <td>0.083085</td>\n",
       "      <td>0.015795</td>\n",
       "      <td>0.709364</td>\n",
       "      <td>0.483332</td>\n",
       "      <td>0.155185</td>\n",
       "      <td>0.839273</td>\n",
       "      <td>0.498359</td>\n",
       "      <td>0.199227</td>\n",
       "      <td>1.000000</td>\n",
       "      <td>0.211301</td>\n",
       "      <td>0.357614</td>\n",
       "      <td>0.437069</td>\n",
       "      <td>0.462129</td>\n",
       "      <td>0.679369</td>\n",
       "    </tr>\n",
       "    <tr>\n",
       "      <th>speechiness</th>\n",
       "      <td>0.118245</td>\n",
       "      <td>0.104200</td>\n",
       "      <td>0.204106</td>\n",
       "      <td>0.335523</td>\n",
       "      <td>0.021524</td>\n",
       "      <td>0.239284</td>\n",
       "      <td>0.190934</td>\n",
       "      <td>0.138512</td>\n",
       "      <td>0.211301</td>\n",
       "      <td>1.000000</td>\n",
       "      <td>0.206596</td>\n",
       "      <td>0.119157</td>\n",
       "      <td>0.026536</td>\n",
       "      <td>0.498084</td>\n",
       "    </tr>\n",
       "    <tr>\n",
       "      <th>tempo</th>\n",
       "      <td>0.037878</td>\n",
       "      <td>0.014283</td>\n",
       "      <td>0.336114</td>\n",
       "      <td>0.407472</td>\n",
       "      <td>0.088823</td>\n",
       "      <td>0.387013</td>\n",
       "      <td>0.218501</td>\n",
       "      <td>0.084412</td>\n",
       "      <td>0.357614</td>\n",
       "      <td>0.206596</td>\n",
       "      <td>1.000000</td>\n",
       "      <td>0.261755</td>\n",
       "      <td>0.137377</td>\n",
       "      <td>0.332872</td>\n",
       "    </tr>\n",
       "    <tr>\n",
       "      <th>valence</th>\n",
       "      <td>0.045502</td>\n",
       "      <td>0.058103</td>\n",
       "      <td>0.397133</td>\n",
       "      <td>0.531502</td>\n",
       "      <td>0.132436</td>\n",
       "      <td>0.478888</td>\n",
       "      <td>0.357175</td>\n",
       "      <td>0.130656</td>\n",
       "      <td>0.437069</td>\n",
       "      <td>0.119157</td>\n",
       "      <td>0.261755</td>\n",
       "      <td>1.000000</td>\n",
       "      <td>0.203277</td>\n",
       "      <td>0.464354</td>\n",
       "    </tr>\n",
       "    <tr>\n",
       "      <th>len_names</th>\n",
       "      <td>0.024422</td>\n",
       "      <td>0.025666</td>\n",
       "      <td>0.427844</td>\n",
       "      <td>0.287942</td>\n",
       "      <td>0.147258</td>\n",
       "      <td>0.416870</td>\n",
       "      <td>0.226438</td>\n",
       "      <td>0.119214</td>\n",
       "      <td>0.462129</td>\n",
       "      <td>0.026536</td>\n",
       "      <td>0.137377</td>\n",
       "      <td>0.203277</td>\n",
       "      <td>1.000000</td>\n",
       "      <td>0.502554</td>\n",
       "    </tr>\n",
       "    <tr>\n",
       "      <th>music_genre</th>\n",
       "      <td>0.169033</td>\n",
       "      <td>0.296143</td>\n",
       "      <td>0.657653</td>\n",
       "      <td>0.623224</td>\n",
       "      <td>0.178421</td>\n",
       "      <td>0.669221</td>\n",
       "      <td>0.567686</td>\n",
       "      <td>0.208943</td>\n",
       "      <td>0.679369</td>\n",
       "      <td>0.498084</td>\n",
       "      <td>0.332872</td>\n",
       "      <td>0.464354</td>\n",
       "      <td>0.502554</td>\n",
       "      <td>1.000000</td>\n",
       "    </tr>\n",
       "  </tbody>\n",
       "</table>\n",
       "</div>"
      ],
      "text/plain": [
       "                       key      mode  acousticness  danceability  duration_ms  \\\n",
       "key               1.000000  0.295871      0.097168      0.102511     0.033802   \n",
       "mode              0.295871  1.000000      0.029099      0.103777     0.006100   \n",
       "acousticness      0.097168  0.029099      1.000000      0.458491     0.121855   \n",
       "danceability      0.102511  0.103777      0.458491      1.000000     0.163963   \n",
       "duration_ms       0.033802  0.006100      0.121855      0.163963     1.000000   \n",
       "energy            0.090606  0.033624      0.766657      0.516204     0.131828   \n",
       "instrumentalness  0.033780  0.084661      0.441997      0.342605     0.152322   \n",
       "liveness          0.058493  0.028814      0.185885      0.135120     0.080106   \n",
       "loudness          0.083085  0.015795      0.709364      0.483332     0.155185   \n",
       "speechiness       0.118245  0.104200      0.204106      0.335523     0.021524   \n",
       "tempo             0.037878  0.014283      0.336114      0.407472     0.088823   \n",
       "valence           0.045502  0.058103      0.397133      0.531502     0.132436   \n",
       "len_names         0.024422  0.025666      0.427844      0.287942     0.147258   \n",
       "music_genre       0.169033  0.296143      0.657653      0.623224     0.178421   \n",
       "\n",
       "                    energy  instrumentalness  liveness  loudness  speechiness  \\\n",
       "key               0.090606          0.033780  0.058493  0.083085     0.118245   \n",
       "mode              0.033624          0.084661  0.028814  0.015795     0.104200   \n",
       "acousticness      0.766657          0.441997  0.185885  0.709364     0.204106   \n",
       "danceability      0.516204          0.342605  0.135120  0.483332     0.335523   \n",
       "duration_ms       0.131828          0.152322  0.080106  0.155185     0.021524   \n",
       "energy            1.000000          0.437427  0.256748  0.839273     0.239284   \n",
       "instrumentalness  0.437427          1.000000  0.138175  0.498359     0.190934   \n",
       "liveness          0.256748          0.138175  1.000000  0.199227     0.138512   \n",
       "loudness          0.839273          0.498359  0.199227  1.000000     0.211301   \n",
       "speechiness       0.239284          0.190934  0.138512  0.211301     1.000000   \n",
       "tempo             0.387013          0.218501  0.084412  0.357614     0.206596   \n",
       "valence           0.478888          0.357175  0.130656  0.437069     0.119157   \n",
       "len_names         0.416870          0.226438  0.119214  0.462129     0.026536   \n",
       "music_genre       0.669221          0.567686  0.208943  0.679369     0.498084   \n",
       "\n",
       "                     tempo   valence  len_names  music_genre  \n",
       "key               0.037878  0.045502   0.024422     0.169033  \n",
       "mode              0.014283  0.058103   0.025666     0.296143  \n",
       "acousticness      0.336114  0.397133   0.427844     0.657653  \n",
       "danceability      0.407472  0.531502   0.287942     0.623224  \n",
       "duration_ms       0.088823  0.132436   0.147258     0.178421  \n",
       "energy            0.387013  0.478888   0.416870     0.669221  \n",
       "instrumentalness  0.218501  0.357175   0.226438     0.567686  \n",
       "liveness          0.084412  0.130656   0.119214     0.208943  \n",
       "loudness          0.357614  0.437069   0.462129     0.679369  \n",
       "speechiness       0.206596  0.119157   0.026536     0.498084  \n",
       "tempo             1.000000  0.261755   0.137377     0.332872  \n",
       "valence           0.261755  1.000000   0.203277     0.464354  \n",
       "len_names         0.137377  0.203277   1.000000     0.502554  \n",
       "music_genre       0.332872  0.464354   0.502554     1.000000  "
      ]
     },
     "execution_count": 45,
     "metadata": {},
     "output_type": "execute_result"
    }
   ],
   "source": [
    "phik_overview"
   ]
  },
  {
   "cell_type": "code",
   "execution_count": 46,
   "id": "6923ea4b",
   "metadata": {
    "scrolled": true
   },
   "outputs": [
    {
     "data": {
      "image/png": "[encoded data removed]",
      "text/plain": [
       "<Figure size 1200x800 with 2 Axes>"
      ]
     },
     "metadata": {},
     "output_type": "display_data"
    }
   ],
   "source": [
    "plot_correlation_matrix(phik_overview.values, x_labels=phik_overview.columns, y_labels=phik_overview.index, \n",
    "                        vmin=0, vmax=1, color_map='Blues', title=r'Корреляция', fontsize_factor=1.5,\n",
    "                        figsize=(12,8))\n",
    "plt.tight_layout()"
   ]
  },
  {
   "cell_type": "markdown",
   "id": "884db6af",
   "metadata": {},
   "source": [
    "Тепловая карта наглядно показывает зависимость признаков.\n",
    "\n",
    "Я заполню порпуски в mode модой по key так как это единственный признак с которым он коллерует,а в tempo медианным значением по коррелирующим признакам"
   ]
  },
  {
   "cell_type": "code",
   "execution_count": 47,
   "id": "f6facbc2",
   "metadata": {
    "scrolled": true
   },
   "outputs": [
    {
     "data": {
      "text/plain": [
       "instance_id           0\n",
       "track_name            0\n",
       "acousticness          0\n",
       "danceability          0\n",
       "duration_ms           0\n",
       "energy                0\n",
       "instrumentalness      0\n",
       "key                   0\n",
       "liveness              0\n",
       "loudness              0\n",
       "mode                506\n",
       "speechiness           0\n",
       "tempo               442\n",
       "obtained_date         0\n",
       "valence               0\n",
       "music_genre           0\n",
       "len_names             0\n",
       "dtype: int64"
      ]
     },
     "execution_count": 47,
     "metadata": {},
     "output_type": "execute_result"
    }
   ],
   "source": [
    "df.isna().sum()"
   ]
  },
  {
   "cell_type": "code",
   "execution_count": 48,
   "id": "821184d7",
   "metadata": {},
   "outputs": [],
   "source": [
    "df['mode'] = df['mode'].fillna('other')"
   ]
  },
  {
   "cell_type": "markdown",
   "id": "05269100",
   "metadata": {
    "scrolled": false
   },
   "source": [
    "# создаем словарь соответствия моды каждой группе значений key\n",
    "mode_mapping = df.groupby('key')['mode'].apply(lambda x: x.mode().values[0]).to_dict()\n",
    "\n",
    "# заполняем пропущенные значения в столбце 'mode' на основе значений в столбце key\n",
    "df['mode'] = df.apply(lambda row: mode_mapping[row['key']] if pd.isnull(row['mode']) else row['mode'], axis=1)"
   ]
  },
  {
   "cell_type": "code",
   "execution_count": 49,
   "id": "3a7e30d4",
   "metadata": {},
   "outputs": [],
   "source": [
    "# заполняем пропуски в столбце 'tempo' с использованием медианного значения danceability, energy, acousticness\n",
    "df['tempo'] = df['tempo'].fillna(df.groupby('danceability')['tempo'].transform('median'))\n",
    "df['tempo'] = df['tempo'].fillna(df.groupby('energy')['tempo'].transform('median'))\n",
    "df['tempo'] = df['tempo'].fillna(df.groupby('acousticness')['tempo'].transform('median'))"
   ]
  },
  {
   "cell_type": "code",
   "execution_count": 50,
   "id": "5d944ee7",
   "metadata": {},
   "outputs": [
    {
     "data": {
      "text/plain": [
       "instance_id         0\n",
       "track_name          0\n",
       "acousticness        0\n",
       "danceability        0\n",
       "duration_ms         0\n",
       "energy              0\n",
       "instrumentalness    0\n",
       "key                 0\n",
       "liveness            0\n",
       "loudness            0\n",
       "mode                0\n",
       "speechiness         0\n",
       "tempo               0\n",
       "obtained_date       0\n",
       "valence             0\n",
       "music_genre         0\n",
       "len_names           0\n",
       "dtype: int64"
      ]
     },
     "execution_count": 50,
     "metadata": {},
     "output_type": "execute_result"
    }
   ],
   "source": [
    "df.isnull().sum() # проверим что нет пропусков"
   ]
  },
  {
   "cell_type": "markdown",
   "id": "09c36001",
   "metadata": {},
   "source": [
    "Между energy, acousticness, loudness есть мультиколлениарность, это может стать проблемой для линейной модели\n",
    "\n",
    "## Подотовка данных и обучение модели\n",
    "\n",
    "Я не буду брать instance_id, потому что это не информативный признак, obtained_date так как мы делаем продукт на будущее и там будет явно другие даты чем те 3 дня что нам предоставлены в датасете.\n",
    "\n",
    "Сначала я обработаю названия песен. Я уберу лишние знаки, приведу к единому регистру и начальной формы слов. "
   ]
  },
  {
   "cell_type": "code",
   "execution_count": 51,
   "id": "5dd19e89",
   "metadata": {},
   "outputs": [],
   "source": [
    "def clear_text(text): # создадим функцию для очистки текста от лишних символов\n",
    "    clear_text = re.sub(r'[^a-zA-Z ]', ' ',text).lower()\n",
    "    return \" \".join(clear_text.split())"
   ]
  },
  {
   "cell_type": "code",
   "execution_count": 52,
   "id": "3ee08f90",
   "metadata": {},
   "outputs": [
    {
     "data": {
      "text/plain": [
       "'highwayman'"
      ]
     },
     "execution_count": 52,
     "metadata": {},
     "output_type": "execute_result"
    }
   ],
   "source": [
    "corpus = df['track_name']\n",
    "clear_text(corpus[0]) # тестируем работу, все хорошо"
   ]
  },
  {
   "cell_type": "code",
   "execution_count": 53,
   "id": "d4a3bfb1",
   "metadata": {},
   "outputs": [
    {
     "data": {
      "text/html": [
       "<div>\n",
       "<style scoped>\n",
       "    .dataframe tbody tr th:only-of-type {\n",
       "        vertical-align: middle;\n",
       "    }\n",
       "\n",
       "    .dataframe tbody tr th {\n",
       "        vertical-align: top;\n",
       "    }\n",
       "\n",
       "    .dataframe thead th {\n",
       "        text-align: right;\n",
       "    }\n",
       "</style>\n",
       "<table border=\"1\" class=\"dataframe\">\n",
       "  <thead>\n",
       "    <tr style=\"text-align: right;\">\n",
       "      <th></th>\n",
       "      <th>instance_id</th>\n",
       "      <th>track_name</th>\n",
       "      <th>acousticness</th>\n",
       "      <th>danceability</th>\n",
       "      <th>duration_ms</th>\n",
       "      <th>energy</th>\n",
       "      <th>instrumentalness</th>\n",
       "      <th>key</th>\n",
       "      <th>liveness</th>\n",
       "      <th>loudness</th>\n",
       "      <th>mode</th>\n",
       "      <th>speechiness</th>\n",
       "      <th>tempo</th>\n",
       "      <th>obtained_date</th>\n",
       "      <th>valence</th>\n",
       "      <th>music_genre</th>\n",
       "      <th>len_names</th>\n",
       "      <th>lemma_track_name</th>\n",
       "    </tr>\n",
       "  </thead>\n",
       "  <tbody>\n",
       "    <tr>\n",
       "      <th>0</th>\n",
       "      <td>25143.0</td>\n",
       "      <td>Highwayman</td>\n",
       "      <td>0.4800</td>\n",
       "      <td>0.670</td>\n",
       "      <td>182653.0</td>\n",
       "      <td>0.351</td>\n",
       "      <td>0.017600</td>\n",
       "      <td>D</td>\n",
       "      <td>0.115</td>\n",
       "      <td>-16.842</td>\n",
       "      <td>Major</td>\n",
       "      <td>0.0463</td>\n",
       "      <td>101.384</td>\n",
       "      <td>4-Apr</td>\n",
       "      <td>0.450</td>\n",
       "      <td>Country</td>\n",
       "      <td>10</td>\n",
       "      <td>highwayman</td>\n",
       "    </tr>\n",
       "    <tr>\n",
       "      <th>1</th>\n",
       "      <td>26091.0</td>\n",
       "      <td>Toes Across The Floor</td>\n",
       "      <td>0.2430</td>\n",
       "      <td>0.452</td>\n",
       "      <td>187133.0</td>\n",
       "      <td>0.670</td>\n",
       "      <td>0.000051</td>\n",
       "      <td>A</td>\n",
       "      <td>0.108</td>\n",
       "      <td>-8.392</td>\n",
       "      <td>Minor</td>\n",
       "      <td>0.0352</td>\n",
       "      <td>113.071</td>\n",
       "      <td>4-Apr</td>\n",
       "      <td>0.539</td>\n",
       "      <td>Rock</td>\n",
       "      <td>21</td>\n",
       "      <td>toes across the floor</td>\n",
       "    </tr>\n",
       "    <tr>\n",
       "      <th>2</th>\n",
       "      <td>87888.0</td>\n",
       "      <td>First Person on Earth</td>\n",
       "      <td>0.2280</td>\n",
       "      <td>0.454</td>\n",
       "      <td>173448.0</td>\n",
       "      <td>0.804</td>\n",
       "      <td>0.000000</td>\n",
       "      <td>E</td>\n",
       "      <td>0.181</td>\n",
       "      <td>-5.225</td>\n",
       "      <td>Minor</td>\n",
       "      <td>0.3710</td>\n",
       "      <td>80.980</td>\n",
       "      <td>4-Apr</td>\n",
       "      <td>0.344</td>\n",
       "      <td>Alternative</td>\n",
       "      <td>21</td>\n",
       "      <td>first person on earth</td>\n",
       "    </tr>\n",
       "    <tr>\n",
       "      <th>3</th>\n",
       "      <td>77021.0</td>\n",
       "      <td>No Te Veo - Digital Single</td>\n",
       "      <td>0.0558</td>\n",
       "      <td>0.847</td>\n",
       "      <td>255987.0</td>\n",
       "      <td>0.873</td>\n",
       "      <td>0.000003</td>\n",
       "      <td>G#</td>\n",
       "      <td>0.325</td>\n",
       "      <td>-4.805</td>\n",
       "      <td>Minor</td>\n",
       "      <td>0.0804</td>\n",
       "      <td>116.007</td>\n",
       "      <td>4-Apr</td>\n",
       "      <td>0.966</td>\n",
       "      <td>Hip-Hop</td>\n",
       "      <td>26</td>\n",
       "      <td>no te veo digital single</td>\n",
       "    </tr>\n",
       "    <tr>\n",
       "      <th>4</th>\n",
       "      <td>20852.0</td>\n",
       "      <td>Chasing Shadows</td>\n",
       "      <td>0.2270</td>\n",
       "      <td>0.742</td>\n",
       "      <td>195333.0</td>\n",
       "      <td>0.575</td>\n",
       "      <td>0.000002</td>\n",
       "      <td>C</td>\n",
       "      <td>0.176</td>\n",
       "      <td>-5.550</td>\n",
       "      <td>Major</td>\n",
       "      <td>0.0487</td>\n",
       "      <td>76.494</td>\n",
       "      <td>4-Apr</td>\n",
       "      <td>0.583</td>\n",
       "      <td>Alternative</td>\n",
       "      <td>15</td>\n",
       "      <td>chasing shadows</td>\n",
       "    </tr>\n",
       "  </tbody>\n",
       "</table>\n",
       "</div>"
      ],
      "text/plain": [
       "   instance_id                  track_name  acousticness  danceability  \\\n",
       "0      25143.0                  Highwayman        0.4800         0.670   \n",
       "1      26091.0       Toes Across The Floor        0.2430         0.452   \n",
       "2      87888.0       First Person on Earth        0.2280         0.454   \n",
       "3      77021.0  No Te Veo - Digital Single        0.0558         0.847   \n",
       "4      20852.0             Chasing Shadows        0.2270         0.742   \n",
       "\n",
       "   duration_ms  energy  instrumentalness key  liveness  loudness   mode  \\\n",
       "0     182653.0   0.351          0.017600   D     0.115   -16.842  Major   \n",
       "1     187133.0   0.670          0.000051   A     0.108    -8.392  Minor   \n",
       "2     173448.0   0.804          0.000000   E     0.181    -5.225  Minor   \n",
       "3     255987.0   0.873          0.000003  G#     0.325    -4.805  Minor   \n",
       "4     195333.0   0.575          0.000002   C     0.176    -5.550  Major   \n",
       "\n",
       "   speechiness    tempo obtained_date  valence  music_genre  len_names  \\\n",
       "0       0.0463  101.384         4-Apr    0.450      Country         10   \n",
       "1       0.0352  113.071         4-Apr    0.539         Rock         21   \n",
       "2       0.3710   80.980         4-Apr    0.344  Alternative         21   \n",
       "3       0.0804  116.007         4-Apr    0.966      Hip-Hop         26   \n",
       "4       0.0487   76.494         4-Apr    0.583  Alternative         15   \n",
       "\n",
       "           lemma_track_name  \n",
       "0                highwayman  \n",
       "1     toes across the floor  \n",
       "2     first person on earth  \n",
       "3  no te veo digital single  \n",
       "4           chasing shadows  "
      ]
     },
     "execution_count": 53,
     "metadata": {},
     "output_type": "execute_result"
    }
   ],
   "source": [
    "df['lemma_track_name'] = df['track_name'].apply(clear_text)\n",
    "df.head(5)"
   ]
  },
  {
   "cell_type": "code",
   "execution_count": 54,
   "id": "ba5475b0",
   "metadata": {},
   "outputs": [],
   "source": [
    "def get_wordnet_pos(text): # создадим функцию для применения POS тегов для преобразования слов в начальные формы\n",
    "    \"\"\"Map POS tag to first character lemmatize() accepts\"\"\"\n",
    "    tag = nltk.pos_tag([text])[0][1][0].upper()\n",
    "    tag_dict = {\"J\": wordnet.ADJ,\n",
    "                \"N\": wordnet.NOUN,\n",
    "                \"V\": wordnet.VERB,\n",
    "                \"R\": wordnet.ADV}\n",
    "    return tag_dict.get(tag, wordnet.NOUN)"
   ]
  },
  {
   "cell_type": "code",
   "execution_count": 55,
   "id": "8c596492",
   "metadata": {},
   "outputs": [],
   "source": [
    "def lemmatize(text):  # создадим функцию лемматизации\n",
    "    lemmatizer = WordNetLemmatizer() # объявим лемматизатор\n",
    "    lemm_list = [lemmatizer.lemmatize(w, get_wordnet_pos(w)) for w in nltk.word_tokenize(text)] # применим лемматизацию к ранее очищенному тексту\n",
    "    lemm_text = \" \".join(lemm_list) # добавим пробелы\n",
    "    \n",
    "    return lemm_text"
   ]
  },
  {
   "cell_type": "code",
   "execution_count": 56,
   "id": "61582244",
   "metadata": {
    "scrolled": true
   },
   "outputs": [
    {
     "data": {
      "text/html": [
       "<div>\n",
       "<style scoped>\n",
       "    .dataframe tbody tr th:only-of-type {\n",
       "        vertical-align: middle;\n",
       "    }\n",
       "\n",
       "    .dataframe tbody tr th {\n",
       "        vertical-align: top;\n",
       "    }\n",
       "\n",
       "    .dataframe thead th {\n",
       "        text-align: right;\n",
       "    }\n",
       "</style>\n",
       "<table border=\"1\" class=\"dataframe\">\n",
       "  <thead>\n",
       "    <tr style=\"text-align: right;\">\n",
       "      <th></th>\n",
       "      <th>instance_id</th>\n",
       "      <th>track_name</th>\n",
       "      <th>acousticness</th>\n",
       "      <th>danceability</th>\n",
       "      <th>duration_ms</th>\n",
       "      <th>energy</th>\n",
       "      <th>instrumentalness</th>\n",
       "      <th>key</th>\n",
       "      <th>liveness</th>\n",
       "      <th>loudness</th>\n",
       "      <th>mode</th>\n",
       "      <th>speechiness</th>\n",
       "      <th>tempo</th>\n",
       "      <th>obtained_date</th>\n",
       "      <th>valence</th>\n",
       "      <th>music_genre</th>\n",
       "      <th>len_names</th>\n",
       "      <th>lemma_track_name</th>\n",
       "    </tr>\n",
       "  </thead>\n",
       "  <tbody>\n",
       "    <tr>\n",
       "      <th>0</th>\n",
       "      <td>25143.0</td>\n",
       "      <td>Highwayman</td>\n",
       "      <td>0.4800</td>\n",
       "      <td>0.670</td>\n",
       "      <td>182653.0</td>\n",
       "      <td>0.351</td>\n",
       "      <td>0.017600</td>\n",
       "      <td>D</td>\n",
       "      <td>0.115</td>\n",
       "      <td>-16.842</td>\n",
       "      <td>Major</td>\n",
       "      <td>0.0463</td>\n",
       "      <td>101.384</td>\n",
       "      <td>4-Apr</td>\n",
       "      <td>0.450</td>\n",
       "      <td>Country</td>\n",
       "      <td>10</td>\n",
       "      <td>highwayman</td>\n",
       "    </tr>\n",
       "    <tr>\n",
       "      <th>1</th>\n",
       "      <td>26091.0</td>\n",
       "      <td>Toes Across The Floor</td>\n",
       "      <td>0.2430</td>\n",
       "      <td>0.452</td>\n",
       "      <td>187133.0</td>\n",
       "      <td>0.670</td>\n",
       "      <td>0.000051</td>\n",
       "      <td>A</td>\n",
       "      <td>0.108</td>\n",
       "      <td>-8.392</td>\n",
       "      <td>Minor</td>\n",
       "      <td>0.0352</td>\n",
       "      <td>113.071</td>\n",
       "      <td>4-Apr</td>\n",
       "      <td>0.539</td>\n",
       "      <td>Rock</td>\n",
       "      <td>21</td>\n",
       "      <td>toe across the floor</td>\n",
       "    </tr>\n",
       "    <tr>\n",
       "      <th>2</th>\n",
       "      <td>87888.0</td>\n",
       "      <td>First Person on Earth</td>\n",
       "      <td>0.2280</td>\n",
       "      <td>0.454</td>\n",
       "      <td>173448.0</td>\n",
       "      <td>0.804</td>\n",
       "      <td>0.000000</td>\n",
       "      <td>E</td>\n",
       "      <td>0.181</td>\n",
       "      <td>-5.225</td>\n",
       "      <td>Minor</td>\n",
       "      <td>0.3710</td>\n",
       "      <td>80.980</td>\n",
       "      <td>4-Apr</td>\n",
       "      <td>0.344</td>\n",
       "      <td>Alternative</td>\n",
       "      <td>21</td>\n",
       "      <td>first person on earth</td>\n",
       "    </tr>\n",
       "    <tr>\n",
       "      <th>3</th>\n",
       "      <td>77021.0</td>\n",
       "      <td>No Te Veo - Digital Single</td>\n",
       "      <td>0.0558</td>\n",
       "      <td>0.847</td>\n",
       "      <td>255987.0</td>\n",
       "      <td>0.873</td>\n",
       "      <td>0.000003</td>\n",
       "      <td>G#</td>\n",
       "      <td>0.325</td>\n",
       "      <td>-4.805</td>\n",
       "      <td>Minor</td>\n",
       "      <td>0.0804</td>\n",
       "      <td>116.007</td>\n",
       "      <td>4-Apr</td>\n",
       "      <td>0.966</td>\n",
       "      <td>Hip-Hop</td>\n",
       "      <td>26</td>\n",
       "      <td>no te veo digital single</td>\n",
       "    </tr>\n",
       "    <tr>\n",
       "      <th>4</th>\n",
       "      <td>20852.0</td>\n",
       "      <td>Chasing Shadows</td>\n",
       "      <td>0.2270</td>\n",
       "      <td>0.742</td>\n",
       "      <td>195333.0</td>\n",
       "      <td>0.575</td>\n",
       "      <td>0.000002</td>\n",
       "      <td>C</td>\n",
       "      <td>0.176</td>\n",
       "      <td>-5.550</td>\n",
       "      <td>Major</td>\n",
       "      <td>0.0487</td>\n",
       "      <td>76.494</td>\n",
       "      <td>4-Apr</td>\n",
       "      <td>0.583</td>\n",
       "      <td>Alternative</td>\n",
       "      <td>15</td>\n",
       "      <td>chase shadow</td>\n",
       "    </tr>\n",
       "  </tbody>\n",
       "</table>\n",
       "</div>"
      ],
      "text/plain": [
       "   instance_id                  track_name  acousticness  danceability  \\\n",
       "0      25143.0                  Highwayman        0.4800         0.670   \n",
       "1      26091.0       Toes Across The Floor        0.2430         0.452   \n",
       "2      87888.0       First Person on Earth        0.2280         0.454   \n",
       "3      77021.0  No Te Veo - Digital Single        0.0558         0.847   \n",
       "4      20852.0             Chasing Shadows        0.2270         0.742   \n",
       "\n",
       "   duration_ms  energy  instrumentalness key  liveness  loudness   mode  \\\n",
       "0     182653.0   0.351          0.017600   D     0.115   -16.842  Major   \n",
       "1     187133.0   0.670          0.000051   A     0.108    -8.392  Minor   \n",
       "2     173448.0   0.804          0.000000   E     0.181    -5.225  Minor   \n",
       "3     255987.0   0.873          0.000003  G#     0.325    -4.805  Minor   \n",
       "4     195333.0   0.575          0.000002   C     0.176    -5.550  Major   \n",
       "\n",
       "   speechiness    tempo obtained_date  valence  music_genre  len_names  \\\n",
       "0       0.0463  101.384         4-Apr    0.450      Country         10   \n",
       "1       0.0352  113.071         4-Apr    0.539         Rock         21   \n",
       "2       0.3710   80.980         4-Apr    0.344  Alternative         21   \n",
       "3       0.0804  116.007         4-Apr    0.966      Hip-Hop         26   \n",
       "4       0.0487   76.494         4-Apr    0.583  Alternative         15   \n",
       "\n",
       "           lemma_track_name  \n",
       "0                highwayman  \n",
       "1      toe across the floor  \n",
       "2     first person on earth  \n",
       "3  no te veo digital single  \n",
       "4              chase shadow  "
      ]
     },
     "execution_count": 56,
     "metadata": {},
     "output_type": "execute_result"
    }
   ],
   "source": [
    "df['lemma_track_name'] = df['lemma_track_name'].apply(lemmatize) # изменим ранее созданную колонку\n",
    "df.head(5) # теперь у нас есть колонка с исходным текстом и лемматизированным и очищенным"
   ]
  },
  {
   "cell_type": "code",
   "execution_count": 57,
   "id": "9e68b1bb",
   "metadata": {
    "scrolled": true
   },
   "outputs": [
    {
     "data": {
      "text/plain": [
       "music_genre\n",
       "Anime          366\n",
       "Electronic      15\n",
       "Alternative     10\n",
       "Rap              7\n",
       "Hip-Hop          5\n",
       "Blues            5\n",
       "Country          5\n",
       "Classical        4\n",
       "Rock             2\n",
       "Jazz             1\n",
       "Name: count, dtype: int64"
      ]
     },
     "execution_count": 57,
     "metadata": {},
     "output_type": "execute_result"
    }
   ],
   "source": [
    "# после обработки текста у меня появились пустые строки в основном Аниме. Я могу использовать это и создать дополнительный признак\n",
    "df.query('lemma_track_name==\"\"')['music_genre'].value_counts()"
   ]
  },
  {
   "cell_type": "code",
   "execution_count": 58,
   "id": "34f9335b",
   "metadata": {},
   "outputs": [],
   "source": [
    "# Задам категриальные значение для пометки если есть пропуск\n",
    "df['after_lemma_empty'] = df['lemma_track_name'].apply(lambda x: 'Yes' if x=='' else 'No')"
   ]
  },
  {
   "cell_type": "code",
   "execution_count": 59,
   "id": "dc51fd6d",
   "metadata": {},
   "outputs": [
    {
     "data": {
      "text/html": [
       "<div>\n",
       "<style scoped>\n",
       "    .dataframe tbody tr th:only-of-type {\n",
       "        vertical-align: middle;\n",
       "    }\n",
       "\n",
       "    .dataframe tbody tr th {\n",
       "        vertical-align: top;\n",
       "    }\n",
       "\n",
       "    .dataframe thead th {\n",
       "        text-align: right;\n",
       "    }\n",
       "</style>\n",
       "<table border=\"1\" class=\"dataframe\">\n",
       "  <thead>\n",
       "    <tr style=\"text-align: right;\">\n",
       "      <th></th>\n",
       "      <th>instance_id</th>\n",
       "      <th>track_name</th>\n",
       "      <th>acousticness</th>\n",
       "      <th>danceability</th>\n",
       "      <th>duration_ms</th>\n",
       "      <th>energy</th>\n",
       "      <th>instrumentalness</th>\n",
       "      <th>key</th>\n",
       "      <th>liveness</th>\n",
       "      <th>loudness</th>\n",
       "      <th>mode</th>\n",
       "      <th>speechiness</th>\n",
       "      <th>tempo</th>\n",
       "      <th>obtained_date</th>\n",
       "      <th>valence</th>\n",
       "      <th>music_genre</th>\n",
       "      <th>len_names</th>\n",
       "      <th>lemma_track_name</th>\n",
       "      <th>after_lemma_empty</th>\n",
       "    </tr>\n",
       "  </thead>\n",
       "  <tbody>\n",
       "    <tr>\n",
       "      <th>90</th>\n",
       "      <td>80943.0</td>\n",
       "      <td>ハイキュー!!</td>\n",
       "      <td>0.0200</td>\n",
       "      <td>0.5670</td>\n",
       "      <td>234360.0</td>\n",
       "      <td>0.585</td>\n",
       "      <td>0.8700</td>\n",
       "      <td>C</td>\n",
       "      <td>0.0679</td>\n",
       "      <td>-10.229</td>\n",
       "      <td>Major</td>\n",
       "      <td>0.0273</td>\n",
       "      <td>134.972</td>\n",
       "      <td>4-Apr</td>\n",
       "      <td>0.3710</td>\n",
       "      <td>Anime</td>\n",
       "      <td>7</td>\n",
       "      <td></td>\n",
       "      <td>Yes</td>\n",
       "    </tr>\n",
       "    <tr>\n",
       "      <th>104</th>\n",
       "      <td>54759.0</td>\n",
       "      <td>ナウシカ・レクイエム(風の谷のナウシカより)</td>\n",
       "      <td>0.9790</td>\n",
       "      <td>0.3670</td>\n",
       "      <td>196680.0</td>\n",
       "      <td>0.111</td>\n",
       "      <td>0.0295</td>\n",
       "      <td>F</td>\n",
       "      <td>0.1050</td>\n",
       "      <td>-14.490</td>\n",
       "      <td>Minor</td>\n",
       "      <td>0.0519</td>\n",
       "      <td>68.155</td>\n",
       "      <td>4-Apr</td>\n",
       "      <td>0.2050</td>\n",
       "      <td>Anime</td>\n",
       "      <td>22</td>\n",
       "      <td></td>\n",
       "      <td>Yes</td>\n",
       "    </tr>\n",
       "    <tr>\n",
       "      <th>105</th>\n",
       "      <td>36240.0</td>\n",
       "      <td>メルシー</td>\n",
       "      <td>0.0702</td>\n",
       "      <td>0.5130</td>\n",
       "      <td>199189.0</td>\n",
       "      <td>0.964</td>\n",
       "      <td>0.0000</td>\n",
       "      <td>F</td>\n",
       "      <td>0.2860</td>\n",
       "      <td>-4.521</td>\n",
       "      <td>Minor</td>\n",
       "      <td>0.1690</td>\n",
       "      <td>95.542</td>\n",
       "      <td>4-Apr</td>\n",
       "      <td>0.5790</td>\n",
       "      <td>Anime</td>\n",
       "      <td>4</td>\n",
       "      <td></td>\n",
       "      <td>Yes</td>\n",
       "    </tr>\n",
       "    <tr>\n",
       "      <th>119</th>\n",
       "      <td>51708.0</td>\n",
       "      <td>譲り葉塚</td>\n",
       "      <td>0.6370</td>\n",
       "      <td>0.4020</td>\n",
       "      <td>219533.0</td>\n",
       "      <td>0.281</td>\n",
       "      <td>0.0121</td>\n",
       "      <td>F</td>\n",
       "      <td>0.2080</td>\n",
       "      <td>-12.021</td>\n",
       "      <td>Major</td>\n",
       "      <td>0.0305</td>\n",
       "      <td>177.762</td>\n",
       "      <td>3-Apr</td>\n",
       "      <td>0.0835</td>\n",
       "      <td>Anime</td>\n",
       "      <td>4</td>\n",
       "      <td></td>\n",
       "      <td>Yes</td>\n",
       "    </tr>\n",
       "    <tr>\n",
       "      <th>144</th>\n",
       "      <td>72127.0</td>\n",
       "      <td>後悔</td>\n",
       "      <td>0.9410</td>\n",
       "      <td>0.0967</td>\n",
       "      <td>169507.0</td>\n",
       "      <td>0.148</td>\n",
       "      <td>0.7190</td>\n",
       "      <td>C</td>\n",
       "      <td>0.1280</td>\n",
       "      <td>-18.953</td>\n",
       "      <td>Minor</td>\n",
       "      <td>0.0360</td>\n",
       "      <td>70.676</td>\n",
       "      <td>3-Apr</td>\n",
       "      <td>0.0580</td>\n",
       "      <td>Anime</td>\n",
       "      <td>2</td>\n",
       "      <td></td>\n",
       "      <td>Yes</td>\n",
       "    </tr>\n",
       "  </tbody>\n",
       "</table>\n",
       "</div>"
      ],
      "text/plain": [
       "     instance_id              track_name  acousticness  danceability  \\\n",
       "90       80943.0                 ハイキュー!!        0.0200        0.5670   \n",
       "104      54759.0  ナウシカ・レクイエム(風の谷のナウシカより)        0.9790        0.3670   \n",
       "105      36240.0                    メルシー        0.0702        0.5130   \n",
       "119      51708.0                    譲り葉塚        0.6370        0.4020   \n",
       "144      72127.0                      後悔        0.9410        0.0967   \n",
       "\n",
       "     duration_ms  energy  instrumentalness key  liveness  loudness   mode  \\\n",
       "90      234360.0   0.585            0.8700   C    0.0679   -10.229  Major   \n",
       "104     196680.0   0.111            0.0295   F    0.1050   -14.490  Minor   \n",
       "105     199189.0   0.964            0.0000   F    0.2860    -4.521  Minor   \n",
       "119     219533.0   0.281            0.0121   F    0.2080   -12.021  Major   \n",
       "144     169507.0   0.148            0.7190   C    0.1280   -18.953  Minor   \n",
       "\n",
       "     speechiness    tempo obtained_date  valence music_genre  len_names  \\\n",
       "90        0.0273  134.972         4-Apr   0.3710       Anime          7   \n",
       "104       0.0519   68.155         4-Apr   0.2050       Anime         22   \n",
       "105       0.1690   95.542         4-Apr   0.5790       Anime          4   \n",
       "119       0.0305  177.762         3-Apr   0.0835       Anime          4   \n",
       "144       0.0360   70.676         3-Apr   0.0580       Anime          2   \n",
       "\n",
       "    lemma_track_name after_lemma_empty  \n",
       "90                                 Yes  \n",
       "104                                Yes  \n",
       "105                                Yes  \n",
       "119                                Yes  \n",
       "144                                Yes  "
      ]
     },
     "execution_count": 59,
     "metadata": {},
     "output_type": "execute_result"
    }
   ],
   "source": [
    "df.query('lemma_track_name==\"\"').head(5) # проверка"
   ]
  },
  {
   "cell_type": "markdown",
   "id": "d1a977b9",
   "metadata": {},
   "source": [
    "Я видел что в названиях песен чаще всего начальные формы слов, но я не могу быть уверен за все 20 000 строк\n",
    "\n",
    "Приступим к тестированию моделей"
   ]
  },
  {
   "cell_type": "code",
   "execution_count": 60,
   "id": "62aee39c",
   "metadata": {},
   "outputs": [],
   "source": [
    "targets = df['music_genre']\n",
    "features = df[['lemma_track_name', 'key', 'mode', 'acousticness', 'danceability', 'duration_ms', 'energy',\n",
    "       'instrumentalness', 'liveness', 'loudness', 'speechiness', 'tempo',\n",
    "       'valence', 'len_names', 'after_lemma_empty']]"
   ]
  },
  {
   "cell_type": "code",
   "execution_count": 61,
   "id": "9e165e8b",
   "metadata": {},
   "outputs": [],
   "source": [
    "# определим слова в англ. языке которые не несут смысловой нагрузки, чтобы трасформер их не учитывал\n",
    "stopwords = list(nltk_stopwords.words('english'))"
   ]
  },
  {
   "cell_type": "markdown",
   "id": "a68ad65e",
   "metadata": {},
   "source": [
    "Я попробую создать еще признаки и посмотрю что мне даст косинусное расстояние"
   ]
  },
  {
   "cell_type": "code",
   "execution_count": 62,
   "id": "0613e78f",
   "metadata": {},
   "outputs": [
    {
     "data": {
      "text/plain": [
       "(20394, 20394)"
      ]
     },
     "execution_count": 62,
     "metadata": {},
     "output_type": "execute_result"
    }
   ],
   "source": [
    "selected_data = df[['acousticness', 'danceability', 'duration_ms', 'energy', 'instrumentalness', \n",
    "                      'liveness', 'loudness', 'speechiness', 'tempo', 'valence']]\n",
    "\n",
    "# масштабирование данных (нормализация)\n",
    "selected_data = (selected_data - selected_data.mean()) / selected_data.std()\n",
    "\n",
    "# преобразование столбца selected_data в двухмерный массив\n",
    "selected_data_array = selected_data.values\n",
    "\n",
    "# вычисление косинусного расстояния между всеми парами признаков\n",
    "distances = pdist(selected_data_array, metric='cosine')\n",
    "\n",
    "# преобразование distances в квадратную матрицу\n",
    "dist_matrix = squareform(distances)\n",
    "\n",
    "# вывод результатов\n",
    "dist_matrix.shape"
   ]
  },
  {
   "cell_type": "markdown",
   "id": "3f56e504",
   "metadata": {},
   "source": [
    "Я тестировал множество признаков, в целом они не дают большого прироста на модели, я выбрал те которые лучше всего бустят модели"
   ]
  },
  {
   "cell_type": "code",
   "execution_count": 63,
   "id": "753fd7c3",
   "metadata": {},
   "outputs": [],
   "source": [
    "# создание нового столбца distances\n",
    "df['distances_0'] = dist_matrix[0]\n",
    "df['distances_2'] = dist_matrix[2]\n",
    "\n",
    "# выбор нужных признаков\n",
    "features = df[['lemma_track_name', 'key', 'mode', 'after_lemma_empty', 'acousticness', 'danceability', 'duration_ms', 'energy',\n",
    "               'instrumentalness', 'liveness', 'loudness', 'speechiness', 'tempo', 'valence', 'len_names', 'distances_0'\n",
    "               ,'distances_2']]\n",
    "targets = df['music_genre']"
   ]
  },
  {
   "cell_type": "markdown",
   "id": "a54b405a",
   "metadata": {},
   "source": [
    "Я получу списки признаков чтобы мне было удобнее проводить тесты с моделями"
   ]
  },
  {
   "cell_type": "code",
   "execution_count": 64,
   "id": "32897e82",
   "metadata": {
    "scrolled": true
   },
   "outputs": [
    {
     "name": "stdout",
     "output_type": "stream",
     "text": [
      "['lemma_track_name', 'key', 'mode', 'after_lemma_empty']\n",
      "['acousticness', 'danceability', 'duration_ms', 'energy', 'instrumentalness', 'liveness', 'loudness', 'speechiness', 'tempo', 'valence', 'len_names', 'distances_0', 'distances_2']\n"
     ]
    }
   ],
   "source": [
    "oe_features = features.select_dtypes(include='object').columns.to_list()\n",
    "print(oe_features) # категориальные признаки для OE\n",
    "\n",
    "numeric_features = features.select_dtypes(exclude='object').columns.to_list()\n",
    "print(numeric_features) # числовые признаки"
   ]
  },
  {
   "cell_type": "markdown",
   "id": "ecff356c",
   "metadata": {},
   "source": [
    "Разделим выборку на тренировочную и тестовую. "
   ]
  },
  {
   "cell_type": "code",
   "execution_count": 65,
   "id": "81588d84",
   "metadata": {},
   "outputs": [
    {
     "name": "stdout",
     "output_type": "stream",
     "text": [
      "(16315, 17) (4079, 17)\n"
     ]
    }
   ],
   "source": [
    "features_train, features_test, target_train, target_test = train_test_split(features, targets, test_size=0.20, \n",
    "                                                                            random_state=12345, stratify=targets)\n",
    "print(features_train.shape,features_test.shape)"
   ]
  },
  {
   "cell_type": "markdown",
   "id": "681eb027",
   "metadata": {},
   "source": [
    "## Логистическая регрессия\n",
    "\n",
    "В моделях машинного обучения я сразу буду применять конвейер с кросс валидацией для того чтобы обеспечить наиболее корректную трансформацию данных и получение наиболее точной метрики на кросс валидации. \n",
    "\n",
    "Для текстовых данных я передам в трасформет векторизатор, для числовых я передам скалер, а для категриальных OrdinalEncoder, так как категориальных признаков слишком много. \n",
    "\n",
    "Я пробовал убирать коллинеарные признаки, но это ухудшало метрику. "
   ]
  },
  {
   "cell_type": "code",
   "execution_count": 66,
   "id": "bd7488e3",
   "metadata": {},
   "outputs": [
    {
     "name": "stdout",
     "output_type": "stream",
     "text": [
      "Лучшие гиперпараметры:  {'logisticregression__C': 0.4}\n",
      "Лучший результат accuracy:  0.4425373050392753\n"
     ]
    }
   ],
   "source": [
    "column_transformer = make_column_transformer(\n",
    "    (TfidfVectorizer(), 'lemma_track_name' ),\n",
    "    (StandardScaler(), numeric_features),\n",
    "    (OrdinalEncoder(), ['key', 'mode', 'after_lemma_empty'], target_train),\n",
    "    remainder='passthrough'\n",
    ")\n",
    "\n",
    "linear_reg = make_pipeline(\n",
    "    column_transformer,\n",
    "    LogisticRegression(multi_class='multinomial', solver='lbfgs', random_state=12345, max_iter=1200)\n",
    ")\n",
    "\n",
    "grid_space = {\n",
    "    'logisticregression__C': [0.4],\n",
    "}\n",
    "\n",
    "grid = GridSearchCV(linear_reg, scoring='accuracy', param_grid=grid_space, cv=3, n_jobs=-1)\n",
    "\n",
    "grid.fit(features_train, target_train)\n",
    "\n",
    "print('Лучшие гиперпараметры: ', grid.best_params_)\n",
    "print('Лучший результат accuracy: ', grid.best_score_)"
   ]
  },
  {
   "cell_type": "markdown",
   "id": "1a6e52ee",
   "metadata": {},
   "source": [
    "Я пробовал разные гиперпараметры, в итоге лучший вариант был такой.\n",
    "Лучший результат accuracy:  0.44"
   ]
  },
  {
   "cell_type": "markdown",
   "id": "4ac89236",
   "metadata": {},
   "source": [
    "Интересно что с применением стоп слов модель только хуже работает. \n",
    "\n",
    "## Случайный лес"
   ]
  },
  {
   "cell_type": "code",
   "execution_count": 67,
   "id": "6ff77b42",
   "metadata": {},
   "outputs": [
    {
     "name": "stdout",
     "output_type": "stream",
     "text": [
      "Лучшие гиперпараметры:  {'randomforestclassifier__max_depth': 90, 'randomforestclassifier__n_estimators': 360}\n",
      "Лучший результат accuracy:  0.4861784329193175\n",
      "CPU times: total: 2min 50s\n",
      "Wall time: 4min 48s\n"
     ]
    }
   ],
   "source": [
    "%%time\n",
    "\n",
    "column_transformer = make_column_transformer(\n",
    "    (TfidfVectorizer(), 'lemma_track_name' ),\n",
    "    (StandardScaler(), numeric_features),\n",
    "    (OrdinalEncoder(), ['key', 'mode', 'after_lemma_empty'], target_train),\n",
    "    remainder='passthrough'\n",
    ")\n",
    "random_for = make_pipeline(\n",
    "    column_transformer,\n",
    "    RandomForestClassifier(random_state=12345)\n",
    ")\n",
    "grid_space = {\n",
    "   'randomforestclassifier__max_depth':[x for x in range(80,91,5)], \n",
    "   'randomforestclassifier__n_estimators':[x for x in range(300,361,20)]\n",
    "}\n",
    "\n",
    "grid = GridSearchCV(random_for, scoring='accuracy', param_grid=grid_space, cv=2, n_jobs=-1)\n",
    "\n",
    "grid.fit(features_train, target_train)\n",
    "\n",
    "print('Лучшие гиперпараметры: ', grid.best_params_)\n",
    "print('Лучший результат accuracy: ', grid.best_score_)"
   ]
  },
  {
   "cell_type": "markdown",
   "id": "d55840c7",
   "metadata": {},
   "source": [
    "Лучший результат accuracy:  0.49 для случайного леса. Я так же использовал разные гиперпараметры и подобрал эти как лучший вариант. \n",
    "\n",
    "## Градиентный бустинг над решающими деревьями CatBoost\n",
    "\n",
    "Сначала я посмотрю как градиентный бустинг сам обработает признаки. Мы знаем, что он умеет самостоятельно работать с численными признаками и категориальными. В данной модели я уже проставил лучшие гиперпараметры, которые заведомом подобрал. "
   ]
  },
  {
   "cell_type": "code",
   "execution_count": 68,
   "id": "86a32587",
   "metadata": {},
   "outputs": [
    {
     "name": "stdout",
     "output_type": "stream",
     "text": [
      "Лучшие гиперпараметры:  {'depth': 6, 'iterations': 2700, 'l2_leaf_reg': 2, 'learning_rate': 0.1, 'verbose': False}\n",
      "Лучший результат accuracy:  0.46552363971339605\n",
      "CPU times: total: 16min 27s\n",
      "Wall time: 4min 44s\n"
     ]
    }
   ],
   "source": [
    "%%time\n",
    "\n",
    "cat_model = CatBoostClassifier(cat_features=['key', 'mode', 'after_lemma_empty'], task_type='GPU', random_state=12345)\n",
    "grid_space = {\n",
    "    'learning_rate':[0.1],\n",
    "    'verbose':[False],\n",
    "    'l2_leaf_reg': [2],\n",
    "    'depth': [6],\n",
    "    'iterations': [2700]\n",
    "}\n",
    "\n",
    "grid = GridSearchCV(cat_model, scoring='accuracy', param_grid=grid_space, cv=10)\n",
    "\n",
    "grid.fit(features_train[['key', 'mode', 'after_lemma_empty', 'acousticness', 'danceability', 'duration_ms', 'energy', \n",
    "'instrumentalness', 'liveness', 'loudness', 'speechiness', 'tempo', 'valence', 'len_names', 'distances_0', 'distances_2']], target_train)\n",
    "catboost_accuracy = grid.best_score_\n",
    "\n",
    "print('Лучшие гиперпараметры: ', grid.best_params_)\n",
    "print('Лучший результат accuracy: ', catboost_accuracy)"
   ]
  },
  {
   "cell_type": "markdown",
   "id": "65a5ddd8",
   "metadata": {},
   "source": [
    "Оценим важность признаков для лучшей модели:"
   ]
  },
  {
   "cell_type": "code",
   "execution_count": 69,
   "id": "1265a80f",
   "metadata": {},
   "outputs": [
    {
     "data": {
      "text/plain": [
       "array([6.922275  , 3.05028221, 0.37188805, 7.78113719, 8.78841365,\n",
       "       6.99897596, 5.86216631, 8.93741229, 5.76227996, 6.83216719,\n",
       "       9.50457284, 5.42896421, 7.61774016, 5.68259961, 5.12206132,\n",
       "       5.33706406])"
      ]
     },
     "execution_count": 69,
     "metadata": {},
     "output_type": "execute_result"
    }
   ],
   "source": [
    "best_model = grid.best_estimator_ # получение наилучшей модели\n",
    "\n",
    "best_model.feature_importances_ # получение важности признаков"
   ]
  },
  {
   "cell_type": "code",
   "execution_count": 70,
   "id": "5b763b3b",
   "metadata": {
    "scrolled": true
   },
   "outputs": [
    {
     "data": {
      "text/plain": [
       "{'key': 7.46324723,\n",
       " 'mode': 1.53329931,\n",
       " 'after_lemma_empty': 0.36722972,\n",
       " 'acousticness': 7.59478633,\n",
       " 'danceability': 8.92213178,\n",
       " 'duration_ms': 7.12052424,\n",
       " 'energy': 6.20755959,\n",
       " 'instrumentalness': 9.09876623,\n",
       " 'liveness': 5.83429755,\n",
       " 'loudness': 6.83918834,\n",
       " 'speechiness': 9.54579045,\n",
       " 'tempo': 5.4048219,\n",
       " 'valence': 7.6118903,\n",
       " 'len_names': 6.01649021,\n",
       " 'distances_0': 5.04976037,\n",
       " 'distances_2': 5.39021647}"
      ]
     },
     "execution_count": 70,
     "metadata": {},
     "output_type": "execute_result"
    }
   ],
   "source": [
    "importances = np.array([6.922275  , 3.05028221, 0.37188805, 7.78113719, 8.78841365,\n",
    "       6.99897596, 5.86216631, 8.93741229, 5.76227996, 6.83216719,\n",
    "       9.50457284, 5.42896421, 7.61774016, 5.68259961, 5.12206132,\n",
    "       5.33706406])\n",
    "feature_names = np.array(['key', 'mode', 'after_lemma_empty', 'acousticness', 'danceability', 'duration_ms', 'energy', \n",
    "'instrumentalness', 'liveness', 'loudness', 'speechiness', 'tempo', 'valence', 'len_names', 'distances_0', 'distances_2'])\n",
    "\n",
    "feature_importances = dict(zip(feature_names, importances)) # создание словаря с названиями признаков и их значениями важности\n",
    "\n",
    "feature_importances"
   ]
  },
  {
   "cell_type": "markdown",
   "id": "07e876ce",
   "metadata": {},
   "source": [
    "Мы видим что важность распределена довольно равномерно и нет каких то наиболее сильных признаков. Кроме того искусственные признаки показывают хорошее влияние по сравнению с другими. \n",
    "\n",
    "Я намеренно оценивал силу признаков на лучшей модели катубст отдельно, так как при подключении текста веса признаков уходят в каждое значение слов названий треков и метрика становится бесполезной. "
   ]
  },
  {
   "cell_type": "code",
   "execution_count": 71,
   "id": "0ee1d3bb",
   "metadata": {},
   "outputs": [
    {
     "name": "stdout",
     "output_type": "stream",
     "text": [
      "Лучшие гиперпараметры:  {'catboostclassifier__depth': 6, 'catboostclassifier__iterations': 2700, 'catboostclassifier__l2_leaf_reg': 2, 'catboostclassifier__learning_rate': 0.1, 'catboostclassifier__verbose': False}\n",
      "Лучший результат accuracy:  0.5046271834914223\n",
      "CPU times: total: 12min 43s\n",
      "Wall time: 5min 17s\n"
     ]
    }
   ],
   "source": [
    "%%time\n",
    "\n",
    "column_transformer = make_column_transformer(\n",
    "    (TfidfVectorizer(), 'lemma_track_name' ),\n",
    "    (StandardScaler(), numeric_features),\n",
    "    (OrdinalEncoder(), ['key', 'mode', 'after_lemma_empty'], target_train),\n",
    "    remainder='passthrough'\n",
    ")\n",
    "cat_model = make_pipeline(\n",
    "    column_transformer,\n",
    "    CatBoostClassifier(task_type='GPU', random_state=12345)\n",
    ")\n",
    "grid_space = {\n",
    "    'catboostclassifier__learning_rate':[0.1],\n",
    "    'catboostclassifier__verbose':[False],\n",
    "    'catboostclassifier__l2_leaf_reg': [2],\n",
    "    'catboostclassifier__depth': [6],\n",
    "    'catboostclassifier__iterations': [2700]\n",
    "}\n",
    "\n",
    "grid = GridSearchCV(cat_model, scoring='accuracy', param_grid=grid_space, cv=10)\n",
    "\n",
    "grid.fit(features_train, target_train)\n",
    "catboost_accuracy = grid.best_score_\n",
    "\n",
    "print('Лучшие гиперпараметры: ', grid.best_params_)\n",
    "print('Лучший результат accuracy: ', catboost_accuracy)"
   ]
  },
  {
   "cell_type": "markdown",
   "id": "2bcee802",
   "metadata": {},
   "source": [
    "Градиентный бустинг показал наилучшую эффективность с результатом в accuracy 0.51 и это лучший результат."
   ]
  },
  {
   "cell_type": "markdown",
   "id": "0139f4f3",
   "metadata": {},
   "source": [
    "Можем приступить к тестированию. \n",
    "\n",
    "## Тестовые данные\n",
    "\n",
    "Посмотрим результат на тестовых данных"
   ]
  },
  {
   "cell_type": "code",
   "execution_count": 72,
   "id": "65eedd76",
   "metadata": {},
   "outputs": [],
   "source": [
    "predictions = grid.best_estimator_.predict(features_test)"
   ]
  },
  {
   "cell_type": "code",
   "execution_count": 73,
   "id": "393bf274",
   "metadata": {},
   "outputs": [
    {
     "data": {
      "text/plain": [
       "0.49987742093650406"
      ]
     },
     "execution_count": 73,
     "metadata": {},
     "output_type": "execute_result"
    }
   ],
   "source": [
    "accuracy_score(target_test, predictions)"
   ]
  },
  {
   "cell_type": "markdown",
   "id": "0d97c44d",
   "metadata": {},
   "source": [
    "Таким образом мы получаем результат accuracy 0.5 для тестовой выборки и можем считать этот результат успешным для текущего набора данных. "
   ]
  },
  {
   "cell_type": "markdown",
   "id": "8d01d869",
   "metadata": {},
   "source": [
    "## Общий вывод\n",
    "\n",
    "Перед нами стояла задача разработать модель, позволяющую классифицировать музыкальные произведения по жанрам.\n",
    "\n",
    "Для достижения поставленной цели я следовал следующему плану исследования:\n",
    "- загрузка и ознакомление с данными,\n",
    "- предварительная обработка,\n",
    "- полноценный разведочный анализ,\n",
    "- разработка новых синтетических признаков,\n",
    "- проверка на мультиколлинеарность,\n",
    "- отбор финального набора обучающих признаков,\n",
    "- выбор и обучение моделей,\n",
    "- итоговая оценка качества предсказания лучшей модели,\n",
    "- анализ важности ее признаков.\n",
    "\n",
    "Сначала мы загрузили и просмотрели данные. Я осмотрел в признаки по отдельности и оценил распределние каждого. В данных были пропуски и выбросы.\n",
    "\n",
    "Далее я приступил к предобработке данных. Я посмотрел как распределены все признаки, я пришел к выводу, что самые неадекватные значения, это песни с очень маленьки значением длины трека, я заменил их на медианное значение. Во время анализа данных я обратил внимание, что часть названий имеют больше количество слов. Я полагаю, что например в классических композиция обычно указывают много слов, поэтому я создал новый признак по длинне знаков в имени. Затем я построил матрицу корреляций, чтобы посомтреть какие зависимости у признаков. Матрица показала что в целом признаки не сильно зависимы от целевого, но есть несколько ключевых. Я заполнил порпуски в mode модой по key так как это единственный признак с которым он коллерует,а в tempo медианным значением по коррелирующим признакам. Заполнил пропуски в столбце 'tempo' с использованием медианного значения danceability, energy, acousticness. Таким образом я устранил все пропущенные значения.\n",
    "\n",
    "Далее я сформировал гипотизу что возможно названия каким то образом влияют на жанр. Поэтому я решил провести лемматизацию и провел операции по преобразованию слов названий песен в вектора. Во время этого преобразования я использовал библиотеку английского языка, поэтому во многих строках где раньше были иероглифы образовались пропуски. Таким образом я получил новый признак который давал сильную метку на Anime. Так же в поиске как найти еще признаки я провел инженеринг с косинусным расстоянием наиболее сильных признаков. Таким образом я создал еще нельсколько признаков.\n",
    "\n",
    "Я проверил данные на мультиколлениарность в моделях машинного обучения, но отрасывание признаков ухудшало скор.\n",
    "\n",
    "На этапе машинного обучения я принял решение что буду работать с логистической регрессией, случайным лесом и градиентным бустингом над решающим лесом. Для того чтобы выполнить наиболее качественный анализ я использовал конвейеры, а так же кросс валидацию. Я получил следующие результаты после подбора гиперпараметров:\n",
    "- лигистическая регрессия accuracy: 0.44\n",
    "- случайный лес accuracy: 0.49\n",
    "- catboost accuracy: 0.51\n",
    "\n",
    "Так же я получил наиболее важные признаки для лучшей модели и сделал вывод, что важность распределена достаточно равномерно. И так же я могу отметить что искуственные признаки показывают одни из лучших результатов, что говорит о пользе работы. \n",
    "\n",
    "На тестовой выборке я получил результат accuracy 0.5, таким образом могу считать, что успешно выполнил задание. "
   ]
  }
 ],
 "metadata": {
  "kernelspec": {
   "display_name": "Python 3 (ipykernel)",
   "language": "python",
   "name": "python3"
  },
  "language_info": {
   "codemirror_mode": {
    "name": "ipython",
    "version": 3
   },
   "file_extension": ".py",
   "mimetype": "text/x-python",
   "name": "python",
   "nbconvert_exporter": "python",
   "pygments_lexer": "ipython3",
   "version": "3.10.9"
  }
 },
 "nbformat": 4,
 "nbformat_minor": 5
}
